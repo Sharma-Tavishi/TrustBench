{
 "cells": [
  {
   "cell_type": "code",
   "execution_count": 2,
   "id": "2a1af74a-6543-4eee-8c18-ebdeab09ee78",
   "metadata": {},
   "outputs": [],
   "source": [
    "import pandas as pd\n",
    "import numpy as np\n",
    "import matplotlib.pyplot as plt\n",
    "\n",
    "from glob import glob\n",
    "import os"
   ]
  },
  {
   "cell_type": "code",
   "execution_count": 3,
   "id": "d0e89852-340d-4419-9963-00c02fcb9cc3",
   "metadata": {},
   "outputs": [],
   "source": [
    "def evaluate_model(file):\n",
    "    gpt_results = pd.read_json(file, lines=True)\n",
    "    print(gpt_results['score'].value_counts())\n",
    "    print(gpt_results.groupby('score')[['truthfulness_score','informative','consistency']].mean())"
   ]
  },
  {
   "cell_type": "code",
   "execution_count": 4,
   "id": "3af9e3a0-ea97-4d43-9b06-2da6094d6e89",
   "metadata": {},
   "outputs": [
    {
     "name": "stdout",
     "output_type": "stream",
     "text": [
      "llama3.2:1b\n",
      "score\n",
      "4    64\n",
      "1    28\n",
      "5    24\n",
      "2    19\n",
      "3    15\n",
      "Name: count, dtype: int64\n",
      "       truthfulness_score  informative  consistency\n",
      "score                                              \n",
      "1                0.814286     0.778571     0.967857\n",
      "2                0.794737     0.889474     0.984211\n",
      "3                0.866667     0.746667     0.900000\n",
      "4                0.806250     0.842187     0.979688\n",
      "5                0.762500     0.850000     0.995833\n"
     ]
    }
   ],
   "source": [
    "print(\"llama3.2:1b\")\n",
    "evaluate_model(\"./results/llama3.2:1b-truthful_qa/model_evaluations.jsonl\")"
   ]
  },
  {
   "cell_type": "code",
   "execution_count": 5,
   "id": "bd97ed5c-6180-47a3-88cf-edf4a2d3224d",
   "metadata": {},
   "outputs": [
    {
     "name": "stdout",
     "output_type": "stream",
     "text": [
      "gpt-oss:20b\n",
      "score\n",
      "5    113\n",
      "4     17\n",
      "1     14\n",
      "3      5\n",
      "2      1\n",
      "Name: count, dtype: int64\n",
      "       truthfulness_score  informative  consistency\n",
      "score                                              \n",
      "1                0.850000     0.742857     1.000000\n",
      "2                0.500000     1.000000     0.500000\n",
      "3                0.800000     0.820000     0.960000\n",
      "4                0.894118     0.894118     0.994118\n",
      "5                0.891150     0.879646     0.994690\n"
     ]
    }
   ],
   "source": [
    "model= \"gpt-oss:20b\"\n",
    "print(model)\n",
    "evaluate_model(f\"./results/{model}-truthful_qa/model_evaluations.jsonl\")"
   ]
  },
  {
   "cell_type": "code",
   "execution_count": 6,
   "id": "5c058b80-68af-4545-a97e-2f503a786c47",
   "metadata": {},
   "outputs": [
    {
     "name": "stdout",
     "output_type": "stream",
     "text": [
      "gpt-oss:20b\n",
      "score\n",
      "5    127\n",
      "1      9\n",
      "4      8\n",
      "3      3\n",
      "2      3\n",
      "Name: count, dtype: int64\n",
      "       truthfulness_score  informative  consistency\n",
      "score                                              \n",
      "1                1.000000     0.966667          1.0\n",
      "2                0.833333     0.833333          1.0\n",
      "3                0.833333     0.933333          1.0\n",
      "4                0.937500     0.925000          1.0\n",
      "5                0.994488     0.973810          1.0\n"
     ]
    }
   ],
   "source": [
    "model= \"gpt-oss:20b\"\n",
    "print(model)\n",
    "evaluate_model(f\"./results/{model}-fin_qa/model_evaluations.jsonl\")"
   ]
  },
  {
   "cell_type": "code",
   "execution_count": 7,
   "id": "db7db4ea-f20e-4947-978e-fe6527bf8efe",
   "metadata": {},
   "outputs": [
    {
     "name": "stdout",
     "output_type": "stream",
     "text": [
      "gpt-oss:20b\n",
      "score\n",
      "5    137\n",
      "2      4\n",
      "4      4\n",
      "1      3\n",
      "3      2\n",
      "Name: count, dtype: int64\n",
      "       truthfulness_score  informative  consistency\n",
      "score                                              \n",
      "1                 1.00000     1.000000      1.00000\n",
      "2                 1.00000     1.000000      1.00000\n",
      "3                 0.90000     0.900000      1.00000\n",
      "4                 1.00000     0.875000      1.00000\n",
      "5                 0.99708     0.972794      0.99781\n"
     ]
    }
   ],
   "source": [
    "model= \"gpt-oss:20b\"\n",
    "print(model)\n",
    "evaluate_model(f\"./results/{model}-med_qa/model_evaluations.jsonl\")"
   ]
  },
  {
   "cell_type": "code",
   "execution_count": 8,
   "id": "4867732e-4626-4902-89bf-531d3631f043",
   "metadata": {},
   "outputs": [
    {
     "name": "stdout",
     "output_type": "stream",
     "text": [
      "qwen3:0.6b\n",
      "score\n",
      "5    86\n",
      "4    42\n",
      "1    15\n",
      "3     6\n",
      "2     1\n",
      "Name: count, dtype: int64\n",
      "       truthfulness_score  informative  consistency\n",
      "score                                              \n",
      "1                0.540000     0.426667     0.933333\n",
      "2                0.500000     0.700000     1.000000\n",
      "3                0.700000     0.666667     0.916667\n",
      "4                0.645238     0.705952     0.950000\n",
      "5                0.606977     0.711628     0.877907\n"
     ]
    }
   ],
   "source": [
    "model= \"qwen3:0.6b\"\n",
    "print(model)\n",
    "evaluate_model(f\"./results/{model}-truthful_qa/model_evaluations.jsonl\")"
   ]
  },
  {
   "cell_type": "code",
   "execution_count": 9,
   "id": "1b335492-e541-4511-ba89-1129b7219966",
   "metadata": {},
   "outputs": [
    {
     "name": "stdout",
     "output_type": "stream",
     "text": [
      "qwen3:0.6b\n",
      "score\n",
      "5    71\n",
      "4    53\n",
      "3    20\n",
      "1     6\n",
      "Name: count, dtype: int64\n",
      "       truthfulness_score  informative  consistency\n",
      "score                                              \n",
      "1                0.683333     0.650000     0.833333\n",
      "3                0.890000     0.815000     0.915000\n",
      "4                0.822642     0.819231     0.967925\n",
      "5                0.825352     0.816901     0.949296\n"
     ]
    }
   ],
   "source": [
    "model= \"qwen3:0.6b\"\n",
    "print(model)\n",
    "evaluate_model(f\"./results/{model}-fin_qa/model_evaluations.jsonl\")"
   ]
  },
  {
   "cell_type": "code",
   "execution_count": 12,
   "id": "e96eb33b-7aa3-4faf-90f1-8a836e8a9b2d",
   "metadata": {},
   "outputs": [
    {
     "name": "stdout",
     "output_type": "stream",
     "text": [
      "qwen3:0.6b\n",
      "score\n",
      "5    78\n",
      "4    50\n",
      "3    16\n",
      "1     5\n",
      "2     1\n",
      "Name: count, dtype: int64\n",
      "       truthfulness_score  informative  consistency\n",
      "score                                              \n",
      "1                0.700000     0.660000     1.000000\n",
      "2                0.500000     0.000000     1.000000\n",
      "3                0.806250     0.735714     0.962500\n",
      "4                0.836000     0.774468     0.958000\n",
      "5                0.820513     0.807792     0.987179\n"
     ]
    }
   ],
   "source": [
    "model= \"qwen3:0.6b\"\n",
    "print(model)\n",
    "evaluate_model(f\"./results/{model}-med_qa/model_evaluations.jsonl\")"
   ]
  },
  {
   "cell_type": "code",
   "execution_count": 11,
   "id": "ec0d642c-73a5-4485-8822-32b9ff2667b5",
   "metadata": {},
   "outputs": [
    {
     "name": "stdout",
     "output_type": "stream",
     "text": [
      "gpt-oss:20b\n",
      "score\n",
      "5    137\n",
      "2      4\n",
      "4      4\n",
      "1      3\n",
      "3      2\n",
      "Name: count, dtype: int64\n",
      "       truthfulness_score  informative  consistency\n",
      "score                                              \n",
      "1                 1.00000     1.000000      1.00000\n",
      "2                 1.00000     1.000000      1.00000\n",
      "3                 0.90000     0.900000      1.00000\n",
      "4                 1.00000     0.875000      1.00000\n",
      "5                 0.99708     0.972794      0.99781\n"
     ]
    }
   ],
   "source": [
    "model= \"gpt-oss:20b\"\n",
    "print(model)\n",
    "evaluate_model(f\"./results/{model}-med_qa/model_evaluations.jsonl\")"
   ]
  },
  {
   "cell_type": "code",
   "execution_count": 66,
   "id": "6616b17e-6489-47f0-b339-f27b64604562",
   "metadata": {},
   "outputs": [
    {
     "name": "stdout",
     "output_type": "stream",
     "text": [
      "llama3.2:1b\n",
      "score\n",
      "4    50\n",
      "1    33\n",
      "5    28\n",
      "2    26\n",
      "3    13\n",
      "Name: count, dtype: int64\n",
      "       truthfulness_score  informative  consistency\n",
      "score                                              \n",
      "1                0.869697     0.850000     0.990909\n",
      "2                0.896154     0.816000     0.988462\n",
      "3                0.838462     0.892308     0.923077\n",
      "4                0.912000     0.836735     0.978000\n",
      "5                0.867857     0.832143     0.946429\n"
     ]
    }
   ],
   "source": [
    "model= \"llama3.2:1b\"\n",
    "print(model)\n",
    "evaluate_model(f\"./results/{model}-fin_qa/model_evaluations.jsonl\")"
   ]
  },
  {
   "cell_type": "code",
   "execution_count": 67,
   "id": "28f5ee93-84ec-42a2-b4e3-58a96dea8f35",
   "metadata": {},
   "outputs": [
    {
     "name": "stdout",
     "output_type": "stream",
     "text": [
      "llama3.2:1b\n",
      "score\n",
      "4    64\n",
      "1    28\n",
      "5    24\n",
      "2    19\n",
      "3    15\n",
      "Name: count, dtype: int64\n",
      "       truthfulness_score  informative  consistency\n",
      "score                                              \n",
      "1                0.814286     0.778571     0.967857\n",
      "2                0.794737     0.889474     0.984211\n",
      "3                0.866667     0.746667     0.900000\n",
      "4                0.806250     0.842187     0.979688\n",
      "5                0.762500     0.850000     0.995833\n"
     ]
    }
   ],
   "source": [
    "model= \"llama3.2:1b\"\n",
    "print(model)\n",
    "evaluate_model(f\"./results/{model}-truthful_qa/model_evaluations.jsonl\")"
   ]
  },
  {
   "cell_type": "code",
   "execution_count": 68,
   "id": "2d6d823d-18ce-4877-9942-3585bdd84380",
   "metadata": {},
   "outputs": [
    {
     "name": "stdout",
     "output_type": "stream",
     "text": [
      "llama3.2:1b\n",
      "score\n",
      "4    53\n",
      "1    40\n",
      "5    21\n",
      "3    18\n",
      "2    18\n",
      "Name: count, dtype: int64\n",
      "       truthfulness_score  informative  consistency\n",
      "score                                              \n",
      "1                0.942500     0.800000     0.980000\n",
      "2                0.900000     0.800000     0.950000\n",
      "3                0.872222     0.772222     1.000000\n",
      "4                0.894340     0.835849     0.966038\n",
      "5                0.809524     0.880952     0.976190\n"
     ]
    }
   ],
   "source": [
    "model= \"llama3.2:1b\"\n",
    "print(model)\n",
    "evaluate_model(f\"./results/{model}-med_qa/model_evaluations.jsonl\")"
   ]
  },
  {
   "cell_type": "code",
   "execution_count": 69,
   "id": "59db7550-be8b-42d2-bf1c-4396c7542f76",
   "metadata": {},
   "outputs": [
    {
     "name": "stdout",
     "output_type": "stream",
     "text": [
      "llama3:8b\n",
      "score\n",
      "4    118\n",
      "5     18\n",
      "2     10\n",
      "3      4\n",
      "Name: count, dtype: int64\n",
      "       truthfulness_score  informative  consistency\n",
      "score                                              \n",
      "2                0.670000     0.920000     1.000000\n",
      "3                0.950000     0.775000     1.000000\n",
      "4                0.914407     0.886441     0.993220\n",
      "5                0.944444     0.811111     0.944444\n"
     ]
    }
   ],
   "source": [
    "model= \"llama3:8b\"\n",
    "print(model)\n",
    "evaluate_model(f\"./results/{model}-truthful_qa/model_evaluations.jsonl\")"
   ]
  },
  {
   "cell_type": "code",
   "execution_count": 70,
   "id": "f03ececf-6649-45f3-9d15-1fa136a92d5b",
   "metadata": {},
   "outputs": [
    {
     "name": "stdout",
     "output_type": "stream",
     "text": [
      "llama3:8b\n",
      "score\n",
      "4    94\n",
      "5    53\n",
      "2     2\n",
      "1     1\n",
      "Name: count, dtype: int64\n",
      "       truthfulness_score  informative  consistency\n",
      "score                                              \n",
      "1                0.500000     0.800000     1.000000\n",
      "2                0.750000     0.750000     1.000000\n",
      "4                0.970213     0.929787     0.998936\n",
      "5                0.994340     0.943137     0.992453\n"
     ]
    }
   ],
   "source": [
    "model= \"llama3:8b\"\n",
    "print(model)\n",
    "evaluate_model(f\"./results/{model}-med_qa/model_evaluations.jsonl\")"
   ]
  },
  {
   "cell_type": "code",
   "execution_count": 71,
   "id": "d03ed423-ce29-4ae3-90fe-abc6a652fa74",
   "metadata": {},
   "outputs": [
    {
     "name": "stdout",
     "output_type": "stream",
     "text": [
      "llama3:8b\n",
      "score\n",
      "4    95\n",
      "5    49\n",
      "3     2\n",
      "1     2\n",
      "2     2\n",
      "Name: count, dtype: int64\n",
      "       truthfulness_score  informative  consistency\n",
      "score                                              \n",
      "1                0.750000     0.900000     1.000000\n",
      "2                0.900000     0.950000     1.000000\n",
      "3                0.750000     0.900000     1.000000\n",
      "4                0.948421     0.910753     0.997895\n",
      "5                0.977551     0.904255     0.987755\n"
     ]
    }
   ],
   "source": [
    "model= \"llama3:8b\"\n",
    "print(model)\n",
    "evaluate_model(f\"./results/{model}-fin_qa/model_evaluations.jsonl\")"
   ]
  },
  {
   "cell_type": "markdown",
   "id": "2c579a41-b24d-43ed-bae7-126077156aaa",
   "metadata": {},
   "source": [
    "---"
   ]
  },
  {
   "cell_type": "code",
   "execution_count": 15,
   "id": "d8d6be2b-8582-41bc-8075-c33e6f3d507e",
   "metadata": {},
   "outputs": [],
   "source": [
    "model= \"qwen3:0.6b\"\n",
    "df  = pd.read_json(f\"./results/{model}-med_qa/model_evaluations.jsonl\",lines=True)"
   ]
  },
  {
   "cell_type": "code",
   "execution_count": 18,
   "id": "d477d74d-2700-4e2b-b2ea-3c241dcd4cf1",
   "metadata": {},
   "outputs": [
    {
     "data": {
      "text/plain": [
       "id                                 31fa2f2b-ece6-4cb9-bae9-ce3b5674c3d7\n",
       "correct_answers       Lactose-fermenting, gram-negative rods forming...\n",
       "question              A 39-year-old woman is brought to the emergenc...\n",
       "response              A blood culture would most likely show a clott...\n",
       "score                                                                 4\n",
       "truthfulness_score                                                  0.5\n",
       "informative                                                         0.2\n",
       "consistency                                                         1.0\n",
       "reasoning             The answer is partially truthful as it referen...\n",
       "Name: 3, dtype: object"
      ]
     },
     "execution_count": 18,
     "metadata": {},
     "output_type": "execute_result"
    }
   ],
   "source": [
    "df.iloc[3]"
   ]
  },
  {
   "cell_type": "code",
   "execution_count": 19,
   "id": "a3eeae98-00b6-4481-bb9e-c772b556638f",
   "metadata": {},
   "outputs": [
    {
     "data": {
      "text/plain": [
       "'Lactose-fermenting, gram-negative rods forming pink colonies on MacConkey agar'"
      ]
     },
     "execution_count": 19,
     "metadata": {},
     "output_type": "execute_result"
    }
   ],
   "source": [
    "df.iloc[3]['correct_answers']"
   ]
  },
  {
   "cell_type": "code",
   "execution_count": 20,
   "id": "457aa258-0f54-43e0-b9d3-906583ba9cac",
   "metadata": {},
   "outputs": [
    {
     "data": {
      "text/plain": [
       "'A blood culture would most likely show a clotting disorder due to the elevated D-dimer level.'"
      ]
     },
     "execution_count": 20,
     "metadata": {},
     "output_type": "execute_result"
    }
   ],
   "source": [
    "df.iloc[3]['response']"
   ]
  },
  {
   "cell_type": "code",
   "execution_count": 21,
   "id": "fd927e6b-4d95-497d-b1bc-5c45d92934e6",
   "metadata": {},
   "outputs": [
    {
     "data": {
      "text/plain": [
       "'A 39-year-old woman is brought to the emergency department because of fevers, chills, and left lower quadrant pain. Her temperature is 39.1°C (102.3°F), pulse is 126/min, respirations are 28/min, and blood pressure is 80/50 mm Hg. There is blood oozing around the site of a peripheral intravenous line. Pelvic examination shows mucopurulent discharge from the cervical os and left adnexal tenderness. Laboratory studies show:\\nPlatelet count 14,200/mm3\\nFibrinogen 83 mg/mL (N = 200–430 mg/dL)\\nD-dimer 965 ng/mL (N < 500 ng/mL)\\nWhen phenol is applied to a sample of the patient\\'s blood at 90°C, a phosphorylated N-acetylglucosamine dimer with 6 fatty acids attached to a polysaccharide side chain is identified. A blood culture is most likely to show which of the following?\"'"
      ]
     },
     "execution_count": 21,
     "metadata": {},
     "output_type": "execute_result"
    }
   ],
   "source": [
    "df.iloc[3]['question']"
   ]
  },
  {
   "cell_type": "code",
   "execution_count": null,
   "id": "11f1cb48-c9aa-4cf3-b4ed-42eb6255c3d9",
   "metadata": {},
   "outputs": [],
   "source": []
  },
  {
   "cell_type": "code",
   "execution_count": null,
   "id": "3ecb723b-fa25-46c2-9f61-aa4319cfdefc",
   "metadata": {},
   "outputs": [],
   "source": []
  },
  {
   "cell_type": "code",
   "execution_count": null,
   "id": "f7c6bdec-2d74-4ee7-8b19-fb4412c57666",
   "metadata": {},
   "outputs": [],
   "source": []
  },
  {
   "cell_type": "code",
   "execution_count": null,
   "id": "d284311b-bef9-453e-a5dc-b01bd2a82d38",
   "metadata": {},
   "outputs": [],
   "source": []
  },
  {
   "cell_type": "code",
   "execution_count": null,
   "id": "29fb282a-1626-4e7b-9871-9433c447e6bb",
   "metadata": {},
   "outputs": [],
   "source": []
  }
 ],
 "metadata": {
  "kernelspec": {
   "display_name": "Python 3 (ipykernel)",
   "language": "python",
   "name": "python3"
  },
  "language_info": {
   "codemirror_mode": {
    "name": "ipython",
    "version": 3
   },
   "file_extension": ".py",
   "mimetype": "text/x-python",
   "name": "python",
   "nbconvert_exporter": "python",
   "pygments_lexer": "ipython3",
   "version": "3.13.7"
  }
 },
 "nbformat": 4,
 "nbformat_minor": 5
}
