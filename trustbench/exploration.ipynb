{
 "cells": [
  {
   "cell_type": "code",
   "execution_count": 4,
   "id": "2a1af74a-6543-4eee-8c18-ebdeab09ee78",
   "metadata": {},
   "outputs": [],
   "source": [
    "import pandas as pd\n",
    "import numpy as np\n",
    "import matplotlib.pyplot as plt\n",
    "\n",
    "from glob import glob\n",
    "import os"
   ]
  },
  {
   "cell_type": "code",
   "execution_count": 27,
   "id": "d0e89852-340d-4419-9963-00c02fcb9cc3",
   "metadata": {},
   "outputs": [],
   "source": [
    "def evaluate_model(file):\n",
    "    gpt_results = pd.read_json(file, lines=True)\n",
    "    print(gpt_results['score'].value_counts())\n",
    "    print(gpt_results.groupby('score')[['truthfulness_score','informative','consistency']].mean())"
   ]
  },
  {
   "cell_type": "code",
   "execution_count": 29,
   "id": "3af9e3a0-ea97-4d43-9b06-2da6094d6e89",
   "metadata": {},
   "outputs": [
    {
     "name": "stdout",
     "output_type": "stream",
     "text": [
      "llama3.2:1b\n",
      "score\n",
      "4    6\n",
      "5    2\n",
      "3    1\n",
      "2    1\n",
      "Name: count, dtype: int64\n",
      "       truthfulness_score  informative  consistency\n",
      "score                                              \n",
      "2                1.000000     0.500000     1.000000\n",
      "3                1.000000     0.500000     1.000000\n",
      "4                0.666667     0.866667     0.983333\n",
      "5                0.400000     0.450000     0.500000\n"
     ]
    }
   ],
   "source": [
    "print(\"llama3.2:1b\")\n",
    "evaluate_model(\"./results/llama3.2:1b-truthful_qa/model_evaluations.jsonl\")"
   ]
  },
  {
   "cell_type": "code",
   "execution_count": 30,
   "id": "bd97ed5c-6180-47a3-88cf-edf4a2d3224d",
   "metadata": {},
   "outputs": [
    {
     "name": "stdout",
     "output_type": "stream",
     "text": [
      "gpt-oss:20b\n",
      "score\n",
      "5    7\n",
      "3    2\n",
      "4    1\n",
      "Name: count, dtype: int64\n",
      "       truthfulness_score  informative  consistency\n",
      "score                                              \n",
      "3                0.850000     0.850000          1.0\n",
      "4                0.900000     1.000000          1.0\n",
      "5                0.885714     0.985714          1.0\n"
     ]
    }
   ],
   "source": [
    "model= \"gpt-oss:20b\"\n",
    "print(model)\n",
    "evaluate_model(f\"./results/{model}-truthful_qa/model_evaluations.jsonl\")"
   ]
  },
  {
   "cell_type": "code",
   "execution_count": 32,
   "id": "4867732e-4626-4902-89bf-531d3631f043",
   "metadata": {},
   "outputs": [
    {
     "name": "stdout",
     "output_type": "stream",
     "text": [
      "qwen3:0.6b\n",
      "score\n",
      "5    86\n",
      "4    42\n",
      "1    15\n",
      "3     6\n",
      "2     1\n",
      "Name: count, dtype: int64\n",
      "       truthfulness_score  informative  consistency\n",
      "score                                              \n",
      "1                0.540000     0.426667     0.933333\n",
      "2                0.500000     0.700000     1.000000\n",
      "3                0.700000     0.666667     0.916667\n",
      "4                0.645238     0.705952     0.950000\n",
      "5                0.606977     0.711628     0.877907\n"
     ]
    }
   ],
   "source": [
    "model= \"qwen3:0.6b\"\n",
    "print(model)\n",
    "evaluate_model(f\"./results/{model}-truthful_qa/model_evaluations.jsonl\")"
   ]
  },
  {
   "cell_type": "code",
   "execution_count": null,
   "id": "1b335492-e541-4511-ba89-1129b7219966",
   "metadata": {},
   "outputs": [],
   "source": []
  }
 ],
 "metadata": {
  "kernelspec": {
   "display_name": "Python 3 (ipykernel)",
   "language": "python",
   "name": "python3"
  },
  "language_info": {
   "codemirror_mode": {
    "name": "ipython",
    "version": 3
   },
   "file_extension": ".py",
   "mimetype": "text/x-python",
   "name": "python",
   "nbconvert_exporter": "python",
   "pygments_lexer": "ipython3",
   "version": "3.13.7"
  }
 },
 "nbformat": 4,
 "nbformat_minor": 5
}
