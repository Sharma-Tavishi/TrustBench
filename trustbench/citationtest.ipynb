{
 "cells": [
  {
   "cell_type": "code",
   "execution_count": 2,
   "id": "c9f5fd26",
   "metadata": {},
   "outputs": [],
   "source": [
    "import re"
   ]
  },
  {
   "cell_type": "code",
   "execution_count": null,
   "id": "8327904b",
   "metadata": {},
   "outputs": [],
   "source": [
    "# The format is strictly (title, date, venue).\n",
    "text_to_parse = \"\"\"\n",
    "The initial findings were promising (A Study on Modern Robotics, 2024, IEEE Transactions).\n",
    "However, subsequent work contradicted these results (Advanced AI Systems, 2022, MIT Press).\n",
    "We analyzed a third source (Quantum Computing Basics, 2021, Nature Physics) to reconcile the difference.\n",
    "\"\"\""
   ]
  },
  {
   "cell_type": "code",
   "execution_count": 17,
   "id": "cb43dbde",
   "metadata": {},
   "outputs": [],
   "source": [
    "text_to_parse = \"\"\"Here are some foundational academic papers (in the requested format) about shortest-path algorithms in graphs:\n",
    "\t•\t“A Note on Two Problems in Connexion with Graphs.”, 1959, Numerische Mathematik. \n",
    "\t•\t“On a Routing Problem.”, 1958, Quarterly of Applied Mathematics. \n",
    "\n",
    "If you like, I can pull together a longer list (e.g., 5-10) of key and more recent papers on shortest-path algorithms.\"\"\""
   ]
  },
  {
   "cell_type": "code",
   "execution_count": 20,
   "id": "47d9412d",
   "metadata": {},
   "outputs": [],
   "source": [
    "text_to_parse = \"\"\"Here are some key academic papers you can cite when discussing shortest-path algorithms in graphs, shown in the exact format you requested:\n",
    "\t•\t(A note on two problems in connexion with graphs, 1959, Numerische Mathematik)  ￼\n",
    "\t•\t(On a routing problem, 1958, Quarterly of Applied Mathematics)  ￼\n",
    "\t•\t(Bellman-Ford is optimal for shortest hop-bounded paths, 2022, ESA)  ￼\n",
    "\n",
    "If you like, I can pull together additional recent papers (last 10 years) on shortest-path algorithms (e.g., improved runtimes for special graph classes) with full citations.\"\"\""
   ]
  },
  {
   "cell_type": "code",
   "execution_count": 18,
   "id": "cdcabdab",
   "metadata": {},
   "outputs": [],
   "source": [
    "citation_pattern = r'\\((?P<title1>.*?),\\s*(?P<date1>\\d{4}),\\s*(?P<venue1>.*?)\\)|\"(?P<title2>.*?)\\.”\\s*,\\s*(?P<date2>\\d{4}),\\s*(?P<venue2>.*?)\\.'\n"
   ]
  },
  {
   "cell_type": "code",
   "execution_count": 21,
   "id": "ef3e0f71",
   "metadata": {},
   "outputs": [
    {
     "name": "stdout",
     "output_type": "stream",
     "text": [
      "\n",
      "[Found Citation]\n",
      "Full Text: (A note on two problems in connexion with graphs, 1959, Numerische Mathematik)\n",
      "  Title: A note on two problems in connexion with graphs\n",
      "  Date:  1959\n",
      "  Venue: Numerische Mathematik\n",
      "\n",
      "[Found Citation]\n",
      "Full Text: (On a routing problem, 1958, Quarterly of Applied Mathematics)\n",
      "  Title: On a routing problem\n",
      "  Date:  1958\n",
      "  Venue: Quarterly of Applied Mathematics\n",
      "\n",
      "[Found Citation]\n",
      "Full Text: (Bellman-Ford is optimal for shortest hop-bounded paths, 2022, ESA)\n",
      "  Title: Bellman-Ford is optimal for shortest hop-bounded paths\n",
      "  Date:  2022\n",
      "  Venue: ESA\n",
      "\n",
      "--- End of Results ---\n"
     ]
    }
   ],
   "source": [
    "\n",
    "for match in re.finditer(citation_pattern, text_to_parse):\n",
    "    # Check which named group was populated to determine the format\n",
    "    if match.group('title1') is not None:\n",
    "        # It's the first format: (title, date, venue)\n",
    "        title = match.group('title1').strip()\n",
    "        date = match.group('date1').strip()\n",
    "        venue = match.group('venue1').strip()\n",
    "    else:\n",
    "        # It's the second format: \"Title.\", date, venue.\n",
    "        title = match.group('title2').strip()\n",
    "        date = match.group('date2').strip()\n",
    "        venue = match.group('venue2').strip()\n",
    "\n",
    "    print(\"\\n[Found Citation]\")\n",
    "    print(f\"Full Text: {match.group(0)}\")\n",
    "    print(f\"  Title: {title}\")\n",
    "    print(f\"  Date:  {date}\")\n",
    "    print(f\"  Venue: {venue}\")\n",
    "\n",
    "print(\"\\n--- End of Results ---\")"
   ]
  },
  {
   "cell_type": "code",
   "execution_count": 16,
   "id": "9bd383df",
   "metadata": {},
   "outputs": [
    {
     "name": "stdout",
     "output_type": "stream",
     "text": [
      "<re.Match object; span=(143, 221), match='(A note on two problems in connexion with graphs,>\n",
      "<re.Match object; span=(228, 290), match='(On a routing problem, 1958, Quarterly of Applied>\n",
      "<re.Match object; span=(297, 364), match='(Bellman-Ford is optimal for shortest hop-bounded>\n"
     ]
    }
   ],
   "source": [
    "for match in re.finditer(citation_pattern, text_to_parse):\n",
    "    print(match)"
   ]
  },
  {
   "cell_type": "code",
   "execution_count": null,
   "id": "404bb757",
   "metadata": {},
   "outputs": [],
   "source": []
  }
 ],
 "metadata": {
  "kernelspec": {
   "display_name": ".venv (3.13.0)",
   "language": "python",
   "name": "python3"
  },
  "language_info": {
   "codemirror_mode": {
    "name": "ipython",
    "version": 3
   },
   "file_extension": ".py",
   "mimetype": "text/x-python",
   "name": "python",
   "nbconvert_exporter": "python",
   "pygments_lexer": "ipython3",
   "version": "3.13.0"
  }
 },
 "nbformat": 4,
 "nbformat_minor": 5
}
