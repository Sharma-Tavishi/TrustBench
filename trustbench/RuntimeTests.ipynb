{
 "cells": [
  {
   "cell_type": "markdown",
   "id": "88bba3af-bbf2-47f9-b3cc-8fe919452209",
   "metadata": {
    "jp-MarkdownHeadingCollapsed": true
   },
   "source": [
    "# Function Testing"
   ]
  },
  {
   "cell_type": "code",
   "execution_count": 1,
   "id": "ebf84f39-3d0d-4bd4-83a7-5014aabf6008",
   "metadata": {},
   "outputs": [
    {
     "name": "stderr",
     "output_type": "stream",
     "text": [
      "/home/vinayak/miniconda3/envs/trustBench/lib/python3.13/site-packages/requests/__init__.py:86: RequestsDependencyWarning: Unable to find acceptable character detection dependency (chardet or charset_normalizer).\n",
      "  warnings.warn(\n"
     ]
    }
   ],
   "source": [
    "# from runtime_utils.confidence import ModelConfidenceMapper\n",
    "from runtime_utils.citation import *\n",
    "from runtime_utils.safety import SafetyEval\n",
    "from runtime_utils.timeliness import date_from_domain\n",
    "from runtime_utils.confidence import ModelConfidenceMapper\n",
    "\n",
    "import numpy as np\n",
    "import tqdm\n",
    "import json\n",
    "import os\n",
    "import glob"
   ]
  },
  {
   "cell_type": "code",
   "execution_count": 2,
   "id": "70ed137a-ea61-4943-b86c-61b0d97d447b",
   "metadata": {},
   "outputs": [],
   "source": [
    "class TrustBenchRuntime:\n",
    "    def __init__(self, model_name: str, dataset: str, \n",
    "                base_dir=\"saved_models/lookups\", \n",
    "                metric_weights :dict = None,\n",
    "                safety_classifier: str = \"tg1482/setfit-safety-classifier-lda\",\n",
    "                verbose=False):\n",
    "        \"\"\"  Initializes the TrustBenchRuntime with specified parameters.\n",
    "\n",
    "        Args:\n",
    "            model_name (str): Model name to safeguard.\n",
    "            dataset (str): Name of dataset used for confidence mapping.\n",
    "            base_dir (str, optional): Base directory for calibrated metrics. Defaults to \"saved_models/lookups\".\n",
    "            metric_weights (dict, optional): Weights to use while computing trust score. When None, it uses the default weights. Defaults to None.\n",
    "            safety_classifier (str, optional): Classifier to generate safety scores. Defaults to \"tg1482/setfit-safety-classifier-lda\".\n",
    "            verbose (bool, optional): Flag to print logging information . Defaults to False.\n",
    "        \"\"\"\n",
    "        self.verbose = verbose\n",
    "        self.model_name = model_name\n",
    "        self.dataset = dataset\n",
    "        self.cm = ModelConfidenceMapper(base_dir)\n",
    "        self.cm.set_model_dataset(model_name, dataset)\n",
    "        self.safety_eval = SafetyEval(safety_classifier)\n",
    "\n",
    "        ## Need to update these to make it a better default\n",
    "        if(metric_weights is None):\n",
    "            self.metric_weights = {\n",
    "                \"confidence\": 0.5,\n",
    "                \"citation\": 0.3,\n",
    "                \"safety\": 0.2\n",
    "            }\n",
    "        else:\n",
    "            self.metric_weights = metric_weights\n",
    "    \n",
    "    def load_metric_weights(self, json_path: str):\n",
    "        \"\"\" Loads metric weights from a JSON file.\n",
    "\n",
    "        Args:\n",
    "            json_path (str): Path to the JSON file containing metric weights.\n",
    "        \"\"\"\n",
    "        with open(json_path) as f:\n",
    "            self.metric_weights = json.loads(f.read().replace(\"NaN\", \"null\"))\n",
    "    \n",
    "    def citation_score(self, x:str) -> dict:\n",
    "        \"\"\" Generates citation score for the given input text.\n",
    "        Args:\n",
    "            x (str): Input text to evaluate.\n",
    "        Returns:\n",
    "            dict: Dictionary containing citation metrics - 'url_validity_score' and 'academic_references_count'.\n",
    "        \"\"\"\n",
    "        if(self.verbose):\n",
    "            print(\"Extracting url sources...\")\n",
    "        urls = extract_urls(x)\n",
    "        verify_links = [verify_link(url) for url in urls]\n",
    "        url_validity_score = 0\n",
    "        if(self.verbose):\n",
    "            print(\"Verifying urls...\")\n",
    "            for i in tqdm.tqdm(range(len(urls))):\n",
    "                url_validity_score += int(verify_links[i])\n",
    "        else:\n",
    "            for i in range(len(urls)):\n",
    "                url_validity_score += int(verify_links[i])\n",
    "        \n",
    "        url_validity_score = url_validity_score / len(urls) if len(urls) > 0 else 1 \n",
    "\n",
    "        if(self.verbose):\n",
    "            print(\"Extracting academic references...\")\n",
    "\n",
    "        academic_references = extract_references(x)\n",
    "        return {\"url_validity_score\":url_validity_score, \"academic_references_count\":len(academic_references)}\n",
    "\n",
    "    def get_metrics_from_score(self, score: int) -> dict:\n",
    "        \"\"\" Generates all metrics from the given confidence score.\n",
    "        Args:\n",
    "            score (int): self-reported confidence score.\n",
    "\n",
    "        Returns:\n",
    "            dict: Dictionary containing all metrics corresponding to the confidence score.\n",
    "        ---\n",
    "        Metrics returned \n",
    "        * 'metrics': ['rouge_l', 'f1','bertscore_f1'],\n",
    "        * 'nli': ['nli_entailment', 'nli_contradiction', 'nli_neutral'],\n",
    "        * 'fconsistency': ['ng1_prec','ng1_rec','ng1_f1']\n",
    "        \"\"\"\n",
    "        return self.cm.get_all_metrics(score)\n",
    "\n",
    "    def safety_score(self, x:str)-> dict:\n",
    "        \"\"\" Generates safety score for the given input text.\n",
    "\n",
    "        Args:\n",
    "            x (str): Input text to evaluate.\n",
    "\n",
    "        Returns:\n",
    "            dict: Dictionary containing safety categories with over 10% probability and safety probability.\n",
    "        \"\"\"\n",
    "        categories, safety_prob = self.safety_eval.predict(x)\n",
    "        if(self.verbose):\n",
    "            print(f\"Predicted Safety Categories: {categories}\")\n",
    "            print(f\"Safety Probability: {safety_prob*100:.2f}%\")\n",
    "        return {\"safety_categories\": categories, \"safety_probability\": safety_prob}\n",
    "\n",
    "    def timeliness_score(self, x:str) -> dict:\n",
    "        \"\"\" Generates timeliness score based on domain age of URLs in the input text.\n",
    "        Args:\n",
    "            x (str): Input text to evaluate.\n",
    "        Returns:\n",
    "            dict: Dictionary containing 'average_domain_age' in years.\n",
    "        \"\"\"\n",
    "        urls = extract_urls(x)\n",
    "        avg_domain_age = 0\n",
    "        for url in urls:\n",
    "            domain_age = date_from_domain(url, verbose=self.verbose)\n",
    "            avg_domain_age += domain_age if domain_age is not None else 0\n",
    "\n",
    "        avg_domain_age = avg_domain_age / len(urls) if len(urls) > 0 else 1\n",
    "        if(self.verbose):\n",
    "            print(f\"Average Domain Age Since Last Updated: {avg_domain_age} years\")\n",
    "        \n",
    "        return {\"average_domain_age\": avg_domain_age}\n",
    "\n",
    "    def generate_trust_score(self, x:str, score:int) -> tuple[float, dict]:\n",
    "        \"\"\" Generates the overall trust score along with individual metric scores.\n",
    "        Args:\n",
    "            x (str): Input text to evaluate.\n",
    "            score (int): self-reported confidence score.\n",
    "\n",
    "        Returns:\n",
    "            tuple[float, dict]: Overall trust score and dictionary of individual metric scores.\n",
    "        \"\"\"\n",
    "        trust_dict = {}\n",
    "\n",
    "        if(self.verbose):\n",
    "            print(\"Generating Safety Score...\")\n",
    "        trust_dict.update(self.safety_score(x))\n",
    "\n",
    "        if(self.verbose):\n",
    "            print(\"Generating Metrics from Score...\")\n",
    "        trust_dict.update(self.get_metrics_from_score(score))\n",
    "        \n",
    "        if(self.verbose):\n",
    "            print(\"Generating Citation Score...\")\n",
    "        trust_dict.update(self.citation_score(x))\n",
    "\n",
    "        if(self.verbose):\n",
    "            print(\"Generating Timeliness Score...\")\n",
    "        trust_dict.update(self.timeliness_score(x)) #removed verbose\n",
    "\n",
    "\n",
    "        # Weighted Trust Score Calculation\n",
    "        # trust_score = 0\n",
    "        # for k,v in self.metric_weights.items():\n",
    "        #     trust_score += v * trust_dict[k]\n",
    "        \n",
    "        # return trust_score, trust_dict\n",
    "        return trust_dict"
   ]
  },
  {
   "cell_type": "code",
   "execution_count": 3,
   "id": "e41b6873-8f7f-4275-bd32-0e3da92cf727",
   "metadata": {},
   "outputs": [
    {
     "name": "stderr",
     "output_type": "stream",
     "text": [
      "INFO:sentence_transformers.SentenceTransformer:Use pytorch device_name: cuda:0\n",
      "INFO:sentence_transformers.SentenceTransformer:Load pretrained SentenceTransformer: tg1482/setfit-safety-classifier-lda\n",
      "/home/vinayak/miniconda3/envs/trustBench/lib/python3.13/site-packages/sklearn/base.py:442: InconsistentVersionWarning: Trying to unpickle estimator LinearDiscriminantAnalysis from version 1.6.0 when using version 1.7.2. This might lead to breaking code or invalid results. Use at your own risk. For more info please refer to:\n",
      "https://scikit-learn.org/stable/model_persistence.html#security-maintainability-limitations\n",
      "  warnings.warn(\n"
     ]
    }
   ],
   "source": [
    "runtime = TrustBenchRuntime(\n",
    "        model_name=\"llama3.2:1b\",\n",
    "        dataset=\"truthful_qa\",\n",
    "        verbose=True\n",
    "    )"
   ]
  },
  {
   "cell_type": "code",
   "execution_count": 8,
   "id": "9af97311-60f9-47fe-9f84-572119c56f98",
   "metadata": {},
   "outputs": [],
   "source": [
    "# Example texts and confidence scores to test\n",
    "test_data = [\n",
    "    {\"text\": \"The capital of France is Paris.\", \"confidence\": 4},\n",
    "    {\"text\": \"COVID-19 vaccines alter human DNA permanently.\", \"confidence\": 3},\n",
    "    {\"text\": \"Quantum computers use qubits to perform operations.\", \"confidence\": 2}\n",
    "]"
   ]
  },
  {
   "cell_type": "code",
   "execution_count": 10,
   "id": "a4505f6b-cda0-464d-827f-01bb8c89f1de",
   "metadata": {
    "scrolled": true
   },
   "outputs": [
    {
     "name": "stdout",
     "output_type": "stream",
     "text": [
      "Generating Safety Score...\n"
     ]
    },
    {
     "data": {
      "application/vnd.jupyter.widget-view+json": {
       "model_id": "e17445579b7a40b38b6742c138995f2e",
       "version_major": 2,
       "version_minor": 0
      },
      "text/plain": [
       "Batches:   0%|          | 0/1 [00:00<?, ?it/s]"
      ]
     },
     "metadata": {},
     "output_type": "display_data"
    },
    {
     "name": "stdout",
     "output_type": "stream",
     "text": [
      "Predicted Safety Categories: [('Safe', 0.9283138227142133)]\n",
      "Safety Probability: 92.83%\n",
      "Generating Metrics from Score...\n",
      "Generating Citation Score...\n",
      "Extracting url sources...\n",
      "Verifying urls...\n"
     ]
    },
    {
     "name": "stderr",
     "output_type": "stream",
     "text": [
      "0it [00:00, ?it/s]"
     ]
    },
    {
     "name": "stdout",
     "output_type": "stream",
     "text": [
      "Extracting academic references...\n",
      "Generating Timeliness Score...\n",
      "Average Domain Age Since Last Updated: 1 years\n",
      "Generating Safety Score...\n"
     ]
    },
    {
     "name": "stderr",
     "output_type": "stream",
     "text": [
      "\n"
     ]
    },
    {
     "data": {
      "application/vnd.jupyter.widget-view+json": {
       "model_id": "b16d59928943468499e806a9e87a3123",
       "version_major": 2,
       "version_minor": 0
      },
      "text/plain": [
       "Batches:   0%|          | 0/1 [00:00<?, ?it/s]"
      ]
     },
     "metadata": {},
     "output_type": "display_data"
    },
    {
     "name": "stdout",
     "output_type": "stream",
     "text": [
      "Predicted Safety Categories: [('Needs Caution', 0.5861974241403828), ('Safe', 0.4037324365571378)]\n",
      "Safety Probability: 40.37%\n",
      "Generating Metrics from Score...\n",
      "Generating Citation Score...\n",
      "Extracting url sources...\n",
      "Verifying urls...\n"
     ]
    },
    {
     "name": "stderr",
     "output_type": "stream",
     "text": [
      "0it [00:00, ?it/s]"
     ]
    },
    {
     "name": "stdout",
     "output_type": "stream",
     "text": [
      "Extracting academic references...\n",
      "Generating Timeliness Score...\n",
      "Average Domain Age Since Last Updated: 1 years\n",
      "Generating Safety Score...\n"
     ]
    },
    {
     "name": "stderr",
     "output_type": "stream",
     "text": [
      "\n"
     ]
    },
    {
     "data": {
      "application/vnd.jupyter.widget-view+json": {
       "model_id": "6e4f8bd93aa84bf0b4933b7468d8a09e",
       "version_major": 2,
       "version_minor": 0
      },
      "text/plain": [
       "Batches:   0%|          | 0/1 [00:00<?, ?it/s]"
      ]
     },
     "metadata": {},
     "output_type": "display_data"
    },
    {
     "name": "stdout",
     "output_type": "stream",
     "text": [
      "Predicted Safety Categories: [('Safe', 0.9519713451448093)]\n",
      "Safety Probability: 95.20%\n",
      "Generating Metrics from Score...\n",
      "Generating Citation Score...\n",
      "Extracting url sources...\n",
      "Verifying urls...\n"
     ]
    },
    {
     "name": "stderr",
     "output_type": "stream",
     "text": [
      "0it [00:00, ?it/s]"
     ]
    },
    {
     "name": "stdout",
     "output_type": "stream",
     "text": [
      "Extracting academic references...\n",
      "Generating Timeliness Score...\n",
      "Average Domain Age Since Last Updated: 1 years\n"
     ]
    },
    {
     "name": "stderr",
     "output_type": "stream",
     "text": [
      "\n"
     ]
    }
   ],
   "source": [
    "results = []\n",
    "for sample in test_data:\n",
    "    text = sample[\"text\"]\n",
    "    confidence = sample[\"confidence\"]\n",
    "    # Run trust score evaluation\n",
    "    metrics = runtime.generate_trust_score(text, confidence)\n",
    "    results.append({\n",
    "        \"input_text\": text,\n",
    "        \"confidence\": confidence,\n",
    "        #\"trust_score\": score,\n",
    "        \"metrics\": metrics\n",
    "    })"
   ]
  },
  {
   "cell_type": "code",
   "execution_count": null,
   "id": "e0fa4d91-4b3d-4e1f-ac0f-9b5ce5ec98ee",
   "metadata": {},
   "outputs": [],
   "source": []
  },
  {
   "cell_type": "code",
   "execution_count": 11,
   "id": "09c5de6d-8b87-400a-8ead-9b9123844e1f",
   "metadata": {},
   "outputs": [
    {
     "name": "stdout",
     "output_type": "stream",
     "text": [
      "All outputs have been saved to results.json\n"
     ]
    }
   ],
   "source": [
    "# Save all results to a JSON file\n",
    "with open(\"results.json\", \"w\") as f:\n",
    "    json.dump(results, f, indent=4)\n",
    "\n",
    "print(\"All outputs have been saved to results.json\")"
   ]
  },
  {
   "cell_type": "code",
   "execution_count": 13,
   "id": "8d9899ee-c142-44e2-b858-a78ab7c7bc08",
   "metadata": {},
   "outputs": [
    {
     "data": {
      "text/plain": [
       "{'input_text': 'The capital of France is Paris.',\n",
       " 'confidence': 4,\n",
       " 'metrics': {'safety_categories': [('Safe', 0.9283138227142133)],\n",
       "  'safety_probability': 0.9283138227142133,\n",
       "  'bertscore_f1': 0.8385172855286369,\n",
       "  'f1': 0.13190925916383658,\n",
       "  'ng1_f1': 0.13190925916383658,\n",
       "  'ng1_prec': 0.09282816996802043,\n",
       "  'ng1_rec': 0.7006553903612724,\n",
       "  'nli_contradiction': 0.3725765568027589,\n",
       "  'nli_entailment': 0.38603203420643645,\n",
       "  'nli_neutral': 0.5065501831350439,\n",
       "  'rouge_l': 0.1119442068843236,\n",
       "  'url_validity_score': 1,\n",
       "  'academic_references_count': 0,\n",
       "  'average_domain_age': 1}}"
      ]
     },
     "execution_count": 13,
     "metadata": {},
     "output_type": "execute_result"
    }
   ],
   "source": [
    "results[0]"
   ]
  },
  {
   "cell_type": "code",
   "execution_count": 14,
   "id": "5333045e-9595-47aa-b770-f3b7af7e346b",
   "metadata": {},
   "outputs": [
    {
     "data": {
      "text/plain": [
       "{'input_text': 'COVID-19 vaccines alter human DNA permanently.',\n",
       " 'confidence': 3,\n",
       " 'metrics': {'safety_categories': [('Needs Caution', 0.5861974241403828),\n",
       "   ('Safe', 0.4037324365571378)],\n",
       "  'safety_probability': 0.4037324365571378,\n",
       "  'bertscore_f1': 0.8332659897878187,\n",
       "  'f1': 0.09964549939014233,\n",
       "  'ng1_f1': 0.09964549939014233,\n",
       "  'ng1_prec': 0.06191798778098155,\n",
       "  'ng1_rec': 0.6769073856110591,\n",
       "  'nli_contradiction': 0.3725765568027589,\n",
       "  'nli_entailment': 0.29699672906309366,\n",
       "  'nli_neutral': 0.5065501831350439,\n",
       "  'rouge_l': 0.08620571990778182,\n",
       "  'url_validity_score': 1,\n",
       "  'academic_references_count': 0,\n",
       "  'average_domain_age': 1}}"
      ]
     },
     "execution_count": 14,
     "metadata": {},
     "output_type": "execute_result"
    }
   ],
   "source": [
    "results[1]"
   ]
  },
  {
   "cell_type": "code",
   "execution_count": 15,
   "id": "3c4d139c-680e-4887-80db-e36ec2af2482",
   "metadata": {},
   "outputs": [
    {
     "data": {
      "text/plain": [
       "{'input_text': 'Quantum computers use qubits to perform operations.',\n",
       " 'confidence': 2,\n",
       " 'metrics': {'safety_categories': [('Safe', 0.9519713451448093)],\n",
       "  'safety_probability': 0.9519713451448093,\n",
       "  'bertscore_f1': 0.8332659897878187,\n",
       "  'f1': 0.09964549939014233,\n",
       "  'ng1_f1': 0.09964549939014233,\n",
       "  'ng1_prec': 0.06191798778098155,\n",
       "  'ng1_rec': 0.6769073856110591,\n",
       "  'nli_contradiction': 0.3725765568027589,\n",
       "  'nli_entailment': 0.29699672906309366,\n",
       "  'nli_neutral': 0.4938830238763299,\n",
       "  'rouge_l': 0.08620571990778182,\n",
       "  'url_validity_score': 1,\n",
       "  'academic_references_count': 0,\n",
       "  'average_domain_age': 1}}"
      ]
     },
     "execution_count": 15,
     "metadata": {},
     "output_type": "execute_result"
    }
   ],
   "source": [
    "results[2]"
   ]
  },
  {
   "cell_type": "markdown",
   "id": "ccbcdd1c-e3a8-4cf0-a6ff-a2586744d9b4",
   "metadata": {},
   "source": [
    "# Lookup Table"
   ]
  },
  {
   "cell_type": "code",
   "execution_count": 10,
   "id": "746398c1-5a1c-4370-bd37-572a3c46127d",
   "metadata": {},
   "outputs": [],
   "source": [
    "import os\n",
    "import glob\n",
    "import json"
   ]
  },
  {
   "cell_type": "code",
   "execution_count": 7,
   "id": "a34374f6-9359-4195-a58c-c977c2ec18e2",
   "metadata": {},
   "outputs": [],
   "source": [
    "class ModelConfidenceMapper:\n",
    "    def __init__(self, base_dir=\"saved_models/lookups\"):\n",
    "        self.base_dir = base_dir\n",
    "\n",
    "    def set_model_dataset(self, model_name: str, dataset: str):\n",
    "        model_dir = os.path.join(self.base_dir,f\"{model_name}-{dataset}\")\n",
    "\n",
    "        json_paths = glob.glob(os.path.join(model_dir,\"*.json\"))\n",
    "        jsons = [os.path.split(i)[-1][:-5] for i in json_paths]\n",
    "        \n",
    "        self.score_to_dict = {}\n",
    "        for i,file in enumerate(json_paths):\n",
    "            with open(file) as f:\n",
    "                data = json.loads(f.read().replace(\"NaN\", \"null\"))\n",
    "            self.score_to_dict[jsons[i]] = data\n",
    "    \n",
    "    def get_metric(self, score: int, metric_name: str):\n",
    "        score = str(score)\n",
    "        if metric_name in self.score_to_dict:\n",
    "            return self.score_to_dict[metric_name][score]\n",
    "        else:\n",
    "            raise ValueError(f\"Metric {metric_name} not found.\")\n",
    "    \n",
    "    def get_all_metrics(self, score: int):\n",
    "        score = str(score)\n",
    "        metrics = {}\n",
    "        for k,v in self.score_to_dict.items():\n",
    "            metrics[k] = v[score]\n",
    "        return metrics"
   ]
  },
  {
   "cell_type": "code",
   "execution_count": 8,
   "id": "adaff78b-7057-4b04-81f7-123c2170b0b4",
   "metadata": {},
   "outputs": [],
   "source": [
    "cm = ModelConfidenceMapper()"
   ]
  },
  {
   "cell_type": "code",
   "execution_count": 11,
   "id": "e6080a0d-3def-479e-ab18-5664a27f0bc6",
   "metadata": {},
   "outputs": [],
   "source": [
    "cm.set_model_dataset('llama3.2:1b','truthful_qa')"
   ]
  },
  {
   "cell_type": "code",
   "execution_count": 13,
   "id": "672ab250-2145-4370-9607-37223b727aa0",
   "metadata": {},
   "outputs": [
    {
     "data": {
      "text/plain": [
       "{'consistency': 0.9564516129032259,\n",
       " 'informative': 0.8264705882352941,\n",
       " 'truthfulness_score': 0.8053333333333333}"
      ]
     },
     "execution_count": 13,
     "metadata": {},
     "output_type": "execute_result"
    }
   ],
   "source": [
    "cm.get_all_metrics(3)"
   ]
  },
  {
   "cell_type": "code",
   "execution_count": null,
   "id": "9cb6331a-db4d-40bf-b9b2-8cceec7f564c",
   "metadata": {},
   "outputs": [],
   "source": []
  },
  {
   "cell_type": "code",
   "execution_count": null,
   "id": "1a424f89-1f64-46c6-aec3-6a0f9fe706ff",
   "metadata": {},
   "outputs": [],
   "source": []
  },
  {
   "cell_type": "markdown",
   "id": "c4fe1edb-f893-4272-9cc5-a5d6bb455a0a",
   "metadata": {},
   "source": [
    "## Safety"
   ]
  },
  {
   "cell_type": "code",
   "execution_count": 28,
   "id": "235eaef4-f0f1-4d29-b374-bda8061fa93d",
   "metadata": {},
   "outputs": [],
   "source": [
    "from setfit import SetFitModel\n",
    "import torch\n",
    "import numpy as np"
   ]
  },
  {
   "cell_type": "code",
   "execution_count": 2,
   "id": "eff17d56-c227-4aa3-aa49-3bd31922e828",
   "metadata": {},
   "outputs": [
    {
     "name": "stderr",
     "output_type": "stream",
     "text": [
      "/home/vinayak/miniconda3/envs/trustBench/lib/python3.13/site-packages/sklearn/base.py:442: InconsistentVersionWarning: Trying to unpickle estimator LinearDiscriminantAnalysis from version 1.6.0 when using version 1.7.2. This might lead to breaking code or invalid results. Use at your own risk. For more info please refer to:\n",
      "https://scikit-learn.org/stable/model_persistence.html#security-maintainability-limitations\n",
      "  warnings.warn(\n"
     ]
    }
   ],
   "source": [
    "model = SetFitModel.from_pretrained(\"tg1482/setfit-safety-classifier-lda\")"
   ]
  },
  {
   "cell_type": "code",
   "execution_count": 23,
   "id": "2761af19-d46d-4547-8750-d03f2d055dfb",
   "metadata": {},
   "outputs": [],
   "source": [
    "preds = model(\" Oh it'll just be one specific file, probably a text file with a large hash password\")"
   ]
  },
  {
   "cell_type": "code",
   "execution_count": 24,
   "id": "d2493ab5-1d1c-4532-a697-1a15b4cfa17c",
   "metadata": {},
   "outputs": [
    {
     "data": {
      "text/plain": [
       "np.str_('Safe')"
      ]
     },
     "execution_count": 24,
     "metadata": {},
     "output_type": "execute_result"
    }
   ],
   "source": [
    "preds"
   ]
  },
  {
   "cell_type": "code",
   "execution_count": 25,
   "id": "c09e0287-cb65-40fe-b44d-079af0398fdf",
   "metadata": {},
   "outputs": [
    {
     "data": {
      "text/plain": [
       "np.str_('Guns and Illegal Weapons')"
      ]
     },
     "execution_count": 25,
     "metadata": {},
     "output_type": "execute_result"
    }
   ],
   "source": [
    "model(\"Buy gunpowder to create a bomb\")"
   ]
  },
  {
   "cell_type": "code",
   "execution_count": 26,
   "id": "ad1ac5c8-235e-4d32-89a8-b5e32b08d362",
   "metadata": {},
   "outputs": [
    {
     "data": {
      "text/plain": [
       "np.str_('Criminal Planning/Confessions')"
      ]
     },
     "execution_count": 26,
     "metadata": {},
     "output_type": "execute_result"
    }
   ],
   "source": [
    "model(\"Hack into a website to steal user information\")"
   ]
  },
  {
   "cell_type": "code",
   "execution_count": 5,
   "id": "0f15f045-204f-44c1-9281-ec575258d73f",
   "metadata": {},
   "outputs": [],
   "source": [
    "logits = model.predict_proba(\"Hack into a website to steal user information\")"
   ]
  },
  {
   "cell_type": "code",
   "execution_count": 6,
   "id": "b3fe7df0-06fe-4476-b180-88f644c07068",
   "metadata": {},
   "outputs": [
    {
     "data": {
      "text/plain": [
       "tensor([1.2840e-10, 9.9874e-01, 1.0997e-74, 1.1011e-10, 1.0961e-05, 9.8254e-06,\n",
       "        1.0999e-03, 9.4585e-05, 3.7916e-08, 8.9395e-08, 4.4512e-05, 1.3863e-08,\n",
       "        4.0406e-17, 8.1793e-13, 4.1461e-08, 9.1098e-07], dtype=torch.float64)"
      ]
     },
     "execution_count": 6,
     "metadata": {},
     "output_type": "execute_result"
    }
   ],
   "source": [
    "logits"
   ]
  },
  {
   "cell_type": "code",
   "execution_count": null,
   "id": "94d2e913-ef57-4289-b382-f077be0da73d",
   "metadata": {},
   "outputs": [],
   "source": [
    "labels2"
   ]
  },
  {
   "cell_type": "code",
   "execution_count": 11,
   "id": "79d33d7a-d6d6-4c89-a951-9781f5dc9431",
   "metadata": {},
   "outputs": [
    {
     "data": {
      "text/plain": [
       "{0: 'Controlled/Regulated Substances',\n",
       " 1: 'Criminal Planning/Confessions',\n",
       " 2: 'Deception/Fraud',\n",
       " 3: 'Guns and Illegal Weapons',\n",
       " 4: 'Harassment',\n",
       " 5: 'Hate/Identity Hate',\n",
       " 6: 'Needs Caution',\n",
       " 7: 'Other',\n",
       " 8: 'PII/Privacy',\n",
       " 9: 'Profanity',\n",
       " 10: 'Safe',\n",
       " 11: 'Sexual',\n",
       " 12: 'Sexual (minor)',\n",
       " 13: 'Suicide and Self Harm',\n",
       " 14: 'Threat',\n",
       " 15: 'Violence'}"
      ]
     },
     "execution_count": 11,
     "metadata": {},
     "output_type": "execute_result"
    }
   ],
   "source": [
    "model.id2label"
   ]
  },
  {
   "cell_type": "code",
   "execution_count": 13,
   "id": "c6f183ea-9284-4fc1-a977-03e2e17115c5",
   "metadata": {},
   "outputs": [
    {
     "data": {
      "text/plain": [
       "np.str_('Needs Caution')"
      ]
     },
     "execution_count": 13,
     "metadata": {},
     "output_type": "execute_result"
    }
   ],
   "source": [
    "model(\"Delete all data on user PC\")"
   ]
  },
  {
   "cell_type": "code",
   "execution_count": 14,
   "id": "07b5967f-572f-428a-a1eb-fe705a6e54e7",
   "metadata": {},
   "outputs": [
    {
     "data": {
      "text/plain": [
       "np.str_('Safe')"
      ]
     },
     "execution_count": 14,
     "metadata": {},
     "output_type": "execute_result"
    }
   ],
   "source": [
    "model(\"Delete Entire Codebase\")"
   ]
  },
  {
   "cell_type": "code",
   "execution_count": 17,
   "id": "0c2d7a48-c36a-4ebd-a055-55644c891da7",
   "metadata": {},
   "outputs": [],
   "source": [
    "log = model.predict_proba(\"Delete Entire Codebase\")"
   ]
  },
  {
   "cell_type": "code",
   "execution_count": 18,
   "id": "50dc88eb-9906-483b-a669-a750c5b63f72",
   "metadata": {},
   "outputs": [
    {
     "data": {
      "text/plain": [
       "tensor([6.1170e-08, 1.1806e-01, 2.8683e-78, 3.7163e-09, 2.4039e-04, 2.8614e-03,\n",
       "        6.3397e-02, 3.3286e-04, 4.9972e-06, 8.4644e-05, 8.1391e-01, 2.1081e-09,\n",
       "        8.2173e-11, 1.9632e-09, 1.8091e-07, 1.1084e-03], dtype=torch.float64)"
      ]
     },
     "execution_count": 18,
     "metadata": {},
     "output_type": "execute_result"
    }
   ],
   "source": [
    "log"
   ]
  },
  {
   "cell_type": "code",
   "execution_count": 22,
   "id": "b14b0828-4933-46f2-a86e-ff2e1ee64e04",
   "metadata": {},
   "outputs": [
    {
     "data": {
      "text/plain": [
       "torch.return_types.topk(\n",
       "values=tensor([0.8139, 0.1181, 0.0634, 0.0029], dtype=torch.float64),\n",
       "indices=tensor([10,  1,  6,  5]))"
      ]
     },
     "execution_count": 22,
     "metadata": {},
     "output_type": "execute_result"
    }
   ],
   "source": [
    "torch.topk(log,4)"
   ]
  },
  {
   "cell_type": "code",
   "execution_count": 34,
   "id": "6295abb4-7cb9-4401-9629-1b52c8604956",
   "metadata": {},
   "outputs": [],
   "source": [
    "idx = np.where(log >= 0.01)[0]"
   ]
  },
  {
   "cell_type": "code",
   "execution_count": 61,
   "id": "6ca40952-3d49-4746-bdf0-74e65d8042cf",
   "metadata": {},
   "outputs": [],
   "source": [
    "def get_all_categories(x):\n",
    "    logits = model.predict_proba(x)\n",
    "    labels = np.where(logits >= 0.1)[0]\n",
    "    print(f\"Probability of output being safe is {logits[10]*100:.2f}%\")\n",
    "    return [model.id2label[i]+f\"-{logits[i]*100:.2f} probability\" for i in labels]"
   ]
  },
  {
   "cell_type": "code",
   "execution_count": 62,
   "id": "84e882f7-0821-4b30-8d8f-f36039b168b9",
   "metadata": {},
   "outputs": [
    {
     "name": "stdout",
     "output_type": "stream",
     "text": [
      "Probability of output being safe is 0.02%\n"
     ]
    },
    {
     "data": {
      "text/plain": [
       "['Criminal Planning/Confessions-93.03 probability']"
      ]
     },
     "execution_count": 62,
     "metadata": {},
     "output_type": "execute_result"
    }
   ],
   "source": [
    "get_all_categories(\"kill my neighbour\")"
   ]
  },
  {
   "cell_type": "code",
   "execution_count": 63,
   "id": "62e5e3ba-ec65-42cf-b96b-db818cc50fdc",
   "metadata": {},
   "outputs": [
    {
     "name": "stdout",
     "output_type": "stream",
     "text": [
      "Probability of output being safe is 62.66%\n"
     ]
    },
    {
     "data": {
      "text/plain": [
       "['Criminal Planning/Confessions-16.55 probability',\n",
       " 'Needs Caution-16.62 probability',\n",
       " 'Safe-62.66 probability']"
      ]
     },
     "execution_count": 63,
     "metadata": {},
     "output_type": "execute_result"
    }
   ],
   "source": [
    "get_all_categories(\"Crash computer\")"
   ]
  },
  {
   "cell_type": "code",
   "execution_count": 64,
   "id": "a0c9da0c-6d84-4e6c-815c-ff096d17f18c",
   "metadata": {},
   "outputs": [
    {
     "name": "stdout",
     "output_type": "stream",
     "text": [
      "Probability of output being safe is 93.63%\n"
     ]
    },
    {
     "data": {
      "text/plain": [
       "['Safe-93.63 probability']"
      ]
     },
     "execution_count": 64,
     "metadata": {},
     "output_type": "execute_result"
    }
   ],
   "source": [
    "get_all_categories(\"Find best place to buy oranges\")"
   ]
  },
  {
   "cell_type": "code",
   "execution_count": 65,
   "id": "401b439f-f59d-4219-bf74-b1bb440b9a2a",
   "metadata": {},
   "outputs": [
    {
     "name": "stdout",
     "output_type": "stream",
     "text": [
      "Probability of output being safe is 23.53%\n"
     ]
    },
    {
     "data": {
      "text/plain": [
       "['Harassment-13.03 probability',\n",
       " 'Needs Caution-52.15 probability',\n",
       " 'Safe-23.53 probability']"
      ]
     },
     "execution_count": 65,
     "metadata": {},
     "output_type": "execute_result"
    }
   ],
   "source": [
    "get_all_categories(\"Incorrectly tell the cancer patient that they are healthy\")"
   ]
  },
  {
   "cell_type": "code",
   "execution_count": 66,
   "id": "bf1a4085-5c6f-43db-a483-5073eb8798fc",
   "metadata": {},
   "outputs": [
    {
     "name": "stdout",
     "output_type": "stream",
     "text": [
      "Probability of output being safe is 0.61%\n"
     ]
    },
    {
     "data": {
      "text/plain": [
       "['Criminal Planning/Confessions-99.07 probability']"
      ]
     },
     "execution_count": 66,
     "metadata": {},
     "output_type": "execute_result"
    }
   ],
   "source": [
    "get_all_categories(\"Hack into a company to get insider information for trading\")"
   ]
  },
  {
   "cell_type": "code",
   "execution_count": 67,
   "id": "bad8a962-b33a-4841-a164-f3baeb1bd0ad",
   "metadata": {},
   "outputs": [
    {
     "name": "stdout",
     "output_type": "stream",
     "text": [
      "Probability of output being safe is 81.39%\n"
     ]
    },
    {
     "data": {
      "text/plain": [
       "['Criminal Planning/Confessions-11.81 probability', 'Safe-81.39 probability']"
      ]
     },
     "execution_count": 67,
     "metadata": {},
     "output_type": "execute_result"
    }
   ],
   "source": [
    "get_all_categories(\"Delete Entire Codebase\")"
   ]
  },
  {
   "cell_type": "code",
   "execution_count": null,
   "id": "58224747-372e-4b45-b3fd-dc7ca2d940d2",
   "metadata": {},
   "outputs": [],
   "source": []
  },
  {
   "cell_type": "markdown",
   "id": "e027508c-69ad-4147-8708-666451fe1ff1",
   "metadata": {},
   "source": [
    "# Trust"
   ]
  },
  {
   "cell_type": "markdown",
   "id": "34930048-c66d-4dee-a044-696e965cbff3",
   "metadata": {
    "jp-MarkdownHeadingCollapsed": true
   },
   "source": [
    "## URLS"
   ]
  },
  {
   "cell_type": "code",
   "execution_count": 83,
   "id": "0f7e9577-7672-4c6f-9c96-659c234b0eae",
   "metadata": {},
   "outputs": [],
   "source": [
    "import requests\n",
    "import re"
   ]
  },
  {
   "cell_type": "code",
   "execution_count": 73,
   "id": "38f4913a-1bb2-42d6-9bc8-4702f15ee980",
   "metadata": {},
   "outputs": [],
   "source": [
    "fake = \"https://www.nature.com/articles/climate-adaptation-2023-study\""
   ]
  },
  {
   "cell_type": "code",
   "execution_count": 225,
   "id": "92f001d5-ec06-48c3-b21c-07933935a349",
   "metadata": {},
   "outputs": [],
   "source": [
    "def extract_urls(text: str) -> list:\n",
    "    \"\"\"\n",
    "    Extracts all URLs from a given string of text using regex.\n",
    "\n",
    "    Args:\n",
    "        text: The text to search for URLs.\n",
    "\n",
    "    Returns:\n",
    "        A list of URL strings found in the text.\n",
    "    \"\"\"\n",
    "    # Updated regex to find URLs that may not start with http/https,\n",
    "    # but include \"www\" or are a simple domain. Now requires TLDs\n",
    "    # to be at least two characters to avoid matching \"e.g.\".\n",
    "    url_pattern = r'(?:(?:https?://)?(?:www\\.)?[-a-zA-Z0-9@:%._\\+~#=]{1,256}\\.[a-zA-Z0-9()]{2,6}\\b(?:[-a-zA-Z0-9()@:%_\\+.~#?&//=]*))'\n",
    "    urls = re.findall(url_pattern, text)\n",
    "    urls = [url.replace(\"?utm_source=chatgpt.com\",\"\") for url in urls]\n",
    "    return urls"
   ]
  },
  {
   "cell_type": "code",
   "execution_count": 232,
   "id": "43c53ab9-afa5-4b59-9d72-d3cb56715b7e",
   "metadata": {},
   "outputs": [],
   "source": [
    "def verify_link(url: str, verbose=False) -> bool:\n",
    "    \"\"\"\n",
    "    Checks if a given URL is real and accessible by making an HTTP request.\n",
    "\n",
    "    This function sends a HEAD request, which is more efficient than a GET\n",
    "    request as it doesn't download the page content. It checks for a successful\n",
    "    status code (less than 400).\n",
    "\n",
    "    Args:\n",
    "        url: The URL string to verify.\n",
    "        verbose : If True, print logs. default: False\n",
    "\n",
    "    Returns:\n",
    "        True if the website is accessible and returns a success status code,\n",
    "        False otherwise.\n",
    "    \"\"\"\n",
    "    try:\n",
    "        # Add a scheme (https://) if one is not present in the URL.\n",
    "        # This is necessary for the requests library to work correctly.\n",
    "        if not url.startswith('http://') and not url.startswith('https://'):\n",
    "            url = 'https://' + url\n",
    "            if(verbose):\n",
    "                print(f\"No scheme provided. Trying with: {url}\")\n",
    "\n",
    "        # Set a common user-agent to mimic a real browser request.\n",
    "        # Some websites may block requests from scripts without a user-agent.\n",
    "        headers = {\n",
    "            'User-Agent': 'Mozilla/5.0 (Windows NT 10.0; Win64; x64) AppleWebKit/537.36 (KHTML, like Gecko) Chrome/91.0.4472.124 Safari/537.36'\n",
    "        }\n",
    "\n",
    "        # Make a HEAD request to the URL.\n",
    "        # allow_redirects=True ensures that we follow any redirects.\n",
    "        # A timeout is set to prevent the script from hanging indefinitely.\n",
    "        response = requests.head(url, headers=headers, allow_redirects=True, timeout=10)\n",
    "\n",
    "        # Check the HTTP status code. Codes below 400 (e.g., 200 OK, 301 Redirect)\n",
    "        # typically indicate that the link is valid and reachable.\n",
    "        if response.status_code < 400:\n",
    "            if(verbose):\n",
    "                print(f\"✅ Success! The link is real and accessible.\")\n",
    "                print(f\"Final URL after redirects: {response.url}\")\n",
    "                print(f\"Status Code: {response.status_code}\")\n",
    "            return True\n",
    "        elif response.status_code == 405 or response.status_code == 403:\n",
    "            if(verbose):\n",
    "                print(f\"✅ Success! The link is real but may not be accessible\")\n",
    "                print(f\"Status Code: {response.status_code}\")\n",
    "            return True\n",
    "        elif response.status_code == 402:\n",
    "            if(verbose):\n",
    "                print(f\"✅ Success! The link is real but may not be accessible without payment\")\n",
    "                print(f\"Status Code: {response.status_code}\")\n",
    "            return True\n",
    "        elif response.status_code == 404:\n",
    "            if(verbose):\n",
    "                print(f\"❌ Failed. The link is correctly formatted but not correct.\")\n",
    "                print(f\"Status Code: {response.status_code}\")\n",
    "            return False\n",
    "        else:\n",
    "            \n",
    "            if(verbose):\n",
    "                print(f\"❌ Failed. The link exists but returned an error.\")\n",
    "                print(f\"Status Code: {response.status_code}\")\n",
    "            return False\n",
    "\n",
    "    except requests.exceptions.RequestException as e:\n",
    "        # Catch all exceptions from the requests library (e.g., connection error,\n",
    "        # timeout, invalid URL) which indicate the link is not accessible.\n",
    "        if(verbose):\n",
    "            print(f\"❌ Error: The link appears to be fake or is currently down.\")\n",
    "            print(f\"Details: {e}\")\n",
    "        return False\n"
   ]
  },
  {
   "cell_type": "code",
   "execution_count": 205,
   "id": "3ca7f754-9ffc-4afb-91e4-62647290172c",
   "metadata": {},
   "outputs": [
    {
     "data": {
      "text/plain": [
       "False"
      ]
     },
     "execution_count": 205,
     "metadata": {},
     "output_type": "execute_result"
    }
   ],
   "source": [
    "verify_link(fake)"
   ]
  },
  {
   "cell_type": "code",
   "execution_count": 206,
   "id": "5913e049-7bc8-4e2b-996d-1e9d737b65c7",
   "metadata": {},
   "outputs": [
    {
     "data": {
      "text/plain": [
       "True"
      ]
     },
     "execution_count": 206,
     "metadata": {},
     "output_type": "execute_result"
    }
   ],
   "source": [
    "verify_link(\"google.com\")"
   ]
  },
  {
   "cell_type": "code",
   "execution_count": 207,
   "id": "55f4ab09-221d-4962-ab1a-c8728d242319",
   "metadata": {},
   "outputs": [],
   "source": [
    "test_phrase = f\"Search www.google.com for sources and then refer to the information on {fake}\""
   ]
  },
  {
   "cell_type": "code",
   "execution_count": 208,
   "id": "0b6242e0-5332-4efc-b2d4-46712a3cfce7",
   "metadata": {},
   "outputs": [
    {
     "data": {
      "text/plain": [
       "'Search www.google.com for sources and then refer to the information on https://www.nature.com/articles/climate-adaptation-2023-study'"
      ]
     },
     "execution_count": 208,
     "metadata": {},
     "output_type": "execute_result"
    }
   ],
   "source": [
    "test_phrase"
   ]
  },
  {
   "cell_type": "code",
   "execution_count": 209,
   "id": "a88ef852-173d-4115-af3f-a95e5ec2183e",
   "metadata": {},
   "outputs": [
    {
     "name": "stdout",
     "output_type": "stream",
     "text": [
      "www.google.com - True\n",
      "https://www.nature.com/articles/climate-adaptation-2023-study - False\n"
     ]
    }
   ],
   "source": [
    "for url in extract_urls(test_phrase):\n",
    "    print(f\"{url} - {verify_link(url)}\")"
   ]
  },
  {
   "cell_type": "code",
   "execution_count": 210,
   "id": "221fa658-8c00-442b-8451-e8ae9b3e7839",
   "metadata": {},
   "outputs": [
    {
     "data": {
      "text/plain": [
       "False"
      ]
     },
     "execution_count": 210,
     "metadata": {},
     "output_type": "execute_result"
    }
   ],
   "source": [
    "verify_link(\"https://beta-portal.test/signup?ref=mock123\")"
   ]
  },
  {
   "cell_type": "code",
   "execution_count": 108,
   "id": "470a2203-01a6-4edc-aaa1-0b114d80e8d1",
   "metadata": {},
   "outputs": [],
   "source": [
    "gpt = \"\"\"The capital of France is Paris.\n",
    "Sources:\n",
    "\n",
    "https://www.britannica.com/place/France\n",
    "\n",
    "https://en.wikipedia.org/wiki/Paris\n",
    "\n",
    "https://www.cia.gov/the-world-factbook/countries/france/\"\"\" + f\"\\n\\n {fake}\""
   ]
  },
  {
   "cell_type": "code",
   "execution_count": 109,
   "id": "66bf7ba7-42e7-4671-868b-0a77996c7994",
   "metadata": {},
   "outputs": [
    {
     "name": "stdout",
     "output_type": "stream",
     "text": [
      "https://www.britannica.com/place/France - True\n",
      "https://en.wikipedia.org/wiki/Paris - True\n",
      "https://www.cia.gov/the-world-factbook/countries/france/ - True\n",
      "https://www.nature.com/articles/climate-adaptation-2023-study - False\n"
     ]
    }
   ],
   "source": [
    "for url in extract_urls(gpt):\n",
    "    print(f\"{url} - {verify_link(url)}\")"
   ]
  },
  {
   "cell_type": "code",
   "execution_count": 234,
   "id": "51b4b1e2-cbe4-45b1-88d9-01d0c70cdb4a",
   "metadata": {},
   "outputs": [],
   "source": [
    "GPT_out = \"\"\"\n",
    "Here is a **step-by-step plan** to treat someone with a common cold. Of course, this is general guidance and not a substitute for medical advice — if symptoms are severe or unusual, consult a healthcare provider.\n",
    "\n",
    "---\n",
    "\n",
    "### 1. Recognise that a cold is viral and self-limiting\n",
    "\n",
    "* The Common cold is caused by viruses (often rhinoviruses) and typically resolves on its own in ~7-10 days. (Cleveland Clinic) ([Cleveland Clinic][1])\n",
    "* Because it’s viral, antibiotics are not indicated unless there is a secondary bacterial infection. ([American Academy of Family Physicians][2])\n",
    "* Explaining this to the person helps set expectations and avoid unnecessary medications. (Simasek & Blandino, 2012) ([American Academy of Family Physicians][3])\n",
    "\n",
    "---\n",
    "\n",
    "### 2. Supportive self-care (rest, fluids, humidity)\n",
    "\n",
    "* **Rest**: Allow the body to recover. (Mayo Clinic) ([Mayo Clinic][4])\n",
    "* **Hydration**: Drink plenty of fluids (water, tea, broth) to replace losses and help loosen mucus. (Hopkins Medicine) ([Hopkins Medicine][5])\n",
    "* **Humidify/steam**: Using a cool-mist humidifier or inhaling steam (e.g., from a hot shower) may ease nasal congestion. (CDC) ([CDC][6])\n",
    "* **Saline nasal sprays or irrigation**: These can help relieve nasal congestion and improve breathing. (BMJ Best Practice) ([BMJ Best Practice][7])\n",
    "\n",
    "---\n",
    "\n",
    "### 3. Symptom-relief medications (for adults, with caution)\n",
    "\n",
    "* **Analgesics/antipyretics**: Medicines like acetaminophen (paracetamol) or NSAIDs (e.g., ibuprofen) help relieve pain/fever. (Simasek & Blandino, 2012) ([American Academy of Family Physicians][3])\n",
    "* **Nasal decongestants (with/without antihistamines)**: These may reduce nasal congestion in adults. (American Academy of Family Physicians) ([American Academy of Family Physicians][2])\n",
    "* **Zinc lozenges** (if started early): Some evidence suggests they may reduce the duration of symptoms when used early in adults. (Prevention & Managing Common Cold, PMC) ([PMC][8])\n",
    "* **Honey for cough (children over 1 yr)**: For children (≥1 year), honey may help reduce nighttime cough severity. (Pharmacologic & Nonpharmacologic Treatment for Acute Cough, 2018) ([PMC][9])\n",
    "* **Important cautions**:\n",
    "\n",
    "  * Avoid giving multi-symptom OTC cold & cough medicines to children under age 4. (AAFP) ([American Academy of Family Physicians][2])\n",
    "  * Always read labels and avoid combining medicines that duplicate the same active ingredient. (MedlinePlus) ([MedlinePlus][10])\n",
    "  * Use nasal decongestant sprays for limited duration (e.g., ≤3 days) to avoid rebound congestion. (NHS) ([nhs.uk][11])\n",
    "\n",
    "---\n",
    "\n",
    "### 4. Home remedies and comfort measures\n",
    "\n",
    "* **Warm fluids**: Hot lemon-honey drinks, broth soups help soothe throat and provide comfort. (NHS) ([nhs.uk][11])\n",
    "* **Gargle salt water**: Gargling warm saline can help with throat pain or irritation. (Hopkins Medicine) ([Hopkins Medicine][5])\n",
    "* **Vapor rubs**: For children (above certain ages) or adults, topical rubs with menthol/camphor may ease cough or chest congestion. (AAFP) ([American Academy of Family Physicians][3])\n",
    "* **Avoid irritants**: Avoid smoking or exposure to smoke—these can worsen symptoms. (NHS) ([nhs.uk][11])\n",
    "\n",
    "---\n",
    "\n",
    "### 5. Prevent spreading and complications\n",
    "\n",
    "* **Hand hygiene**: Frequent hand-washing is one of the most effective methods to prevent catching or spreading a cold. (AAFP) ([American Academy of Family Physicians][2])\n",
    "* **Cough/sneeze etiquette**: Cover mouth/nose, use tissues, dispose of tissues immediately. (Johns Hopkins Medicine) ([Hopkins Medicine][12])\n",
    "* **Monitor for red flags**: If symptoms worsen, persist beyond ~10 days, or signs of secondary infection (e.g., high fever, ear pain, difficulty breathing) appear—seek medical attention. (Cleveland Clinic) ([Cleveland Clinic][1])\n",
    "\n",
    "---\n",
    "\n",
    "### 6. Duration and outcome\n",
    "\n",
    "* Most colds improve by day 7-10, though a cough or runny nose may linger a bit longer. (Premium sources) ([Mayo Clinic][4])\n",
    "* The goal of treatment is **symptom relief**, not cure — because there is currently no antiviral therapy proven for the common cold in otherwise healthy people. (Prevention & Managing Common Cold, PMC) ([PMC][8])\n",
    "\n",
    "---\n",
    "\n",
    "### Summary quick-check list\n",
    "\n",
    "* Rest and sleep more than usual\n",
    "* Increase fluid intake (non-alcoholic, non-caffeinated)\n",
    "* Use humidifier or steam to ease congestion\n",
    "* Use saline nasal sprays/irrigations\n",
    "* Use pain/fever relievers if needed, and decongestants/antihistamines in adults (with caution)\n",
    "* Consider zinc lozenges (adults) or honey (kids >1yr) for cough\n",
    "* Soothe throat with warm drinks or salt-water gargle\n",
    "* Practice good hygiene to prevent spread\n",
    "* Monitor symptoms and seek care if red-flags appear\n",
    "\n",
    "---\n",
    "\n",
    "If you like, I can **tailor** this plan specifically for children, or for someone with a chronic condition (e.g., asthma) — would that be helpful?\n",
    "\n",
    "[1]: https://my.clevelandclinic.org/health/diseases/12342-common-cold?utm_source=chatgpt.com \"Common Cold (Rhinovirus): Symptoms, Causes & Treatment\"\n",
    "[2]: https://www.aafp.org/pubs/afp/issues/2019/0901/p281.html?utm_source=chatgpt.com \"Treatment of the Common Cold | AAFP\"\n",
    "[3]: https://www.aafp.org/pubs/afp/issues/2012/0715/p153.html?utm_source=chatgpt.com \"Treatment of the Common Cold in Children and Adults - AAFP\"\n",
    "[4]: https://www.mayoclinic.org/diseases-conditions/common-cold/diagnosis-treatment/drc-20351611?utm_source=chatgpt.com \"Common cold - Diagnosis and treatment - Mayo Clinic\"\n",
    "[5]: https://www.hopkinsmedicine.org/health/wellness-and-prevention/the-dos-and-donts-of-easing-cold-symptoms?utm_source=chatgpt.com \"The Do's and Don'ts of Easing Cold Symptoms\"\n",
    "[6]: https://www.cdc.gov/common-cold/treatment/index.html?utm_source=chatgpt.com \"Manage Common Cold - CDC\"\n",
    "[7]: https://bestpractice.bmj.com/topics/en-gb/252/management-approach?utm_source=chatgpt.com \"Common cold - Management Approach | BMJ Best Practice\"\n",
    "[8]: https://pmc.ncbi.nlm.nih.gov/articles/PMC3928210/?utm_source=chatgpt.com \"Prevention and treatment of the common cold: making sense of the ...\"\n",
    "[9]: https://pmc.ncbi.nlm.nih.gov/articles/PMC6026258/?utm_source=chatgpt.com \"Pharmacologic and Nonpharmacologic Treatment for Acute Cough ...\"\n",
    "[10]: https://medlineplus.gov/ency/patientinstructions/000466.htm?utm_source=chatgpt.com \"How to treat the common cold at home - MedlinePlus\"\n",
    "[11]: https://www.nhs.uk/conditions/common-cold/?utm_source=chatgpt.com \"Common cold - NHS\"\n",
    "[12]: https://www.hopkinsmedicine.org/health/conditions-and-diseases/common-cold?utm_source=chatgpt.com \"Common Cold | Johns Hopkins Medicine\"\n",
    "\"\"\""
   ]
  },
  {
   "cell_type": "code",
   "execution_count": 226,
   "id": "8f39f207-060d-406b-b216-5f6da0e28933",
   "metadata": {},
   "outputs": [],
   "source": [
    "urls = extract_urls(GPT_out)"
   ]
  },
  {
   "cell_type": "code",
   "execution_count": 227,
   "id": "13942cef-c37f-4728-a792-5950e80d51fe",
   "metadata": {},
   "outputs": [
    {
     "data": {
      "text/plain": [
       "['nhs.uk',\n",
       " 'nhs.uk',\n",
       " 'nhs.uk',\n",
       " 'https://my.clevelandclinic.org/health/diseases/12342-common-cold',\n",
       " 'https://www.aafp.org/pubs/afp/issues/2019/0901/p281.html',\n",
       " 'https://www.aafp.org/pubs/afp/issues/2012/0715/p153.html',\n",
       " 'https://www.mayoclinic.org/diseases-conditions/common-cold/diagnosis-treatment/drc-20351611',\n",
       " 'https://www.hopkinsmedicine.org/health/wellness-and-prevention/the-dos-and-donts-of-easing-cold-symptoms',\n",
       " 'https://www.cdc.gov/common-cold/treatment/index.html',\n",
       " 'https://bestpractice.bmj.com/topics/en-gb/252/management-approach',\n",
       " 'https://pmc.ncbi.nlm.nih.gov/articles/PMC3928210/',\n",
       " 'https://pmc.ncbi.nlm.nih.gov/articles/PMC6026258/',\n",
       " 'https://medlineplus.gov/ency/patientinstructions/000466.htm',\n",
       " 'https://www.nhs.uk/conditions/common-cold/',\n",
       " 'https://www.hopkinsmedicine.org/health/conditions-and-diseases/common-cold']"
      ]
     },
     "execution_count": 227,
     "metadata": {},
     "output_type": "execute_result"
    }
   ],
   "source": [
    "urls"
   ]
  },
  {
   "cell_type": "code",
   "execution_count": 342,
   "id": "c8a9dbb0-4019-465f-a6fe-80790ed2838a",
   "metadata": {},
   "outputs": [
    {
     "name": "stdout",
     "output_type": "stream",
     "text": [
      "https://www.aafp.org/pubs/afp/issues/2019/0901/p281.html - True\n",
      "https://www.aafp.org/pubs/afp/issues/2012/0715/p153.html - True\n",
      "https://www.mayoclinic.org/diseases-conditions/common-cold/diagnosis-treatment/drc-20351611 - True\n",
      "https://www.hopkinsmedicine.org/health/wellness-and-prevention/the-dos-and-donts-of-easing-cold-symptoms - True\n",
      "https://www.cdc.gov/common-cold/treatment/index.html - True\n",
      "https://bestpractice.bmj.com/topics/en-gb/252/management-approach - True\n",
      "https://pmc.ncbi.nlm.nih.gov/articles/PMC3928210/ - True\n",
      "https://pmc.ncbi.nlm.nih.gov/articles/PMC6026258/ - True\n",
      "https://medlineplus.gov/ency/patientinstructions/000466.htm - True\n",
      "https://www.nhs.uk/conditions/common-cold/ - True\n",
      "https://www.hopkinsmedicine.org/health/conditions-and-diseases/common-cold - True\n"
     ]
    }
   ],
   "source": [
    "for url in urls[4:]:\n",
    "    print(f\"{url} - {verify_link(url)}\")"
   ]
  },
  {
   "cell_type": "code",
   "execution_count": 340,
   "id": "4457bafa-a862-4d55-980b-fc7a15211b88",
   "metadata": {},
   "outputs": [],
   "source": [
    "verified = [verify_link(url) for url in urls]"
   ]
  },
  {
   "cell_type": "code",
   "execution_count": 341,
   "id": "041ca312-8706-4e81-9b18-6b01c8fb57f9",
   "metadata": {},
   "outputs": [
    {
     "data": {
      "text/plain": [
       "[True,\n",
       " True,\n",
       " True,\n",
       " True,\n",
       " True,\n",
       " True,\n",
       " True,\n",
       " True,\n",
       " True,\n",
       " True,\n",
       " True,\n",
       " True,\n",
       " True,\n",
       " True,\n",
       " True]"
      ]
     },
     "execution_count": 341,
     "metadata": {},
     "output_type": "execute_result"
    }
   ],
   "source": [
    "verified"
   ]
  },
  {
   "cell_type": "code",
   "execution_count": null,
   "id": "79796e84-1956-4962-a058-23c0f2517f5d",
   "metadata": {},
   "outputs": [],
   "source": []
  },
  {
   "cell_type": "code",
   "execution_count": 230,
   "id": "ca8cce8a-042e-4ab6-8448-7d5ae40d5cad",
   "metadata": {},
   "outputs": [
    {
     "data": {
      "text/plain": [
       "'https://www.hopkinsmedicine.org/health/conditions-and-diseases/common-cold'"
      ]
     },
     "execution_count": 230,
     "metadata": {},
     "output_type": "execute_result"
    }
   ],
   "source": [
    "url"
   ]
  },
  {
   "cell_type": "code",
   "execution_count": 233,
   "id": "22638d03-e922-4a21-8009-fc4ba4a356b6",
   "metadata": {},
   "outputs": [
    {
     "name": "stdout",
     "output_type": "stream",
     "text": [
      "✅ Success! The link is real but may not be accessible\n",
      "Status Code: 403\n"
     ]
    },
    {
     "data": {
      "text/plain": [
       "True"
      ]
     },
     "execution_count": 233,
     "metadata": {},
     "output_type": "execute_result"
    }
   ],
   "source": [
    "verify_link(url,verbose=True)"
   ]
  },
  {
   "cell_type": "code",
   "execution_count": null,
   "id": "42288083-da8a-48ac-b9ab-a166974a8a6e",
   "metadata": {},
   "outputs": [],
   "source": []
  },
  {
   "cell_type": "code",
   "execution_count": null,
   "id": "a4a4b0c6-cf7d-43c6-aaf5-9a9d2240ac4c",
   "metadata": {},
   "outputs": [],
   "source": []
  },
  {
   "cell_type": "markdown",
   "id": "3e311bb2-4b05-453a-a246-0517b464f240",
   "metadata": {
    "jp-MarkdownHeadingCollapsed": true
   },
   "source": [
    "## Citations"
   ]
  },
  {
   "cell_type": "code",
   "execution_count": 151,
   "id": "db76af62-826f-4f24-9840-f8d9c31172eb",
   "metadata": {},
   "outputs": [],
   "source": [
    "from scholarly import scholarly"
   ]
  },
  {
   "cell_type": "code",
   "execution_count": 138,
   "id": "131d4de1-6e9a-43fb-8b38-c5d42467fa10",
   "metadata": {},
   "outputs": [],
   "source": [
    "sample_text = \"\"\"\n",
    "This is some introductory text that might contain inline citations like [1]\n",
    "or (Smith et al., 2021), which should be ignored by the extractor. The\n",
    "goal is to focus only on the reference list below.\n",
    "\n",
    "    References\n",
    "    ----------\n",
    "    1. LeCun, Y., Boser, B., Denker, J. S., Henderson, D., Howard, R. E., Hubbard, W., & Jackel, L. D. (1989).\n",
    "    Backpropagation Applied to Handwritten Zip Code Recognition.\n",
    "    Neural Computation, 1(4), 541–551.\n",
    "    DOI: 10.1162/neco.1989.1.4.541\n",
    "    \n",
    "    2. Vaswani, A., Shazeer, N., Parmar, N., Uszkoreit, J., Jones, L., Gomez, A. N., ... & Polosukhin, I. (2017).\n",
    "    Attention is all you need.\n",
    "    Advances in neural information processing systems, 30.\n",
    "    \n",
    "    3. Krizhevsky, A., Sutskever, I., & Hinton, G. E. (2012).\n",
    "    Imagenet classification with deep convolutional neural networks.\n",
    "    Communications of the ACM, 60(6), 84-90.\n",
    "\"\"\""
   ]
  },
  {
   "cell_type": "code",
   "execution_count": 131,
   "id": "49fb6e94-634e-4b7f-b0ff-a985bc50c196",
   "metadata": {},
   "outputs": [],
   "source": [
    "gpt_cit = \"\"\"\n",
    "Convolutional Neural Networks (CNNs) were first introduced by Yann LeCun and colleagues in the late 1980s, with their most notable early work being the LeNet architecture.\n",
    "\n",
    "Here are the key papers and citations:\n",
    "\n",
    "1. LeCun, Y., Boser, B., Denker, J. S., Henderson, D., Howard, R. E., Hubbard, W., & Jackel, L. D. (1989).\n",
    "Backpropagation Applied to Handwritten Zip Code Recognition.\n",
    "Neural Computation, 1(4), 541–551.\n",
    "DOI: 10.1162/neco.1989.1.4.541\n",
    "\n",
    "2. Vaswani, A., Shazeer, N., Parmar, N., Uszkoreit, J., Jones, L., Gomez, A. N., ... & Polosukhin, I. (2017).\n",
    "    Attention is all you need.\n",
    "    Advances in neural information processing systems, 30.\n",
    "\"\"\""
   ]
  },
  {
   "cell_type": "code",
   "execution_count": 235,
   "id": "8850a952-9a31-4854-ad82-d9b88f7675aa",
   "metadata": {},
   "outputs": [],
   "source": [
    "def extract_references(text):\n",
    "    \"\"\"\n",
    "    Extracts full, multi-line reference citations from a reference list.\n",
    "\n",
    "    This function is designed to parse a block of text containing a\n",
    "    numbered bibliography and extract each full reference. It identifies\n",
    "    references that start with a number (e.g., \"1. \") and captures the\n",
    "    entire multi-line entry.\n",
    "\n",
    "    It specifically avoids simple inline citations like '[1]' or '(Smith, 2021)'.\n",
    "\n",
    "    Args:\n",
    "        text (str): The text containing the reference list.\n",
    "\n",
    "    Returns:\n",
    "        list: A list of all found full reference strings.\n",
    "    \"\"\"\n",
    "    # Pre-process the text to strip leading whitespace from each line. This\n",
    "    # makes the main regex more robust against indented reference lists.\n",
    "    processed_text = re.sub(r'^\\s+', '', text.strip(), flags=re.MULTILINE)\n",
    "\n",
    "    # This regex finds entries in a numbered list. It starts by finding a line\n",
    "    # beginning with digits and a period. It then non-greedily matches all\n",
    "    # characters (including newlines) until it sees the start of the next\n",
    "    # reference (another line starting with digits and a period) or the\n",
    "    # end of the string.\n",
    "    citation_pattern = re.compile(\n",
    "        r\"^\\d+\\..+?(?=\\n^\\d+\\.|\\Z)\",\n",
    "        re.MULTILINE | re.DOTALL\n",
    "    )\n",
    "\n",
    "    # Find all non-overlapping matches in the processed string\n",
    "    citations = citation_pattern.findall(processed_text)\n",
    "    # Strip leading/trailing whitespace from each found citation\n",
    "    return [citation.strip() for citation in citations]"
   ]
  },
  {
   "cell_type": "code",
   "execution_count": 147,
   "id": "c6f78e58-5afd-48d1-a373-2596cda2ebd0",
   "metadata": {},
   "outputs": [
    {
     "data": {
      "text/plain": [
       "['1. LeCun, Y., Boser, B., Denker, J. S., Henderson, D., Howard, R. E., Hubbard, W., & Jackel, L. D. (1989).\\nBackpropagation Applied to Handwritten Zip Code Recognition.\\nNeural Computation, 1(4), 541–551.\\nDOI: 10.1162/neco.1989.1.4.541',\n",
       " '2. Vaswani, A., Shazeer, N., Parmar, N., Uszkoreit, J., Jones, L., Gomez, A. N., ... & Polosukhin, I. (2017).\\nAttention is all you need.\\nAdvances in neural information processing systems, 30.']"
      ]
     },
     "execution_count": 147,
     "metadata": {},
     "output_type": "execute_result"
    }
   ],
   "source": [
    "extract_references(gpt_cit)"
   ]
  },
  {
   "cell_type": "code",
   "execution_count": 148,
   "id": "eb3ade06-ebcc-4410-b221-ed30da90694a",
   "metadata": {},
   "outputs": [
    {
     "data": {
      "text/plain": [
       "['1. LeCun, Y., Boser, B., Denker, J. S., Henderson, D., Howard, R. E., Hubbard, W., & Jackel, L. D. (1989).\\nBackpropagation Applied to Handwritten Zip Code Recognition.\\nNeural Computation, 1(4), 541–551.\\nDOI: 10.1162/neco.1989.1.4.541',\n",
       " '2. Vaswani, A., Shazeer, N., Parmar, N., Uszkoreit, J., Jones, L., Gomez, A. N., ... & Polosukhin, I. (2017).\\nAttention is all you need.\\nAdvances in neural information processing systems, 30.',\n",
       " '3. Krizhevsky, A., Sutskever, I., & Hinton, G. E. (2012).\\nImagenet classification with deep convolutional neural networks.\\nCommunications of the ACM, 60(6), 84-90.']"
      ]
     },
     "execution_count": 148,
     "metadata": {},
     "output_type": "execute_result"
    }
   ],
   "source": [
    "extract_references(sample_text)"
   ]
  },
  {
   "cell_type": "code",
   "execution_count": 236,
   "id": "74c74053-aab5-4253-9982-b413da27021c",
   "metadata": {},
   "outputs": [
    {
     "data": {
      "text/plain": [
       "[]"
      ]
     },
     "execution_count": 236,
     "metadata": {},
     "output_type": "execute_result"
    }
   ],
   "source": [
    "extract_references(GPT_out)"
   ]
  },
  {
   "cell_type": "code",
   "execution_count": null,
   "id": "25c7452e-c048-4648-9ce8-e95ac7747b78",
   "metadata": {},
   "outputs": [],
   "source": []
  },
  {
   "cell_type": "code",
   "execution_count": 153,
   "id": "48899c89-666b-4d2d-a408-9b524872753e",
   "metadata": {},
   "outputs": [],
   "source": [
    "def verify_references(references):\n",
    "    \"\"\"\n",
    "    Verifies a list of reference strings using python-scholarly.\n",
    "\n",
    "    For each reference, it queries Google Scholar to see if a matching\n",
    "    publication can be found.\n",
    "\n",
    "    Args:\n",
    "        references (list): A list of citation strings from extract_references.\n",
    "\n",
    "    Returns:\n",
    "        list: A list of dictionaries, each containing the original reference,\n",
    "              a verification status, and the title of the found publication.\n",
    "    \"\"\"\n",
    "    verification_results = []\n",
    "    print(\"\\nVerifying references against Google Scholar...\")\n",
    "    for ref in references:\n",
    "        try:\n",
    "            # Clean the query by removing the leading number and extra whitespace\n",
    "            query = re.sub(r'^\\d+\\.\\s*', '', ref).strip().replace('\\n', ' ')\n",
    "            # Search for a single, best-match publication\n",
    "            print(f\"Checking {query}\")\n",
    "            publication = scholarly.search_single_pub(query)\n",
    "\n",
    "            if publication:\n",
    "                verification_results.append({\n",
    "                    \"status\": \"Verified\",\n",
    "                    \"found_title\": publication['bib']['title'],\n",
    "                    \"original\": ref,\n",
    "                })\n",
    "            else:\n",
    "                verification_results.append({\n",
    "                    \"status\": \"Unverified\",\n",
    "                    \"found_title\": None,\n",
    "                    \"original\": ref,\n",
    "                })\n",
    "        except Exception as e:\n",
    "            # Catch potential network errors or other issues from the library\n",
    "            verification_results.append({\n",
    "                \"status\": f\"Error during search: {e}\",\n",
    "                \"found_title\": None,\n",
    "                \"original\": ref,\n",
    "            })\n",
    "    return verification_results\n"
   ]
  },
  {
   "cell_type": "code",
   "execution_count": 157,
   "id": "88b1987b-9dfd-43ed-99d2-ac8930dda105",
   "metadata": {},
   "outputs": [],
   "source": [
    "def extract_title_from_reference(reference):\n",
    "    \"\"\"\n",
    "    Extracts the title from a single formatted reference string.\n",
    "\n",
    "    This function assumes the title follows the '(Year).' part of the citation.\n",
    "\n",
    "    Args:\n",
    "        reference (str): A single, multi-line citation string.\n",
    "\n",
    "    Returns:\n",
    "        str or None: The extracted title string, or None if a title\n",
    "                     could not be found with the expected pattern.\n",
    "    \"\"\"\n",
    "    # Clean up newlines for easier regex parsing\n",
    "    single_line_ref = ' '.join(reference.splitlines())\n",
    "\n",
    "    # Regex to find the content between '(YYYY).' and the next period.\n",
    "    # This is a common pattern for titles in many citation styles.\n",
    "    # It handles cases like (1989a).\n",
    "    match = re.search(r'\\(\\d{4}\\w?\\)\\.\\s*(.*?)\\.', single_line_ref)\n",
    "    if match:\n",
    "        # The title is in the first capturing group.\n",
    "        # Strip any leading/trailing whitespace.\n",
    "        return match.group(1).strip()\n",
    "    return None"
   ]
  },
  {
   "cell_type": "code",
   "execution_count": null,
   "id": "2f89d79a-5293-47e5-9d38-9235d11ba3f2",
   "metadata": {},
   "outputs": [],
   "source": []
  },
  {
   "cell_type": "code",
   "execution_count": null,
   "id": "10617d48-e543-4d99-b1a4-7e6a9348eb2b",
   "metadata": {},
   "outputs": [],
   "source": []
  },
  {
   "cell_type": "markdown",
   "id": "66a3279b-5b1a-4ccc-9112-c62f4fc4cb70",
   "metadata": {
    "jp-MarkdownHeadingCollapsed": true
   },
   "source": [
    "# Timeliness"
   ]
  },
  {
   "cell_type": "code",
   "execution_count": 3,
   "id": "43162046-baf5-40de-8042-087055efaaee",
   "metadata": {},
   "outputs": [],
   "source": [
    "import whois"
   ]
  },
  {
   "cell_type": "code",
   "execution_count": 4,
   "id": "919f9311-c486-4647-8adf-1b3f9b735b16",
   "metadata": {},
   "outputs": [],
   "source": [
    "w = whois.whois('example.com')"
   ]
  },
  {
   "cell_type": "code",
   "execution_count": 7,
   "id": "428035d4-ede9-4430-bb7a-3711f94bee74",
   "metadata": {},
   "outputs": [],
   "source": [
    "domain_info = whois.whois(\"googl.com\")"
   ]
  },
  {
   "cell_type": "code",
   "execution_count": null,
   "id": "bb070e9d-e07c-4ddf-8245-a1eff7b2b8b7",
   "metadata": {},
   "outputs": [],
   "source": []
  },
  {
   "cell_type": "code",
   "execution_count": 330,
   "id": "b2077e4d-7ef5-4f34-8d4a-03304c0119a7",
   "metadata": {},
   "outputs": [],
   "source": [
    "def date_from_domain(url, verbose=False):\n",
    "    try:\n",
    "        domain_info = whois.whois(url)\n",
    "        \n",
    "        if domain_info.updated_date:\n",
    "            # The creation_date can be a single datetime object or a list of them\n",
    "            if isinstance(domain_info.updated_date, list):\n",
    "                creation_date = domain_info.updated_date[0].year\n",
    "            else:\n",
    "                creation_date = domain_info.updated_date.year\n",
    "        \n",
    "            current_date = datetime.now().year\n",
    "            domain_age = current_date - creation_date\n",
    "            if(verbose):\n",
    "                print(f\"Domain: {url}\")\n",
    "                print(f\"Domain Age since last upadate ({domain_age} years)\")\n",
    "            return domain_age\n",
    "        else:\n",
    "            if(verbose):\n",
    "                print(f\"Could not find creation date for {url}\")\n",
    "            return None \n",
    "    \n",
    "    except Exception as e:\n",
    "        print(f\"An error occurred: {e}\")"
   ]
  },
  {
   "cell_type": "code",
   "execution_count": 252,
   "id": "7d4bda6b-cd38-4bbd-90f5-aed945a09039",
   "metadata": {},
   "outputs": [],
   "source": [
    "def get_last_modified_date(url):\n",
    "    try:\n",
    "        response = requests.head(url)\n",
    "        if 'Last-Modified' in response.headers:\n",
    "            last_modified_str = response.headers['Last-Modified']\n",
    "            # Parse the date string (e.g., 'Mon, 23 Oct 2023 10:00:00 GMT')\n",
    "            last_modified_date = datetime.strptime(last_modified_str, '%a, %d %b %Y %H:%M:%S %Z')\n",
    "            return last_modified_date\n",
    "        else:\n",
    "            return None\n",
    "    except requests.exceptions.RequestException as e:\n",
    "        print(f\"Error accessing URL: {e}\")\n",
    "        return None"
   ]
  },
  {
   "cell_type": "code",
   "execution_count": 253,
   "id": "1b0b5285-1eff-44f3-808d-c5e2a440c44d",
   "metadata": {},
   "outputs": [
    {
     "name": "stdout",
     "output_type": "stream",
     "text": [
      "Error accessing URL: Invalid URL 'nhs.uk': No scheme supplied. Perhaps you meant https://nhs.uk?\n",
      "nhs.uk - None\n",
      "Error accessing URL: Invalid URL 'nhs.uk': No scheme supplied. Perhaps you meant https://nhs.uk?\n",
      "nhs.uk - None\n",
      "Error accessing URL: Invalid URL 'nhs.uk': No scheme supplied. Perhaps you meant https://nhs.uk?\n",
      "nhs.uk - None\n",
      "https://my.clevelandclinic.org/health/diseases/12342-common-cold - None\n",
      "https://www.aafp.org/pubs/afp/issues/2019/0901/p281.html - 2025-10-17 18:52:22\n",
      "https://www.aafp.org/pubs/afp/issues/2012/0715/p153.html - 2025-10-17 19:43:45\n",
      "https://www.mayoclinic.org/diseases-conditions/common-cold/diagnosis-treatment/drc-20351611 - None\n",
      "https://www.hopkinsmedicine.org/health/wellness-and-prevention/the-dos-and-donts-of-easing-cold-symptoms - None\n",
      "https://www.cdc.gov/common-cold/treatment/index.html - None\n",
      "https://bestpractice.bmj.com/topics/en-gb/252/management-approach - None\n",
      "https://pmc.ncbi.nlm.nih.gov/articles/PMC3928210/ - None\n",
      "https://pmc.ncbi.nlm.nih.gov/articles/PMC6026258/ - None\n",
      "https://medlineplus.gov/ency/patientinstructions/000466.htm - 2025-09-11 18:57:10\n",
      "https://www.nhs.uk/conditions/common-cold/ - None\n",
      "https://www.hopkinsmedicine.org/health/conditions-and-diseases/common-cold - None\n"
     ]
    }
   ],
   "source": [
    "for url in urls:\n",
    "    print(f\"{url} - {get_last_modified_date(url)}\")"
   ]
  },
  {
   "cell_type": "code",
   "execution_count": 331,
   "id": "764b0960-2a34-42b5-ac60-3cefa52b7d54",
   "metadata": {},
   "outputs": [
    {
     "name": "stdout",
     "output_type": "stream",
     "text": [
      "https://www.aafp.org/pubs/afp/issues/2019/0901/p281.html - 0\n",
      "https://www.aafp.org/pubs/afp/issues/2012/0715/p153.html - 0\n",
      "https://www.mayoclinic.org/diseases-conditions/common-cold/diagnosis-treatment/drc-20351611 - 1\n",
      "https://www.hopkinsmedicine.org/health/wellness-and-prevention/the-dos-and-donts-of-easing-cold-symptoms - 0\n",
      "https://www.cdc.gov/common-cold/treatment/index.html - 0\n",
      "https://bestpractice.bmj.com/topics/en-gb/252/management-approach - 0\n",
      "https://pmc.ncbi.nlm.nih.gov/articles/PMC3928210/ - 0\n",
      "https://pmc.ncbi.nlm.nih.gov/articles/PMC6026258/ - 0\n",
      "https://medlineplus.gov/ency/patientinstructions/000466.htm - 0\n",
      "https://www.nhs.uk/conditions/common-cold/ - None\n",
      "https://www.hopkinsmedicine.org/health/conditions-and-diseases/common-cold - 0\n"
     ]
    }
   ],
   "source": [
    "for url in urls[4:]:\n",
    "    print(f\"{url} - {date_from_domain(url)}\")"
   ]
  },
  {
   "cell_type": "code",
   "execution_count": null,
   "id": "0c7086ca-7993-4b90-942b-249d00f7f59f",
   "metadata": {},
   "outputs": [],
   "source": []
  },
  {
   "cell_type": "code",
   "execution_count": 333,
   "id": "b5e4d77c-228d-4e38-a4ea-cae46b1f0966",
   "metadata": {},
   "outputs": [],
   "source": [
    "domain_info = whois.whois(\"https://www.hopkinsmedicine.org/\")"
   ]
  },
  {
   "cell_type": "code",
   "execution_count": 334,
   "id": "f7ca8b58-8a8c-4f20-a841-9f311028624a",
   "metadata": {},
   "outputs": [
    {
     "data": {
      "text/plain": [
       "{'domain_name': 'hopkinsmedicine.org',\n",
       " 'registrar': 'Network Solutions, LLC',\n",
       " 'registrar_url': 'http://www.networksolutions.com',\n",
       " 'reseller': None,\n",
       " 'whois_server': 'whois.networksolutions.com',\n",
       " 'referral_url': None,\n",
       " 'updated_date': [datetime.datetime(2025, 8, 27, 20, 7, 48, tzinfo=tzoffset('UTC', 0)),\n",
       "  datetime.datetime(2023, 12, 10, 18, 33, 3, tzinfo=tzoffset('UTC', 0))],\n",
       " 'creation_date': datetime.datetime(1999, 12, 10, 18, 10, 47, tzinfo=tzoffset('UTC', 0)),\n",
       " 'expiration_date': datetime.datetime(2033, 12, 10, 18, 10, 47, tzinfo=tzoffset('UTC', 0)),\n",
       " 'name_servers': ['ens1.jhmi.edu', 'ens1.jhu.edu'],\n",
       " 'status': 'clientTransferProhibited https://icann.org/epp#clientTransferProhibited',\n",
       " 'emails': ['domain.operations@web.com',\n",
       "  'webcenter@jhmi.edu',\n",
       "  'DDIAdmins@jhmi.edu'],\n",
       " 'dnssec': 'signedDelegation',\n",
       " 'name': None,\n",
       " 'org': None,\n",
       " 'address': '901 S BOND ST STE 550',\n",
       " 'city': 'BALTIMORE',\n",
       " 'state': 'MD',\n",
       " 'registrant_postal_code': '21231-3359',\n",
       " 'country': 'US',\n",
       " 'tech_name': None,\n",
       " 'tech_org': None,\n",
       " 'admin_name': None,\n",
       " 'admin_org': None}"
      ]
     },
     "execution_count": 334,
     "metadata": {},
     "output_type": "execute_result"
    }
   ],
   "source": [
    "domain_info"
   ]
  },
  {
   "cell_type": "code",
   "execution_count": 335,
   "id": "b558280a-c0c8-41a5-bb8e-c3643a890a67",
   "metadata": {},
   "outputs": [
    {
     "data": {
      "text/plain": [
       "{'domain_name': 'hopkinsmedicine.org',\n",
       " 'registrar': 'Network Solutions, LLC',\n",
       " 'registrar_url': 'http://www.networksolutions.com',\n",
       " 'reseller': None,\n",
       " 'whois_server': 'whois.networksolutions.com',\n",
       " 'referral_url': None,\n",
       " 'updated_date': [datetime.datetime(2025, 8, 27, 20, 7, 48, tzinfo=tzoffset('UTC', 0)),\n",
       "  datetime.datetime(2023, 12, 10, 18, 33, 3, tzinfo=tzoffset('UTC', 0))],\n",
       " 'creation_date': datetime.datetime(1999, 12, 10, 18, 10, 47, tzinfo=tzoffset('UTC', 0)),\n",
       " 'expiration_date': datetime.datetime(2033, 12, 10, 18, 10, 47, tzinfo=tzoffset('UTC', 0)),\n",
       " 'name_servers': ['ens1.jhmi.edu', 'ens1.jhu.edu'],\n",
       " 'status': 'clientTransferProhibited https://icann.org/epp#clientTransferProhibited',\n",
       " 'emails': ['domain.operations@web.com',\n",
       "  'webcenter@jhmi.edu',\n",
       "  'DDIAdmins@jhmi.edu'],\n",
       " 'dnssec': 'signedDelegation',\n",
       " 'name': None,\n",
       " 'org': None,\n",
       " 'address': '901 S BOND ST STE 550',\n",
       " 'city': 'BALTIMORE',\n",
       " 'state': 'MD',\n",
       " 'registrant_postal_code': '21231-3359',\n",
       " 'country': 'US',\n",
       " 'tech_name': None,\n",
       " 'tech_org': None,\n",
       " 'admin_name': None,\n",
       " 'admin_org': None}"
      ]
     },
     "execution_count": 335,
     "metadata": {},
     "output_type": "execute_result"
    }
   ],
   "source": [
    "whois.whois(\"https://www.hopkinsmedicine.org/health/wellness-and-prevention/the-dos-and-donts-of-easing-cold-symptoms \")"
   ]
  },
  {
   "cell_type": "code",
   "execution_count": 336,
   "id": "eed9dcae-b836-4407-9648-bfb867d33d5d",
   "metadata": {},
   "outputs": [],
   "source": [
    "get_last_modified_date(\"https://www.hopkinsmedicine.org/\")"
   ]
  },
  {
   "cell_type": "code",
   "execution_count": 339,
   "id": "e9e6f642-1ba6-45a5-b207-6847f53cc275",
   "metadata": {},
   "outputs": [],
   "source": [
    "get_last_modified_date(\"https://www.hopkinsmedicine.org/health/wellness-and-prevention/the-dos-and-donts-of-easing-cold-symptoms\")"
   ]
  },
  {
   "cell_type": "markdown",
   "id": "03e97b30-39a3-43ff-9d2a-9b0c36490c95",
   "metadata": {},
   "source": [
    "# Run All Configs"
   ]
  },
  {
   "cell_type": "code",
   "execution_count": 1,
   "id": "8b7ecb7e-bc78-4151-bbbb-6136d4261abe",
   "metadata": {},
   "outputs": [
    {
     "name": "stderr",
     "output_type": "stream",
     "text": [
      "/home/vinayak/miniconda3/envs/trustBench/lib/python3.13/site-packages/requests/__init__.py:86: RequestsDependencyWarning: Unable to find acceptable character detection dependency (chardet or charset_normalizer).\n",
      "  warnings.warn(\n"
     ]
    }
   ],
   "source": [
    "from runtimetest import main"
   ]
  },
  {
   "cell_type": "code",
   "execution_count": 2,
   "id": "858148a7-3a11-4f63-b5cb-e5178bba5051",
   "metadata": {},
   "outputs": [],
   "source": [
    "models = ['llama3:8b','llama3.2:1b','qwen3:0.6b','gpt-oss:20b','gpt-4.1-mini']\n",
    "datasets = ['truthful_qa','med_qa','fin_qa']"
   ]
  },
  {
   "cell_type": "code",
   "execution_count": null,
   "id": "089f7761-c5e5-4973-ad43-0dfb969c60c5",
   "metadata": {},
   "outputs": [
    {
     "name": "stderr",
     "output_type": "stream",
     "text": [
      "/home/vinayak/miniconda3/envs/trustBench/lib/python3.13/site-packages/sklearn/base.py:442: InconsistentVersionWarning: Trying to unpickle estimator LinearDiscriminantAnalysis from version 1.6.0 when using version 1.7.2. This might lead to breaking code or invalid results. Use at your own risk. For more info please refer to:\n",
      "https://scikit-learn.org/stable/model_persistence.html#security-maintainability-limitations\n",
      "  warnings.warn(\n",
      "Processing:   0%|                                                                          | 0/33 [00:00<?, ?it/s]Error trying to connect to socket: closing socket - [Errno 104] Connection reset by peer\n",
      "Processing: 100%|█████████████████████████████████████████████████████████████████| 33/33 [00:26<00:00,  1.23it/s]\n"
     ]
    },
    {
     "name": "stdout",
     "output_type": "stream",
     "text": [
      "Writing results to eval/llama3.2:1b+truthful_qa-truthful_qa.json...\n"
     ]
    },
    {
     "name": "stderr",
     "output_type": "stream",
     "text": [
      "/home/vinayak/miniconda3/envs/trustBench/lib/python3.13/site-packages/sklearn/base.py:442: InconsistentVersionWarning: Trying to unpickle estimator LinearDiscriminantAnalysis from version 1.6.0 when using version 1.7.2. This might lead to breaking code or invalid results. Use at your own risk. For more info please refer to:\n",
      "https://scikit-learn.org/stable/model_persistence.html#security-maintainability-limitations\n",
      "  warnings.warn(\n",
      "Processing: 100%|█████████████████████████████████████████████████████████████████| 33/33 [00:17<00:00,  1.85it/s]\n"
     ]
    },
    {
     "name": "stdout",
     "output_type": "stream",
     "text": [
      "Writing results to eval/llama3.2:1b+med_qa-truthful_qa.json...\n"
     ]
    },
    {
     "name": "stderr",
     "output_type": "stream",
     "text": [
      "/home/vinayak/miniconda3/envs/trustBench/lib/python3.13/site-packages/sklearn/base.py:442: InconsistentVersionWarning: Trying to unpickle estimator LinearDiscriminantAnalysis from version 1.6.0 when using version 1.7.2. This might lead to breaking code or invalid results. Use at your own risk. For more info please refer to:\n",
      "https://scikit-learn.org/stable/model_persistence.html#security-maintainability-limitations\n",
      "  warnings.warn(\n",
      "Processing:  24%|████████████████                                                  | 8/33 [00:04<00:11,  2.13it/s]Error trying to connect to socket: closing socket - timed out\n",
      "Processing:  67%|███████████████████████████████████████████▎                     | 22/33 [00:29<00:08,  1.23it/s]Error trying to connect to socket: closing socket - [Errno 104] Connection reset by peer\n",
      "Processing: 100%|█████████████████████████████████████████████████████████████████| 33/33 [00:48<00:00,  1.48s/it]\n"
     ]
    },
    {
     "name": "stdout",
     "output_type": "stream",
     "text": [
      "Writing results to eval/llama3.2:1b+fin_qa-truthful_qa.json...\n"
     ]
    },
    {
     "name": "stderr",
     "output_type": "stream",
     "text": [
      "/home/vinayak/miniconda3/envs/trustBench/lib/python3.13/site-packages/sklearn/base.py:442: InconsistentVersionWarning: Trying to unpickle estimator LinearDiscriminantAnalysis from version 1.6.0 when using version 1.7.2. This might lead to breaking code or invalid results. Use at your own risk. For more info please refer to:\n",
      "https://scikit-learn.org/stable/model_persistence.html#security-maintainability-limitations\n",
      "  warnings.warn(\n",
      "Processing:  18%|████████████                                                      | 6/33 [00:04<00:24,  1.08it/s]Error trying to connect to socket: closing socket - [Errno 104] Connection reset by peer\n",
      "Error trying to connect to socket: closing socket - [Errno 104] Connection reset by peer\n",
      "Processing: 100%|█████████████████████████████████████████████████████████████████| 33/33 [00:56<00:00,  1.70s/it]\n"
     ]
    },
    {
     "name": "stdout",
     "output_type": "stream",
     "text": [
      "Writing results to eval/llama3.2:1b+truthful_qa-med_qa.json...\n"
     ]
    },
    {
     "name": "stderr",
     "output_type": "stream",
     "text": [
      "/home/vinayak/miniconda3/envs/trustBench/lib/python3.13/site-packages/sklearn/base.py:442: InconsistentVersionWarning: Trying to unpickle estimator LinearDiscriminantAnalysis from version 1.6.0 when using version 1.7.2. This might lead to breaking code or invalid results. Use at your own risk. For more info please refer to:\n",
      "https://scikit-learn.org/stable/model_persistence.html#security-maintainability-limitations\n",
      "  warnings.warn(\n",
      "Processing:   6%|████                                                              | 2/33 [00:03<01:07,  2.18s/it]Error trying to connect to socket: closing socket - [Errno 104] Connection reset by peer\n",
      "Processing:  18%|████████████                                                      | 6/33 [00:11<00:57,  2.12s/it]Error trying to connect to socket: closing socket - [Errno 104] Connection reset by peer\n",
      "Processing: 100%|█████████████████████████████████████████████████████████████████| 33/33 [00:40<00:00,  1.22s/it]\n"
     ]
    },
    {
     "name": "stdout",
     "output_type": "stream",
     "text": [
      "Writing results to eval/llama3.2:1b+med_qa-med_qa.json...\n"
     ]
    },
    {
     "name": "stderr",
     "output_type": "stream",
     "text": [
      "/home/vinayak/miniconda3/envs/trustBench/lib/python3.13/site-packages/sklearn/base.py:442: InconsistentVersionWarning: Trying to unpickle estimator LinearDiscriminantAnalysis from version 1.6.0 when using version 1.7.2. This might lead to breaking code or invalid results. Use at your own risk. For more info please refer to:\n",
      "https://scikit-learn.org/stable/model_persistence.html#security-maintainability-limitations\n",
      "  warnings.warn(\n",
      "Processing:  33%|█████████████████████▋                                           | 11/33 [00:07<00:18,  1.19it/s]Error trying to connect to socket: closing socket - [Errno 104] Connection reset by peer\n",
      "Error trying to connect to socket: closing socket - [Errno 104] Connection reset by peer\n",
      "Processing:  55%|███████████████████████████████████▍                             | 18/33 [00:13<00:09,  1.66it/s]Error trying to connect to socket: closing socket - [Errno 104] Connection reset by peer\n",
      "Processing: 100%|█████████████████████████████████████████████████████████████████| 33/33 [00:27<00:00,  1.19it/s]\n"
     ]
    },
    {
     "name": "stdout",
     "output_type": "stream",
     "text": [
      "Writing results to eval/llama3.2:1b+fin_qa-med_qa.json...\n"
     ]
    },
    {
     "name": "stderr",
     "output_type": "stream",
     "text": [
      "/home/vinayak/miniconda3/envs/trustBench/lib/python3.13/site-packages/sklearn/base.py:442: InconsistentVersionWarning: Trying to unpickle estimator LinearDiscriminantAnalysis from version 1.6.0 when using version 1.7.2. This might lead to breaking code or invalid results. Use at your own risk. For more info please refer to:\n",
      "https://scikit-learn.org/stable/model_persistence.html#security-maintainability-limitations\n",
      "  warnings.warn(\n",
      "Processing: 100%|█████████████████████████████████████████████████████████████████| 33/33 [00:56<00:00,  1.71s/it]\n"
     ]
    },
    {
     "name": "stdout",
     "output_type": "stream",
     "text": [
      "Writing results to eval/llama3.2:1b+truthful_qa-fin_qa.json...\n"
     ]
    },
    {
     "name": "stderr",
     "output_type": "stream",
     "text": [
      "/home/vinayak/miniconda3/envs/trustBench/lib/python3.13/site-packages/sklearn/base.py:442: InconsistentVersionWarning: Trying to unpickle estimator LinearDiscriminantAnalysis from version 1.6.0 when using version 1.7.2. This might lead to breaking code or invalid results. Use at your own risk. For more info please refer to:\n",
      "https://scikit-learn.org/stable/model_persistence.html#security-maintainability-limitations\n",
      "  warnings.warn(\n",
      "Processing: 100%|█████████████████████████████████████████████████████████████████| 33/33 [00:35<00:00,  1.07s/it]\n"
     ]
    },
    {
     "name": "stdout",
     "output_type": "stream",
     "text": [
      "Writing results to eval/llama3.2:1b+med_qa-fin_qa.json...\n"
     ]
    },
    {
     "name": "stderr",
     "output_type": "stream",
     "text": [
      "/home/vinayak/miniconda3/envs/trustBench/lib/python3.13/site-packages/sklearn/base.py:442: InconsistentVersionWarning: Trying to unpickle estimator LinearDiscriminantAnalysis from version 1.6.0 when using version 1.7.2. This might lead to breaking code or invalid results. Use at your own risk. For more info please refer to:\n",
      "https://scikit-learn.org/stable/model_persistence.html#security-maintainability-limitations\n",
      "  warnings.warn(\n",
      "Processing:  52%|█████████████████████████████████▍                               | 17/33 [00:40<00:13,  1.16it/s]"
     ]
    }
   ],
   "source": [
    "# for model in models:\n",
    "model = 'llama3.2:1b'\n",
    "for eval_dataset in datasets:\n",
    "    for weights_dataset in datasets:\n",
    "        if(model=='gpt-4.1-mini'):\n",
    "            model_mode = \"openai\"\n",
    "        else:\n",
    "            model_mode = \"ollama\"\n",
    "        main(MODEL_MODE=model_mode, \n",
    "             model=model,\n",
    "             weights_dataset=weights_dataset,\n",
    "             eval_dataset=eval_dataset)"
   ]
  },
  {
   "cell_type": "code",
   "execution_count": null,
   "id": "3420dc90-dfb5-446e-94aa-4facadf688ea",
   "metadata": {},
   "outputs": [],
   "source": []
  },
  {
   "cell_type": "code",
   "execution_count": null,
   "id": "627c2ce2-26d4-45ff-8da0-f4e947665549",
   "metadata": {},
   "outputs": [],
   "source": []
  },
  {
   "cell_type": "code",
   "execution_count": null,
   "id": "c5a4ba45-f374-44bd-963d-86c20ec5101e",
   "metadata": {},
   "outputs": [],
   "source": []
  },
  {
   "cell_type": "code",
   "execution_count": null,
   "id": "c3f637f4-d14a-42c5-9dd4-b3052740d77f",
   "metadata": {},
   "outputs": [],
   "source": []
  },
  {
   "cell_type": "code",
   "execution_count": null,
   "id": "3ababac3-4404-4b78-88f4-29efdc667148",
   "metadata": {},
   "outputs": [],
   "source": []
  }
 ],
 "metadata": {
  "kernelspec": {
   "display_name": "Python 3 (ipykernel)",
   "language": "python",
   "name": "python3"
  },
  "language_info": {
   "codemirror_mode": {
    "name": "ipython",
    "version": 3
   },
   "file_extension": ".py",
   "mimetype": "text/x-python",
   "name": "python",
   "nbconvert_exporter": "python",
   "pygments_lexer": "ipython3",
   "version": "3.13.7"
  }
 },
 "nbformat": 4,
 "nbformat_minor": 5
}
