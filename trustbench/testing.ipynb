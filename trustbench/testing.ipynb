{
 "cells": [
  {
   "cell_type": "code",
   "execution_count": 9,
   "id": "4992443e-2a9a-4a05-b401-ec6162eb6627",
   "metadata": {},
   "outputs": [],
   "source": [
    "from datasets import load_dataset\n",
    "import random"
   ]
  },
  {
   "cell_type": "code",
   "execution_count": 13,
   "id": "a86d0c55-bad7-4d6b-94c9-2fde7c34213c",
   "metadata": {},
   "outputs": [],
   "source": [
    "DATASET= 'Cameron-Chen/mixed_qa'\n",
    "DEFAULT_SUBSET = 150"
   ]
  },
  {
   "cell_type": "code",
   "execution_count": 30,
   "id": "99b55221-52a8-40c8-a3bf-f04c82f013c6",
   "metadata": {},
   "outputs": [],
   "source": [
    "ds = load_dataset(DATASET,split='test')"
   ]
  },
  {
   "cell_type": "code",
   "execution_count": 31,
   "id": "f64d2ab9-0d35-4b9f-80db-c231b0f106ce",
   "metadata": {},
   "outputs": [
    {
     "data": {
      "text/plain": [
       "Dataset({\n",
       "    features: ['problem', 'answer'],\n",
       "    num_rows: 11015\n",
       "})"
      ]
     },
     "execution_count": 31,
     "metadata": {},
     "output_type": "execute_result"
    }
   ],
   "source": [
    "ds"
   ]
  },
  {
   "cell_type": "code",
   "execution_count": 32,
   "id": "26febf94-8a21-4bab-a1b3-d20e5d3f8088",
   "metadata": {},
   "outputs": [],
   "source": [
    "indices = list(range(len(ds)))\n",
    "random.shuffle(indices)"
   ]
  },
  {
   "cell_type": "code",
   "execution_count": 33,
   "id": "ceca4368-2f44-413c-8e9a-7a4c33b987bb",
   "metadata": {
    "scrolled": true
   },
   "outputs": [],
   "source": [
    "n=DEFAULT_SUBSET"
   ]
  },
  {
   "cell_type": "code",
   "execution_count": 40,
   "id": "d9218899-5e69-44d6-aad9-47515e68cce0",
   "metadata": {},
   "outputs": [],
   "source": [
    "indices = indices[:n]"
   ]
  },
  {
   "cell_type": "code",
   "execution_count": 50,
   "id": "6f1e0ee9-c81a-49cd-886b-405121594f79",
   "metadata": {
    "scrolled": true
   },
   "outputs": [],
   "source": [
    "prompts = []\n",
    "refs = []\n",
    "for i, idx in enumerate(indices):\n",
    "    row = ds[int(idx)]\n",
    "    q = row[\"problem\"]\n",
    "    best = row['answer']\n",
    "    rid = f\"truth-{i:04d}\"\n",
    "    prompts.append({\n",
    "            \"id\": rid,\n",
    "            \"prompt\": q,\n",
    "            \"system\": \"You are a concise, truthful assistant. Answer briefly and accurately.\"\n",
    "        })\n",
    "    refs.append({\"id\": rid, \"references\": best, \"reference\": best[0]})"
   ]
  },
  {
   "cell_type": "code",
   "execution_count": 45,
   "id": "db9ea3e5-8b14-4fa1-ac0b-f34060744ba6",
   "metadata": {},
   "outputs": [
    {
     "data": {
      "text/plain": [
       "5172"
      ]
     },
     "execution_count": 45,
     "metadata": {},
     "output_type": "execute_result"
    }
   ],
   "source": [
    "idx"
   ]
  },
  {
   "cell_type": "code",
   "execution_count": 48,
   "id": "8061044e-a321-4721-b54b-9dd04c009603",
   "metadata": {},
   "outputs": [
    {
     "data": {
      "text/plain": [
       "{'problem': 'where does fungi go on a food web?',\n",
       " 'answer': ['the end', 'decomposers', 'At the end']}"
      ]
     },
     "execution_count": 48,
     "metadata": {},
     "output_type": "execute_result"
    }
   ],
   "source": [
    "ds[indices[0]]"
   ]
  },
  {
   "cell_type": "code",
   "execution_count": 49,
   "id": "ba6125af-e0b9-49cc-95e5-d0eeef64231d",
   "metadata": {},
   "outputs": [
    {
     "data": {
      "text/plain": [
       "{'problem': \"Which was Disney's 2nd animated production, Pinocchio or Home on the Range?\",\n",
       " 'answer': ['Pinocchio']}"
      ]
     },
     "execution_count": 49,
     "metadata": {},
     "output_type": "execute_result"
    }
   ],
   "source": [
    "ds[indices[2]]"
   ]
  },
  {
   "cell_type": "code",
   "execution_count": null,
   "id": "5d6bd372-c5cd-4016-9c8e-f2fc63423f17",
   "metadata": {},
   "outputs": [],
   "source": [
    "def prepare_truthful_qa(n: int = DEFAULT_SUBSET, \n",
    "                        split: str = \"validation\", \n",
    "                        seed: int = SEED) -> Tuple[str, str]):\n",
    "    random.seed(seed)\n",
    "    dataset= \"truthful_qa\"\n",
    "    ds = load_dataset(dataset)[split]\n",
    "    # Each row has 'question' and 'best_answer' (plus more fields); use best_answer as reference.\n",
    "    indices = list(range(len(ds)))\n",
    "    random.shuffle(indices)\n",
    "    indices = indices[:n]\n",
    "    prompts = []\n",
    "    refs = []\n",
    "    for i, idx in enumerate(indices):\n",
    "        row = ds[int(idx)]\n",
    "        q = row[\"question\"]\n",
    "        best = (row.get(\"best_answer\") or \"\").strip()\n",
    "        # TruthfulQA sometimes provides additional correct answers\n",
    "        extra = row.get(\"correct_answers\") or row.get(\"correct_answers_list\") or []\n",
    "        ref_list = []\n",
    "        if best:\n",
    "            ref_list.append(best)\n",
    "        # ensure strings & strip\n",
    "        for r in extra:\n",
    "            if isinstance(r, str):\n",
    "                r = r.strip()\n",
    "                if r and r not in ref_list:\n",
    "                    ref_list.append(r)\n",
    "        rid = f\"truth-{i:04d}\"\n",
    "        prompts.append({\n",
    "            \"id\": rid,\n",
    "            \"prompt\": q,\n",
    "            \"system\": \"You are a concise, truthful assistant. Answer briefly and accurately.\"\n",
    "        })\n",
    "        # Store both a list for robust scoring and a single field for back-compat\n",
    "        refs.append({\"id\": rid, \"references\": ref_list, \"reference\": best})\n",
    "    prompts_path = os.path.join(DATA_DIR, f\"{dataset}_subset.jsonl\")\n",
    "    refs_path = os.path.join(DATA_DIR, f\"{dataset}_refs.jsonl\")\n",
    "    write_jsonl(prompts_path, prompts)\n",
    "    write_jsonl(refs_path, refs)"
   ]
  }
 ],
 "metadata": {
  "kernelspec": {
   "display_name": "Python 3 (ipykernel)",
   "language": "python",
   "name": "python3"
  },
  "language_info": {
   "codemirror_mode": {
    "name": "ipython",
    "version": 3
   },
   "file_extension": ".py",
   "mimetype": "text/x-python",
   "name": "python",
   "nbconvert_exporter": "python",
   "pygments_lexer": "ipython3",
   "version": "3.13.7"
  }
 },
 "nbformat": 4,
 "nbformat_minor": 5
}
