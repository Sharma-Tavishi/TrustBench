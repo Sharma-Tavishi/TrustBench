{
 "cells": [
  {
   "cell_type": "code",
   "execution_count": 6,
   "id": "6b03adc1-d849-4fdd-b5e0-ff5144b94041",
   "metadata": {},
   "outputs": [],
   "source": [
    "from sklearn.isotonic import IsotonicRegression\n",
    "import pandas as pd\n",
    "import numpy as np\n",
    "import matplotlib.pyplot as plt"
   ]
  },
  {
   "cell_type": "markdown",
   "id": "aa136135-8f59-4928-a3a5-da8c32a5b5a3",
   "metadata": {},
   "source": [
    "## Load dataframe from json"
   ]
  },
  {
   "cell_type": "code",
   "execution_count": 43,
   "id": "4b68f559-a428-4d42-bba3-28592df58027",
   "metadata": {},
   "outputs": [],
   "source": [
    "dataset = 'mixed_qa'\n",
    "model = 'llama3:8b'"
   ]
  },
  {
   "cell_type": "code",
   "execution_count": 44,
   "id": "e85f405b-1eef-4cba-ac1e-5c40ecd18b87",
   "metadata": {},
   "outputs": [],
   "source": [
    "metrics = pd.read_json(f\"./results/{model}-{dataset}/metrics_detail.jsonl\",lines=True)"
   ]
  },
  {
   "cell_type": "code",
   "execution_count": 45,
   "id": "cb371ce1-f3a1-47cd-8dbf-527a69c085e6",
   "metadata": {},
   "outputs": [
    {
     "data": {
      "text/html": [
       "<div>\n",
       "<style scoped>\n",
       "    .dataframe tbody tr th:only-of-type {\n",
       "        vertical-align: middle;\n",
       "    }\n",
       "\n",
       "    .dataframe tbody tr th {\n",
       "        vertical-align: top;\n",
       "    }\n",
       "\n",
       "    .dataframe thead th {\n",
       "        text-align: right;\n",
       "    }\n",
       "</style>\n",
       "<table border=\"1\" class=\"dataframe\">\n",
       "  <thead>\n",
       "    <tr style=\"text-align: right;\">\n",
       "      <th></th>\n",
       "      <th>id</th>\n",
       "      <th>f1</th>\n",
       "      <th>rouge_l</th>\n",
       "      <th>bertscore_f1</th>\n",
       "    </tr>\n",
       "  </thead>\n",
       "  <tbody>\n",
       "    <tr>\n",
       "      <th>0</th>\n",
       "      <td>truth-0000</td>\n",
       "      <td>0.074074</td>\n",
       "      <td>0.074074</td>\n",
       "      <td>0.817724</td>\n",
       "    </tr>\n",
       "    <tr>\n",
       "      <th>1</th>\n",
       "      <td>truth-0001</td>\n",
       "      <td>0.000000</td>\n",
       "      <td>0.000000</td>\n",
       "      <td>0.784338</td>\n",
       "    </tr>\n",
       "    <tr>\n",
       "      <th>2</th>\n",
       "      <td>truth-0002</td>\n",
       "      <td>0.000000</td>\n",
       "      <td>0.000000</td>\n",
       "      <td>0.799800</td>\n",
       "    </tr>\n",
       "    <tr>\n",
       "      <th>3</th>\n",
       "      <td>truth-0003</td>\n",
       "      <td>0.000000</td>\n",
       "      <td>0.000000</td>\n",
       "      <td>0.839012</td>\n",
       "    </tr>\n",
       "    <tr>\n",
       "      <th>4</th>\n",
       "      <td>truth-0004</td>\n",
       "      <td>0.150000</td>\n",
       "      <td>0.150000</td>\n",
       "      <td>0.840229</td>\n",
       "    </tr>\n",
       "  </tbody>\n",
       "</table>\n",
       "</div>"
      ],
      "text/plain": [
       "           id        f1   rouge_l  bertscore_f1\n",
       "0  truth-0000  0.074074  0.074074      0.817724\n",
       "1  truth-0001  0.000000  0.000000      0.784338\n",
       "2  truth-0002  0.000000  0.000000      0.799800\n",
       "3  truth-0003  0.000000  0.000000      0.839012\n",
       "4  truth-0004  0.150000  0.150000      0.840229"
      ]
     },
     "execution_count": 45,
     "metadata": {},
     "output_type": "execute_result"
    }
   ],
   "source": [
    "metrics.head()"
   ]
  },
  {
   "cell_type": "code",
   "execution_count": 48,
   "id": "b602a9f6-e614-4823-ad10-7f77839c4348",
   "metadata": {},
   "outputs": [],
   "source": [
    "model_outs = pd.read_json(f\"./results/{model}-{dataset}/outputs_with_confidence.jsonl\",lines=True)"
   ]
  },
  {
   "cell_type": "code",
   "execution_count": 49,
   "id": "3cacb776-8b74-4007-b990-e154e4f2d454",
   "metadata": {},
   "outputs": [
    {
     "data": {
      "text/html": [
       "<div>\n",
       "<style scoped>\n",
       "    .dataframe tbody tr th:only-of-type {\n",
       "        vertical-align: middle;\n",
       "    }\n",
       "\n",
       "    .dataframe tbody tr th {\n",
       "        vertical-align: top;\n",
       "    }\n",
       "\n",
       "    .dataframe thead th {\n",
       "        text-align: right;\n",
       "    }\n",
       "</style>\n",
       "<table border=\"1\" class=\"dataframe\">\n",
       "  <thead>\n",
       "    <tr style=\"text-align: right;\">\n",
       "      <th></th>\n",
       "      <th>id</th>\n",
       "      <th>prompt</th>\n",
       "      <th>completion</th>\n",
       "      <th>score</th>\n",
       "      <th>confidence</th>\n",
       "    </tr>\n",
       "  </thead>\n",
       "  <tbody>\n",
       "    <tr>\n",
       "      <th>0</th>\n",
       "      <td>truth-0000</td>\n",
       "      <td>who wrote he ain't heavy he's my brother lyrics?</td>\n",
       "      <td>The song \"He Ain't Heavy, He's My Brother\" was...</td>\n",
       "      <td>5.0</td>\n",
       "      <td>0.9</td>\n",
       "    </tr>\n",
       "    <tr>\n",
       "      <th>1</th>\n",
       "      <td>truth-0001</td>\n",
       "      <td>who is the president of the republic of zambia?</td>\n",
       "      <td>As of my knowledge cutoff, the President of Za...</td>\n",
       "      <td>4.0</td>\n",
       "      <td>0.9</td>\n",
       "    </tr>\n",
       "    <tr>\n",
       "      <th>2</th>\n",
       "      <td>truth-0002</td>\n",
       "      <td>Are both Jim McBride and Neil Jordan American?</td>\n",
       "      <td>Jim McBride is an American film director, prod...</td>\n",
       "      <td>5.0</td>\n",
       "      <td>1.0</td>\n",
       "    </tr>\n",
       "    <tr>\n",
       "      <th>3</th>\n",
       "      <td>truth-0003</td>\n",
       "      <td>In what year did the manager of the singer-son...</td>\n",
       "      <td>You're referring to Don McLean!\\n\\nThe manager...</td>\n",
       "      <td>5.0</td>\n",
       "      <td>1.0</td>\n",
       "    </tr>\n",
       "    <tr>\n",
       "      <th>4</th>\n",
       "      <td>truth-0004</td>\n",
       "      <td>which is the ring finger for male in india?</td>\n",
       "      <td>In India, the ring finger for a male is the fo...</td>\n",
       "      <td>1.0</td>\n",
       "      <td>0.5</td>\n",
       "    </tr>\n",
       "  </tbody>\n",
       "</table>\n",
       "</div>"
      ],
      "text/plain": [
       "           id                                             prompt  \\\n",
       "0  truth-0000   who wrote he ain't heavy he's my brother lyrics?   \n",
       "1  truth-0001    who is the president of the republic of zambia?   \n",
       "2  truth-0002     Are both Jim McBride and Neil Jordan American?   \n",
       "3  truth-0003  In what year did the manager of the singer-son...   \n",
       "4  truth-0004        which is the ring finger for male in india?   \n",
       "\n",
       "                                          completion  score  confidence  \n",
       "0  The song \"He Ain't Heavy, He's My Brother\" was...    5.0         0.9  \n",
       "1  As of my knowledge cutoff, the President of Za...    4.0         0.9  \n",
       "2  Jim McBride is an American film director, prod...    5.0         1.0  \n",
       "3  You're referring to Don McLean!\\n\\nThe manager...    5.0         1.0  \n",
       "4  In India, the ring finger for a male is the fo...    1.0         0.5  "
      ]
     },
     "execution_count": 49,
     "metadata": {},
     "output_type": "execute_result"
    }
   ],
   "source": [
    "model_outs.head()"
   ]
  },
  {
   "cell_type": "code",
   "execution_count": 50,
   "id": "81c43a42-9b1d-4bba-bb90-75a8b1a209e3",
   "metadata": {},
   "outputs": [],
   "source": [
    "joined_data = metrics.merge(model_outs, on='id', how='left')"
   ]
  },
  {
   "cell_type": "code",
   "execution_count": 51,
   "id": "e41df0ce-4416-41a8-bf67-1f3ee420c1a3",
   "metadata": {},
   "outputs": [
    {
     "data": {
      "text/html": [
       "<div>\n",
       "<style scoped>\n",
       "    .dataframe tbody tr th:only-of-type {\n",
       "        vertical-align: middle;\n",
       "    }\n",
       "\n",
       "    .dataframe tbody tr th {\n",
       "        vertical-align: top;\n",
       "    }\n",
       "\n",
       "    .dataframe thead th {\n",
       "        text-align: right;\n",
       "    }\n",
       "</style>\n",
       "<table border=\"1\" class=\"dataframe\">\n",
       "  <thead>\n",
       "    <tr style=\"text-align: right;\">\n",
       "      <th></th>\n",
       "      <th>id</th>\n",
       "      <th>f1</th>\n",
       "      <th>rouge_l</th>\n",
       "      <th>bertscore_f1</th>\n",
       "      <th>prompt</th>\n",
       "      <th>completion</th>\n",
       "      <th>score</th>\n",
       "      <th>confidence</th>\n",
       "    </tr>\n",
       "  </thead>\n",
       "  <tbody>\n",
       "    <tr>\n",
       "      <th>0</th>\n",
       "      <td>truth-0000</td>\n",
       "      <td>0.074074</td>\n",
       "      <td>0.074074</td>\n",
       "      <td>0.817724</td>\n",
       "      <td>who wrote he ain't heavy he's my brother lyrics?</td>\n",
       "      <td>The song \"He Ain't Heavy, He's My Brother\" was...</td>\n",
       "      <td>5.0</td>\n",
       "      <td>0.9</td>\n",
       "    </tr>\n",
       "    <tr>\n",
       "      <th>1</th>\n",
       "      <td>truth-0001</td>\n",
       "      <td>0.000000</td>\n",
       "      <td>0.000000</td>\n",
       "      <td>0.784338</td>\n",
       "      <td>who is the president of the republic of zambia?</td>\n",
       "      <td>As of my knowledge cutoff, the President of Za...</td>\n",
       "      <td>4.0</td>\n",
       "      <td>0.9</td>\n",
       "    </tr>\n",
       "    <tr>\n",
       "      <th>2</th>\n",
       "      <td>truth-0002</td>\n",
       "      <td>0.000000</td>\n",
       "      <td>0.000000</td>\n",
       "      <td>0.799800</td>\n",
       "      <td>Are both Jim McBride and Neil Jordan American?</td>\n",
       "      <td>Jim McBride is an American film director, prod...</td>\n",
       "      <td>5.0</td>\n",
       "      <td>1.0</td>\n",
       "    </tr>\n",
       "    <tr>\n",
       "      <th>3</th>\n",
       "      <td>truth-0003</td>\n",
       "      <td>0.000000</td>\n",
       "      <td>0.000000</td>\n",
       "      <td>0.839012</td>\n",
       "      <td>In what year did the manager of the singer-son...</td>\n",
       "      <td>You're referring to Don McLean!\\n\\nThe manager...</td>\n",
       "      <td>5.0</td>\n",
       "      <td>1.0</td>\n",
       "    </tr>\n",
       "    <tr>\n",
       "      <th>4</th>\n",
       "      <td>truth-0004</td>\n",
       "      <td>0.150000</td>\n",
       "      <td>0.150000</td>\n",
       "      <td>0.840229</td>\n",
       "      <td>which is the ring finger for male in india?</td>\n",
       "      <td>In India, the ring finger for a male is the fo...</td>\n",
       "      <td>1.0</td>\n",
       "      <td>0.5</td>\n",
       "    </tr>\n",
       "  </tbody>\n",
       "</table>\n",
       "</div>"
      ],
      "text/plain": [
       "           id        f1   rouge_l  bertscore_f1  \\\n",
       "0  truth-0000  0.074074  0.074074      0.817724   \n",
       "1  truth-0001  0.000000  0.000000      0.784338   \n",
       "2  truth-0002  0.000000  0.000000      0.799800   \n",
       "3  truth-0003  0.000000  0.000000      0.839012   \n",
       "4  truth-0004  0.150000  0.150000      0.840229   \n",
       "\n",
       "                                              prompt  \\\n",
       "0   who wrote he ain't heavy he's my brother lyrics?   \n",
       "1    who is the president of the republic of zambia?   \n",
       "2     Are both Jim McBride and Neil Jordan American?   \n",
       "3  In what year did the manager of the singer-son...   \n",
       "4        which is the ring finger for male in india?   \n",
       "\n",
       "                                          completion  score  confidence  \n",
       "0  The song \"He Ain't Heavy, He's My Brother\" was...    5.0         0.9  \n",
       "1  As of my knowledge cutoff, the President of Za...    4.0         0.9  \n",
       "2  Jim McBride is an American film director, prod...    5.0         1.0  \n",
       "3  You're referring to Don McLean!\\n\\nThe manager...    5.0         1.0  \n",
       "4  In India, the ring finger for a male is the fo...    1.0         0.5  "
      ]
     },
     "execution_count": 51,
     "metadata": {},
     "output_type": "execute_result"
    }
   ],
   "source": [
    "joined_data.head()"
   ]
  },
  {
   "cell_type": "code",
   "execution_count": 53,
   "id": "823a8e3d-6f20-442a-985c-61649cbb9459",
   "metadata": {},
   "outputs": [
    {
     "data": {
      "text/plain": [
       "array([5., 4., 1.])"
      ]
     },
     "execution_count": 53,
     "metadata": {},
     "output_type": "execute_result"
    }
   ],
   "source": [
    "pd.unique(joined_data['score'])"
   ]
  },
  {
   "cell_type": "code",
   "execution_count": null,
   "id": "2fe85c7d-1576-4c9c-ba55-ca2473769ac7",
   "metadata": {},
   "outputs": [],
   "source": []
  },
  {
   "cell_type": "markdown",
   "id": "3a678337-2de5-47d3-8dbb-a640f5edb566",
   "metadata": {},
   "source": [
    "## Create Training Data for Isotonic Regression"
   ]
  },
  {
   "cell_type": "code",
   "execution_count": 113,
   "id": "bab4bf9e-6c3e-4cad-bfe8-197deaf2eeba",
   "metadata": {},
   "outputs": [],
   "source": [
    "category_order = {\n",
    "    'None': 0,\n",
    "    'Low': 1,\n",
    "    'Med': 2,\n",
    "    'High': 3,\n",
    "    'Excellent': 4,\n",
    "}"
   ]
  },
  {
   "cell_type": "code",
   "execution_count": 114,
   "id": "533bf148-ba77-4bd1-ba50-66fbe910b89d",
   "metadata": {},
   "outputs": [],
   "source": [
    "joined_data['LLM Reported Confidence Score'] = joined_data['score'].map(category_order)"
   ]
  },
  {
   "cell_type": "code",
   "execution_count": 54,
   "id": "364ad351-dff3-4888-9cc3-b210c41ab5ff",
   "metadata": {},
   "outputs": [
    {
     "data": {
      "text/html": [
       "<div>\n",
       "<style scoped>\n",
       "    .dataframe tbody tr th:only-of-type {\n",
       "        vertical-align: middle;\n",
       "    }\n",
       "\n",
       "    .dataframe tbody tr th {\n",
       "        vertical-align: top;\n",
       "    }\n",
       "\n",
       "    .dataframe thead th {\n",
       "        text-align: right;\n",
       "    }\n",
       "</style>\n",
       "<table border=\"1\" class=\"dataframe\">\n",
       "  <thead>\n",
       "    <tr style=\"text-align: right;\">\n",
       "      <th></th>\n",
       "      <th>id</th>\n",
       "      <th>f1</th>\n",
       "      <th>rouge_l</th>\n",
       "      <th>bertscore_f1</th>\n",
       "      <th>prompt</th>\n",
       "      <th>completion</th>\n",
       "      <th>score</th>\n",
       "      <th>confidence</th>\n",
       "    </tr>\n",
       "  </thead>\n",
       "  <tbody>\n",
       "    <tr>\n",
       "      <th>0</th>\n",
       "      <td>truth-0000</td>\n",
       "      <td>0.074074</td>\n",
       "      <td>0.074074</td>\n",
       "      <td>0.817724</td>\n",
       "      <td>who wrote he ain't heavy he's my brother lyrics?</td>\n",
       "      <td>The song \"He Ain't Heavy, He's My Brother\" was...</td>\n",
       "      <td>5.0</td>\n",
       "      <td>0.9</td>\n",
       "    </tr>\n",
       "    <tr>\n",
       "      <th>1</th>\n",
       "      <td>truth-0001</td>\n",
       "      <td>0.000000</td>\n",
       "      <td>0.000000</td>\n",
       "      <td>0.784338</td>\n",
       "      <td>who is the president of the republic of zambia?</td>\n",
       "      <td>As of my knowledge cutoff, the President of Za...</td>\n",
       "      <td>4.0</td>\n",
       "      <td>0.9</td>\n",
       "    </tr>\n",
       "    <tr>\n",
       "      <th>2</th>\n",
       "      <td>truth-0002</td>\n",
       "      <td>0.000000</td>\n",
       "      <td>0.000000</td>\n",
       "      <td>0.799800</td>\n",
       "      <td>Are both Jim McBride and Neil Jordan American?</td>\n",
       "      <td>Jim McBride is an American film director, prod...</td>\n",
       "      <td>5.0</td>\n",
       "      <td>1.0</td>\n",
       "    </tr>\n",
       "    <tr>\n",
       "      <th>3</th>\n",
       "      <td>truth-0003</td>\n",
       "      <td>0.000000</td>\n",
       "      <td>0.000000</td>\n",
       "      <td>0.839012</td>\n",
       "      <td>In what year did the manager of the singer-son...</td>\n",
       "      <td>You're referring to Don McLean!\\n\\nThe manager...</td>\n",
       "      <td>5.0</td>\n",
       "      <td>1.0</td>\n",
       "    </tr>\n",
       "    <tr>\n",
       "      <th>4</th>\n",
       "      <td>truth-0004</td>\n",
       "      <td>0.150000</td>\n",
       "      <td>0.150000</td>\n",
       "      <td>0.840229</td>\n",
       "      <td>which is the ring finger for male in india?</td>\n",
       "      <td>In India, the ring finger for a male is the fo...</td>\n",
       "      <td>1.0</td>\n",
       "      <td>0.5</td>\n",
       "    </tr>\n",
       "  </tbody>\n",
       "</table>\n",
       "</div>"
      ],
      "text/plain": [
       "           id        f1   rouge_l  bertscore_f1  \\\n",
       "0  truth-0000  0.074074  0.074074      0.817724   \n",
       "1  truth-0001  0.000000  0.000000      0.784338   \n",
       "2  truth-0002  0.000000  0.000000      0.799800   \n",
       "3  truth-0003  0.000000  0.000000      0.839012   \n",
       "4  truth-0004  0.150000  0.150000      0.840229   \n",
       "\n",
       "                                              prompt  \\\n",
       "0   who wrote he ain't heavy he's my brother lyrics?   \n",
       "1    who is the president of the republic of zambia?   \n",
       "2     Are both Jim McBride and Neil Jordan American?   \n",
       "3  In what year did the manager of the singer-son...   \n",
       "4        which is the ring finger for male in india?   \n",
       "\n",
       "                                          completion  score  confidence  \n",
       "0  The song \"He Ain't Heavy, He's My Brother\" was...    5.0         0.9  \n",
       "1  As of my knowledge cutoff, the President of Za...    4.0         0.9  \n",
       "2  Jim McBride is an American film director, prod...    5.0         1.0  \n",
       "3  You're referring to Don McLean!\\n\\nThe manager...    5.0         1.0  \n",
       "4  In India, the ring finger for a male is the fo...    1.0         0.5  "
      ]
     },
     "execution_count": 54,
     "metadata": {},
     "output_type": "execute_result"
    }
   ],
   "source": [
    "joined_data.head()"
   ]
  },
  {
   "cell_type": "markdown",
   "id": "90edbcba-15bc-4eff-ac59-f9571a4b0e2f",
   "metadata": {},
   "source": [
    "Get the LLM reported confidence as `X` and F1 as `y`"
   ]
  },
  {
   "cell_type": "markdown",
   "id": "4a6ad6da-7a97-4c6f-bb9d-fc00fcaa7608",
   "metadata": {},
   "source": [
    "#### START DEF HERE ### "
   ]
  },
  {
   "cell_type": "code",
   "execution_count": 55,
   "id": "ebce634d-ad58-4007-a095-5247cf769dd2",
   "metadata": {},
   "outputs": [],
   "source": [
    "X = joined_data[['score']].values\n",
    "y = joined_data['rouge_l'].values"
   ]
  },
  {
   "cell_type": "code",
   "execution_count": 56,
   "id": "fa2cfcf5-2316-4401-937f-66faf7f940b5",
   "metadata": {},
   "outputs": [
    {
     "name": "stdout",
     "output_type": "stream",
     "text": [
      "(25, 1)\n",
      "(25,)\n"
     ]
    }
   ],
   "source": [
    "print(X.shape)\n",
    "print(y.shape)"
   ]
  },
  {
   "cell_type": "code",
   "execution_count": 57,
   "id": "e54020d6-fe20-48ad-9531-8409bdcf6985",
   "metadata": {},
   "outputs": [],
   "source": [
    "# Instantiate and fit the model\n",
    "iso_reg = IsotonicRegression(y_min=0, y_max=10, out_of_bounds=\"clip\")\n",
    "y_pred = iso_reg.fit_transform(X.flatten(), y)"
   ]
  },
  {
   "cell_type": "code",
   "execution_count": 58,
   "id": "79435ade-5d1a-4d2e-b02a-a567659c4d10",
   "metadata": {},
   "outputs": [],
   "source": [
    "data ={\"id\":joined_data['id'].values,\n",
    "       \"score\":joined_data['score'].values,\n",
    "       \"LLM Reported Confidence Score\":X.squeeze(),\n",
    "       'rouge_l': y,\n",
    "       'predicted_rouge_l':y_pred\n",
    "      }\n",
    "\n",
    "trained_results = pd.DataFrame(data)"
   ]
  },
  {
   "cell_type": "code",
   "execution_count": 59,
   "id": "363f408a-22d2-436b-a52a-7cb3de9db5e7",
   "metadata": {
    "scrolled": true
   },
   "outputs": [
    {
     "data": {
      "text/html": [
       "<div>\n",
       "<style scoped>\n",
       "    .dataframe tbody tr th:only-of-type {\n",
       "        vertical-align: middle;\n",
       "    }\n",
       "\n",
       "    .dataframe tbody tr th {\n",
       "        vertical-align: top;\n",
       "    }\n",
       "\n",
       "    .dataframe thead th {\n",
       "        text-align: right;\n",
       "    }\n",
       "</style>\n",
       "<table border=\"1\" class=\"dataframe\">\n",
       "  <thead>\n",
       "    <tr style=\"text-align: right;\">\n",
       "      <th></th>\n",
       "      <th>id</th>\n",
       "      <th>score</th>\n",
       "      <th>LLM Reported Confidence Score</th>\n",
       "      <th>rouge_l</th>\n",
       "      <th>predicted_rouge_l</th>\n",
       "    </tr>\n",
       "  </thead>\n",
       "  <tbody>\n",
       "    <tr>\n",
       "      <th>0</th>\n",
       "      <td>truth-0000</td>\n",
       "      <td>5.0</td>\n",
       "      <td>5.0</td>\n",
       "      <td>0.074074</td>\n",
       "      <td>0.044964</td>\n",
       "    </tr>\n",
       "    <tr>\n",
       "      <th>1</th>\n",
       "      <td>truth-0001</td>\n",
       "      <td>4.0</td>\n",
       "      <td>4.0</td>\n",
       "      <td>0.000000</td>\n",
       "      <td>0.044964</td>\n",
       "    </tr>\n",
       "    <tr>\n",
       "      <th>2</th>\n",
       "      <td>truth-0002</td>\n",
       "      <td>5.0</td>\n",
       "      <td>5.0</td>\n",
       "      <td>0.000000</td>\n",
       "      <td>0.044964</td>\n",
       "    </tr>\n",
       "    <tr>\n",
       "      <th>3</th>\n",
       "      <td>truth-0003</td>\n",
       "      <td>5.0</td>\n",
       "      <td>5.0</td>\n",
       "      <td>0.000000</td>\n",
       "      <td>0.044964</td>\n",
       "    </tr>\n",
       "    <tr>\n",
       "      <th>4</th>\n",
       "      <td>truth-0004</td>\n",
       "      <td>1.0</td>\n",
       "      <td>1.0</td>\n",
       "      <td>0.150000</td>\n",
       "      <td>0.043558</td>\n",
       "    </tr>\n",
       "    <tr>\n",
       "      <th>5</th>\n",
       "      <td>truth-0005</td>\n",
       "      <td>5.0</td>\n",
       "      <td>5.0</td>\n",
       "      <td>0.066667</td>\n",
       "      <td>0.044964</td>\n",
       "    </tr>\n",
       "    <tr>\n",
       "      <th>6</th>\n",
       "      <td>truth-0006</td>\n",
       "      <td>5.0</td>\n",
       "      <td>5.0</td>\n",
       "      <td>0.000000</td>\n",
       "      <td>0.044964</td>\n",
       "    </tr>\n",
       "    <tr>\n",
       "      <th>7</th>\n",
       "      <td>truth-0007</td>\n",
       "      <td>5.0</td>\n",
       "      <td>5.0</td>\n",
       "      <td>0.017699</td>\n",
       "      <td>0.044964</td>\n",
       "    </tr>\n",
       "    <tr>\n",
       "      <th>8</th>\n",
       "      <td>truth-0008</td>\n",
       "      <td>4.0</td>\n",
       "      <td>4.0</td>\n",
       "      <td>0.000000</td>\n",
       "      <td>0.044964</td>\n",
       "    </tr>\n",
       "    <tr>\n",
       "      <th>9</th>\n",
       "      <td>truth-0009</td>\n",
       "      <td>5.0</td>\n",
       "      <td>5.0</td>\n",
       "      <td>0.000000</td>\n",
       "      <td>0.044964</td>\n",
       "    </tr>\n",
       "  </tbody>\n",
       "</table>\n",
       "</div>"
      ],
      "text/plain": [
       "           id  score  LLM Reported Confidence Score   rouge_l  \\\n",
       "0  truth-0000    5.0                            5.0  0.074074   \n",
       "1  truth-0001    4.0                            4.0  0.000000   \n",
       "2  truth-0002    5.0                            5.0  0.000000   \n",
       "3  truth-0003    5.0                            5.0  0.000000   \n",
       "4  truth-0004    1.0                            1.0  0.150000   \n",
       "5  truth-0005    5.0                            5.0  0.066667   \n",
       "6  truth-0006    5.0                            5.0  0.000000   \n",
       "7  truth-0007    5.0                            5.0  0.017699   \n",
       "8  truth-0008    4.0                            4.0  0.000000   \n",
       "9  truth-0009    5.0                            5.0  0.000000   \n",
       "\n",
       "   predicted_rouge_l  \n",
       "0           0.044964  \n",
       "1           0.044964  \n",
       "2           0.044964  \n",
       "3           0.044964  \n",
       "4           0.043558  \n",
       "5           0.044964  \n",
       "6           0.044964  \n",
       "7           0.044964  \n",
       "8           0.044964  \n",
       "9           0.044964  "
      ]
     },
     "execution_count": 59,
     "metadata": {},
     "output_type": "execute_result"
    }
   ],
   "source": [
    "trained_results.head(10)"
   ]
  },
  {
   "cell_type": "markdown",
   "id": "b65430e3-edc8-4efb-b887-a4361ec6b124",
   "metadata": {},
   "source": [
    "#### STOP DEF HERE ### "
   ]
  },
  {
   "cell_type": "code",
   "execution_count": 60,
   "id": "4065c2e9-ca01-409a-a7b5-08f98db369c8",
   "metadata": {},
   "outputs": [],
   "source": [
    "import os\n",
    "import pickle"
   ]
  },
  {
   "cell_type": "code",
   "execution_count": 63,
   "id": "e6a22572-88e0-4a18-af9c-cc77985a1761",
   "metadata": {},
   "outputs": [],
   "source": [
    "# Save the model\n",
    "based_file_path = f'saved_models/{model}-{dataset}'\n",
    "filename = os.path.join(based_file_path,\"rouge-l.pkl\")"
   ]
  },
  {
   "cell_type": "code",
   "execution_count": 64,
   "id": "61dc1907-4663-44b1-abbf-dca95daaab44",
   "metadata": {},
   "outputs": [],
   "source": [
    "os.makedirs(based_file_path,exist_ok=True)"
   ]
  },
  {
   "cell_type": "code",
   "execution_count": 65,
   "id": "84f8cefa-fd6c-4933-9826-79bd47357d77",
   "metadata": {},
   "outputs": [],
   "source": [
    "with open(filename, 'wb') as file:\n",
    "    pickle.dump(iso_reg, file)\n",
    "\n",
    "# # Load the model\n",
    "# with open(filename, 'rb') as file:\n",
    "#     loaded_model = pickle.load(file)\n",
    "\n",
    "# # Use the loaded model for predictions\n",
    "# predictions = loaded_model.predict(X)"
   ]
  },
  {
   "cell_type": "code",
   "execution_count": 66,
   "id": "9f56eb65-1492-409b-ba4c-40617fb850f1",
   "metadata": {},
   "outputs": [],
   "source": [
    "trained_results.to_json(os.path.join(based_file_path,'rogue-l-results.jsonl'),lines=True,orient='records')"
   ]
  },
  {
   "cell_type": "code",
   "execution_count": null,
   "id": "fbcf4685-b0b0-4280-b78e-c41d51fa1687",
   "metadata": {},
   "outputs": [],
   "source": []
  },
  {
   "cell_type": "markdown",
   "id": "20771fd4-c19d-485c-9ead-cd9e898ae5dd",
   "metadata": {},
   "source": [
    "### Plot Results"
   ]
  },
  {
   "cell_type": "code",
   "execution_count": 69,
   "id": "9ea0626b-40e4-42e8-93ce-d572e8e27816",
   "metadata": {},
   "outputs": [],
   "source": [
    "trained_results = trained_results.sort_values('score')"
   ]
  },
  {
   "cell_type": "code",
   "execution_count": 72,
   "id": "a7fefd97-5a66-4f6b-9c55-c9fc8fc09702",
   "metadata": {},
   "outputs": [
    {
     "data": {
      "image/png": "[encoded data removed]",
      "text/plain": [
       "<Figure size 800x600 with 1 Axes>"
      ]
     },
     "metadata": {},
     "output_type": "display_data"
    }
   ],
   "source": [
    "plt.figure(figsize=(8, 6))\n",
    "\n",
    "# Plot the original data points\n",
    "plt.scatter(trained_results['LLM Reported Confidence Score'], trained_results['rouge_l'], label='Original Data', color='blue', alpha=0.7, s=80)\n",
    "\n",
    "# Plot the isotonic regression line\n",
    "plt.plot(trained_results['LLM Reported Confidence Score'], trained_results['predicted_rouge_l'], 'r-o', label='Isotonic Regression Fit', markersize=8)\n",
    "\n",
    "plt.title('Isotonic Regression for Categorical Data', fontsize=15)\n",
    "plt.xlabel('LLM Reported Confidence Score', fontsize=12)\n",
    "plt.ylabel('Rouge-L', fontsize=12)\n",
    "\n",
    "plt.legend()\n",
    "plt.grid(True, which='both', linestyle='--', linewidth=0.5)\n",
    "plt.show()"
   ]
  },
  {
   "cell_type": "code",
   "execution_count": 77,
   "id": "eb0fb2c6-35ba-4051-990c-e241f9b50bca",
   "metadata": {},
   "outputs": [
    {
     "data": {
      "text/plain": [
       "array([0.04402647])"
      ]
     },
     "execution_count": 77,
     "metadata": {},
     "output_type": "execute_result"
    }
   ],
   "source": [
    "iso_reg.predict([2])"
   ]
  },
  {
   "cell_type": "code",
   "execution_count": null,
   "id": "b4a56222-5f71-4f69-89cb-c58162ed4a0b",
   "metadata": {},
   "outputs": [],
   "source": []
  },
  {
   "cell_type": "code",
   "execution_count": 70,
   "id": "faebed4f-5e0c-4d64-b1fb-b27c9e488260",
   "metadata": {},
   "outputs": [],
   "source": [
    "# plt.figure(figsize=(8, 6))\n",
    "\n",
    "# # Plot the original data points\n",
    "# plt.scatter(trained_results['LLM Reported Confidence Score'], trained_results['rouge_l'], label='Original Data', color='blue', alpha=0.7, s=80)\n",
    "\n",
    "# # Plot the isotonic regression line\n",
    "# plt.plot(trained_results['LLM Reported Confidence Score'], trained_results['predicted_rouge_l'], 'r-o', label='Isotonic Regression Fit', markersize=8)\n",
    "\n",
    "# plt.title('Isotonic Regression for Categorical Data', fontsize=15)\n",
    "# plt.xlabel('LLM Reported Confidence Score', fontsize=12)\n",
    "# plt.ylabel('Rouge-L', fontsize=12)\n",
    "\n",
    "# # Use the original category labels for the x-axis ticks\n",
    "# plt.xticks(\n",
    "#     ticks=list(category_order.values()),\n",
    "#     labels=list(category_order.keys())\n",
    "# )\n",
    "# plt.legend()\n",
    "# plt.grid(True, which='both', linestyle='--', linewidth=0.5)\n",
    "# plt.show()"
   ]
  },
  {
   "cell_type": "markdown",
   "id": "724f6511-d843-4dd6-8ef0-4b7c62e95b04",
   "metadata": {},
   "source": [
    "# Testing function"
   ]
  },
  {
   "cell_type": "code",
   "execution_count": 27,
   "id": "88181a18-300d-491a-906a-3f40491e839b",
   "metadata": {},
   "outputs": [],
   "source": [
    "all_metrics = {'metrics': ['rougue-l', 'f1','bertscore_f1','bleu'],\n",
    "               'nli': ['nli_entailment', 'nli_contradiction', 'nli_neutral'],\n",
    "               'fconsistency': ['ng1_prec','ng1_rec','ng1_f1']}"
   ]
  },
  {
   "cell_type": "code",
   "execution_count": 5,
   "id": "c114cedd-0b17-484a-ac25-8ae05a3a7f8f",
   "metadata": {},
   "outputs": [
    {
     "name": "stdout",
     "output_type": "stream",
     "text": [
      "metrics ['rougue-l', 'f1', 'bertscore_f1', 'bleu']\n",
      "nli ['nli_entailment', 'nli_contradiction', 'nli_neutral']\n",
      "fconsistency ['ng1_prec', 'ng1_rec', 'ng1_f1']\n"
     ]
    }
   ],
   "source": [
    "for k,v in all_metrics.items():\n",
    "    print(k,v)"
   ]
  },
  {
   "cell_type": "code",
   "execution_count": 78,
   "id": "1dcee2ae-31d4-433b-8ae8-610462e5841e",
   "metadata": {},
   "outputs": [],
   "source": [
    "me = \"nli_contradiction\""
   ]
  },
  {
   "cell_type": "code",
   "execution_count": 79,
   "id": "2623ea8d-0da2-41f2-8553-c177b48a9c71",
   "metadata": {},
   "outputs": [],
   "source": [
    "found_k = None\n",
    "for k,v in all_metrics.items():\n",
    "    if me in v:\n",
    "        found_k = k\n",
    "        break"
   ]
  },
  {
   "cell_type": "code",
   "execution_count": 80,
   "id": "f3adc9d6-eac8-4068-b866-d2bf7025e2cf",
   "metadata": {},
   "outputs": [
    {
     "data": {
      "text/plain": [
       "'nli'"
      ]
     },
     "execution_count": 80,
     "metadata": {},
     "output_type": "execute_result"
    }
   ],
   "source": [
    "found_k"
   ]
  },
  {
   "cell_type": "code",
   "execution_count": null,
   "id": "a30c655d-f14b-4352-b751-548329aecdb6",
   "metadata": {},
   "outputs": [],
   "source": []
  },
  {
   "cell_type": "code",
   "execution_count": 97,
   "id": "e8d215d8-9306-4fc3-b778-9598b28d6631",
   "metadata": {},
   "outputs": [],
   "source": [
    "class RegressionTrainer:\n",
    "    def __init__(self, joined_data:pd.DataFrame, \n",
    "                 y_min=None, y_max=None):\n",
    "        self.model = IsotonicRegression(y_min=y_min, y_max=y_max)\n",
    "\n",
    "        self.joined_data = joined_data\n",
    "        ## Set dummy values for X and y\n",
    "        self.X = self.joined_data[['score']].values\n",
    "        self.y = None\n",
    "        self.y_pred = None\n",
    "\n",
    "    def set_metric(self, metric_label:str):\n",
    "        self.y = self.joined_data[metric_label].values\n",
    "\n",
    "    def train(self):\n",
    "        if self.y is None:\n",
    "            raise ValueError(\"Training y must be set before training.\")\n",
    "        self.y_pred = self.model.fit_transform(self.X, self.y)\n",
    "\n",
    "    def predict(self, X):\n",
    "        return self.model.predict(X)\n",
    "    \n",
    "    def save_model(self, save_path:str):\n",
    "        with open(save_path, 'wb') as f:\n",
    "            pickle.dump(self.model, f)\n",
    "\n",
    "def load_data(model_name, dataset_name, metric_name):\n",
    "    file_path =f\"./results/{model_name}-{dataset_name}/{metric_name}_detail.jsonl\"\n",
    "    metrics = pd.read_json(file_path, lines=True)\n",
    "    return metrics\n",
    "\n",
    "def get_joined_data(model_out:pd.DataFrame,metrics:pd.DataFrame) -> pd.DataFrame:\n",
    "    return pd.merge(model_out, metrics, on='id')"
   ]
  },
  {
   "cell_type": "code",
   "execution_count": 118,
   "id": "65ee96e5-36c4-432c-ba65-6dddce677fa8",
   "metadata": {},
   "outputs": [],
   "source": [
    "model = \"llama3.2:1b\"\n",
    "dataset = \"mixed_qa\""
   ]
  },
  {
   "cell_type": "code",
   "execution_count": 119,
   "id": "5070aa95-455a-4028-8216-314afa31e8d0",
   "metadata": {},
   "outputs": [],
   "source": [
    "metrics_df = load_data(model, dataset, k)"
   ]
  },
  {
   "cell_type": "code",
   "execution_count": 120,
   "id": "90be3560-5e0c-4e7f-a1c3-6fa12c984910",
   "metadata": {},
   "outputs": [
    {
     "data": {
      "text/html": [
       "<div>\n",
       "<style scoped>\n",
       "    .dataframe tbody tr th:only-of-type {\n",
       "        vertical-align: middle;\n",
       "    }\n",
       "\n",
       "    .dataframe tbody tr th {\n",
       "        vertical-align: top;\n",
       "    }\n",
       "\n",
       "    .dataframe thead th {\n",
       "        text-align: right;\n",
       "    }\n",
       "</style>\n",
       "<table border=\"1\" class=\"dataframe\">\n",
       "  <thead>\n",
       "    <tr style=\"text-align: right;\">\n",
       "      <th></th>\n",
       "      <th>id</th>\n",
       "      <th>nli_entailment</th>\n",
       "      <th>nli_contradiction</th>\n",
       "      <th>nli_neutral</th>\n",
       "    </tr>\n",
       "  </thead>\n",
       "  <tbody>\n",
       "    <tr>\n",
       "      <th>0</th>\n",
       "      <td>truth-0000</td>\n",
       "      <td>0.002903</td>\n",
       "      <td>0.869193</td>\n",
       "      <td>0.127904</td>\n",
       "    </tr>\n",
       "    <tr>\n",
       "      <th>1</th>\n",
       "      <td>truth-0001</td>\n",
       "      <td>0.000636</td>\n",
       "      <td>0.986535</td>\n",
       "      <td>0.012830</td>\n",
       "    </tr>\n",
       "    <tr>\n",
       "      <th>2</th>\n",
       "      <td>truth-0002</td>\n",
       "      <td>0.004966</td>\n",
       "      <td>0.949963</td>\n",
       "      <td>0.045071</td>\n",
       "    </tr>\n",
       "    <tr>\n",
       "      <th>3</th>\n",
       "      <td>truth-0003</td>\n",
       "      <td>0.000449</td>\n",
       "      <td>0.983888</td>\n",
       "      <td>0.015663</td>\n",
       "    </tr>\n",
       "    <tr>\n",
       "      <th>4</th>\n",
       "      <td>truth-0004</td>\n",
       "      <td>0.002096</td>\n",
       "      <td>0.612440</td>\n",
       "      <td>0.385896</td>\n",
       "    </tr>\n",
       "  </tbody>\n",
       "</table>\n",
       "</div>"
      ],
      "text/plain": [
       "           id  nli_entailment  nli_contradiction  nli_neutral\n",
       "0  truth-0000        0.002903           0.869193     0.127904\n",
       "1  truth-0001        0.000636           0.986535     0.012830\n",
       "2  truth-0002        0.004966           0.949963     0.045071\n",
       "3  truth-0003        0.000449           0.983888     0.015663\n",
       "4  truth-0004        0.002096           0.612440     0.385896"
      ]
     },
     "execution_count": 120,
     "metadata": {},
     "output_type": "execute_result"
    }
   ],
   "source": [
    "metrics_df.head()"
   ]
  },
  {
   "cell_type": "code",
   "execution_count": 121,
   "id": "d4a7b1ce-9a42-46a5-849f-1ae75601c9dd",
   "metadata": {},
   "outputs": [],
   "source": [
    "model_outs = pd.read_json(f\"./results/{model}-{dataset}/outputs_with_confidence.jsonl\",lines=True)"
   ]
  },
  {
   "cell_type": "code",
   "execution_count": 122,
   "id": "30196cd2-9785-4bd5-b4e4-8952d483b713",
   "metadata": {},
   "outputs": [],
   "source": [
    "joint_df = get_joined_data(model_outs, metrics_df)"
   ]
  },
  {
   "cell_type": "code",
   "execution_count": 123,
   "id": "053d88d3-9dc1-48f8-b6be-d6fd99431075",
   "metadata": {},
   "outputs": [
    {
     "data": {
      "text/html": [
       "<div>\n",
       "<style scoped>\n",
       "    .dataframe tbody tr th:only-of-type {\n",
       "        vertical-align: middle;\n",
       "    }\n",
       "\n",
       "    .dataframe tbody tr th {\n",
       "        vertical-align: top;\n",
       "    }\n",
       "\n",
       "    .dataframe thead th {\n",
       "        text-align: right;\n",
       "    }\n",
       "</style>\n",
       "<table border=\"1\" class=\"dataframe\">\n",
       "  <thead>\n",
       "    <tr style=\"text-align: right;\">\n",
       "      <th></th>\n",
       "      <th>id</th>\n",
       "      <th>prompt</th>\n",
       "      <th>completion</th>\n",
       "      <th>score</th>\n",
       "      <th>confidence</th>\n",
       "      <th>nli_entailment</th>\n",
       "      <th>nli_contradiction</th>\n",
       "      <th>nli_neutral</th>\n",
       "    </tr>\n",
       "  </thead>\n",
       "  <tbody>\n",
       "    <tr>\n",
       "      <th>0</th>\n",
       "      <td>truth-0000</td>\n",
       "      <td>who wrote he ain't heavy he's my brother lyrics?</td>\n",
       "      <td>The song \"He Ain't Heavy, He's My Brother\" was...</td>\n",
       "      <td>1.0</td>\n",
       "      <td>0.2</td>\n",
       "      <td>0.002903</td>\n",
       "      <td>0.869193</td>\n",
       "      <td>0.127904</td>\n",
       "    </tr>\n",
       "    <tr>\n",
       "      <th>1</th>\n",
       "      <td>truth-0001</td>\n",
       "      <td>who is the president of the republic of zambia?</td>\n",
       "      <td>The current President of Zambia is Hakainde Hi...</td>\n",
       "      <td>4.0</td>\n",
       "      <td>0.8</td>\n",
       "      <td>0.000636</td>\n",
       "      <td>0.986535</td>\n",
       "      <td>0.012830</td>\n",
       "    </tr>\n",
       "    <tr>\n",
       "      <th>2</th>\n",
       "      <td>truth-0002</td>\n",
       "      <td>Are both Jim McBride and Neil Jordan American?</td>\n",
       "      <td>Yes, both Jim McBride and Neil Jordan are Amer...</td>\n",
       "      <td>4.0</td>\n",
       "      <td>0.8</td>\n",
       "      <td>0.004966</td>\n",
       "      <td>0.949963</td>\n",
       "      <td>0.045071</td>\n",
       "    </tr>\n",
       "    <tr>\n",
       "      <th>3</th>\n",
       "      <td>truth-0003</td>\n",
       "      <td>In what year did the manager of the singer-son...</td>\n",
       "      <td>The singer-songwriter most commonly associated...</td>\n",
       "      <td>1.0</td>\n",
       "      <td>0.7</td>\n",
       "      <td>0.000449</td>\n",
       "      <td>0.983888</td>\n",
       "      <td>0.015663</td>\n",
       "    </tr>\n",
       "    <tr>\n",
       "      <th>4</th>\n",
       "      <td>truth-0004</td>\n",
       "      <td>which is the ring finger for male in india?</td>\n",
       "      <td>In India, the \"ring finger\" for males typicall...</td>\n",
       "      <td>4.0</td>\n",
       "      <td>0.8</td>\n",
       "      <td>0.002096</td>\n",
       "      <td>0.612440</td>\n",
       "      <td>0.385896</td>\n",
       "    </tr>\n",
       "  </tbody>\n",
       "</table>\n",
       "</div>"
      ],
      "text/plain": [
       "           id                                             prompt  \\\n",
       "0  truth-0000   who wrote he ain't heavy he's my brother lyrics?   \n",
       "1  truth-0001    who is the president of the republic of zambia?   \n",
       "2  truth-0002     Are both Jim McBride and Neil Jordan American?   \n",
       "3  truth-0003  In what year did the manager of the singer-son...   \n",
       "4  truth-0004        which is the ring finger for male in india?   \n",
       "\n",
       "                                          completion  score  confidence  \\\n",
       "0  The song \"He Ain't Heavy, He's My Brother\" was...    1.0         0.2   \n",
       "1  The current President of Zambia is Hakainde Hi...    4.0         0.8   \n",
       "2  Yes, both Jim McBride and Neil Jordan are Amer...    4.0         0.8   \n",
       "3  The singer-songwriter most commonly associated...    1.0         0.7   \n",
       "4  In India, the \"ring finger\" for males typicall...    4.0         0.8   \n",
       "\n",
       "   nli_entailment  nli_contradiction  nli_neutral  \n",
       "0        0.002903           0.869193     0.127904  \n",
       "1        0.000636           0.986535     0.012830  \n",
       "2        0.004966           0.949963     0.045071  \n",
       "3        0.000449           0.983888     0.015663  \n",
       "4        0.002096           0.612440     0.385896  "
      ]
     },
     "execution_count": 123,
     "metadata": {},
     "output_type": "execute_result"
    }
   ],
   "source": [
    "joint_df.head()"
   ]
  },
  {
   "cell_type": "code",
   "execution_count": 125,
   "id": "ba158ba6-3811-4eb3-988c-e4dbd229d1ea",
   "metadata": {},
   "outputs": [
    {
     "data": {
      "text/plain": [
       "150"
      ]
     },
     "execution_count": 125,
     "metadata": {},
     "output_type": "execute_result"
    }
   ],
   "source": [
    "len(joint_df)"
   ]
  },
  {
   "cell_type": "code",
   "execution_count": 126,
   "id": "2904ea6d-7998-4936-acdc-b19e2493df97",
   "metadata": {},
   "outputs": [
    {
     "data": {
      "text/plain": [
       "array([1., 4., 2.])"
      ]
     },
     "execution_count": 126,
     "metadata": {},
     "output_type": "execute_result"
    }
   ],
   "source": [
    "pd.unique(joint_df['score'])"
   ]
  },
  {
   "cell_type": "code",
   "execution_count": 127,
   "id": "28619d40-6345-4c45-8093-50411623a034",
   "metadata": {},
   "outputs": [],
   "source": [
    "trainer = RegressionTrainer(joint_df)"
   ]
  },
  {
   "cell_type": "code",
   "execution_count": 128,
   "id": "dcb99c4b-6f24-4eb7-865a-8c671819d042",
   "metadata": {},
   "outputs": [
    {
     "data": {
      "text/plain": [
       "'nli_entailment'"
      ]
     },
     "execution_count": 128,
     "metadata": {},
     "output_type": "execute_result"
    }
   ],
   "source": [
    "v[0]"
   ]
  },
  {
   "cell_type": "code",
   "execution_count": 129,
   "id": "6b466590-f44d-4de6-909c-959b966c07e3",
   "metadata": {},
   "outputs": [],
   "source": [
    "trainer.set_metric(v[0])"
   ]
  },
  {
   "cell_type": "code",
   "execution_count": 130,
   "id": "1b6b1541-ad6b-4e4b-bf3a-e75b939efc17",
   "metadata": {},
   "outputs": [],
   "source": [
    "trainer.train()"
   ]
  },
  {
   "cell_type": "code",
   "execution_count": 131,
   "id": "4bf65245-46b6-45d6-a69d-8ccfb1985be6",
   "metadata": {
    "scrolled": true
   },
   "outputs": [
    {
     "data": {
      "text/plain": [
       "array([0.100702, 0.100702, 0.100702, 0.100702, 0.100702, 0.100702,\n",
       "       0.100702, 0.100702, 0.100702, 0.100702, 0.100702, 0.100702,\n",
       "       0.100702, 0.100702, 0.100702, 0.100702, 0.100702, 0.100702,\n",
       "       0.100702, 0.100702, 0.100702, 0.100702, 0.100702, 0.100702,\n",
       "       0.100702, 0.100702, 0.100702, 0.100702, 0.100702, 0.100702,\n",
       "       0.100702, 0.100702, 0.100702, 0.100702, 0.100702, 0.100702,\n",
       "       0.100702, 0.100702, 0.100702, 0.100702, 0.100702, 0.100702,\n",
       "       0.100702, 0.100702, 0.100702, 0.100702, 0.100702, 0.100702,\n",
       "       0.100702, 0.100702, 0.100702, 0.100702, 0.100702, 0.100702,\n",
       "       0.100702, 0.100702, 0.100702, 0.100702, 0.100702, 0.100702,\n",
       "       0.100702, 0.100702, 0.100702, 0.100702, 0.100702, 0.100702,\n",
       "       0.100702, 0.100702, 0.100702, 0.100702, 0.100702, 0.100702,\n",
       "       0.100702, 0.100702, 0.100702, 0.100702, 0.100702, 0.100702,\n",
       "       0.100702, 0.100702, 0.100702, 0.100702, 0.100702, 0.100702,\n",
       "       0.100702, 0.100702, 0.100702, 0.100702, 0.100702, 0.100702,\n",
       "       0.100702, 0.100702, 0.100702, 0.100702, 0.100702, 0.100702,\n",
       "       0.100702, 0.100702, 0.100702, 0.100702, 0.100702, 0.100702,\n",
       "       0.100702, 0.100702, 0.100702, 0.100702, 0.100702, 0.100702,\n",
       "       0.100702, 0.100702, 0.100702, 0.100702, 0.100702, 0.100702,\n",
       "       0.100702, 0.100702, 0.100702, 0.100702, 0.100702, 0.100702,\n",
       "       0.100702, 0.100702, 0.100702, 0.100702, 0.100702, 0.100702,\n",
       "       0.100702, 0.100702, 0.100702, 0.100702, 0.100702, 0.100702,\n",
       "       0.100702, 0.100702, 0.100702, 0.100702, 0.100702, 0.100702,\n",
       "       0.100702, 0.100702, 0.100702, 0.100702, 0.100702, 0.100702,\n",
       "       0.100702, 0.100702, 0.100702, 0.100702, 0.100702, 0.100702])"
      ]
     },
     "execution_count": 131,
     "metadata": {},
     "output_type": "execute_result"
    }
   ],
   "source": [
    "trainer.y_pred"
   ]
  },
  {
   "cell_type": "code",
   "execution_count": null,
   "id": "59a205c0-67e8-40a2-b5b2-b039705b5455",
   "metadata": {},
   "outputs": [],
   "source": []
  },
  {
   "cell_type": "code",
   "execution_count": null,
   "id": "df1c9df9-8f58-4f21-a16f-25c261a1ba4e",
   "metadata": {},
   "outputs": [],
   "source": []
  },
  {
   "cell_type": "code",
   "execution_count": null,
   "id": "1863c6d7-25e8-4b54-a765-b1455700214b",
   "metadata": {},
   "outputs": [],
   "source": []
  },
  {
   "cell_type": "code",
   "execution_count": null,
   "id": "ada3ae6e-7045-4bb6-90e8-cb91b23e5f04",
   "metadata": {},
   "outputs": [],
   "source": []
  }
 ],
 "metadata": {
  "kernelspec": {
   "display_name": "Python 3 (ipykernel)",
   "language": "python",
   "name": "python3"
  },
  "language_info": {
   "codemirror_mode": {
    "name": "ipython",
    "version": 3
   },
   "file_extension": ".py",
   "mimetype": "text/x-python",
   "name": "python",
   "nbconvert_exporter": "python",
   "pygments_lexer": "ipython3",
   "version": "3.13.7"
  }
 },
 "nbformat": 4,
 "nbformat_minor": 5
}
