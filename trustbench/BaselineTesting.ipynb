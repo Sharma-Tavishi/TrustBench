{
 "cells": [
  {
   "cell_type": "code",
   "execution_count": 1,
   "id": "acef68de-b059-4132-9719-a214e7896da0",
   "metadata": {},
   "outputs": [
    {
     "name": "stderr",
     "output_type": "stream",
     "text": [
      "/home/vinayak/miniconda3/envs/trustBench/lib/python3.13/site-packages/requests/__init__.py:86: RequestsDependencyWarning: Unable to find acceptable character detection dependency (chardet or charset_normalizer).\n",
      "  warnings.warn(\n"
     ]
    }
   ],
   "source": [
    "import numpy as np\n",
    "import tqdm\n",
    "import json\n",
    "import os\n",
    "import glob\n",
    "import pandas as pd\n",
    "\n",
    "from runtime import TrustBenchRuntime"
   ]
  },
  {
   "cell_type": "markdown",
   "id": "12734f4d-001b-4cbd-8e2d-6f52967f0135",
   "metadata": {},
   "source": [
    "# Load test set"
   ]
  },
  {
   "cell_type": "code",
   "execution_count": 5,
   "id": "559f703d-31d1-4ca9-b9f0-377050132730",
   "metadata": {},
   "outputs": [],
   "source": [
    "file = \"./data/testsets/mixed_sample.jsonl\""
   ]
  },
  {
   "cell_type": "code",
   "execution_count": 6,
   "id": "55282f22-d33b-44db-b345-215ee41c6c73",
   "metadata": {},
   "outputs": [],
   "source": [
    "data = pd.read_json(file,lines=True)"
   ]
  },
  {
   "cell_type": "code",
   "execution_count": 7,
   "id": "3a801a23-60a6-4718-bad6-c0257ce1f689",
   "metadata": {},
   "outputs": [
    {
     "data": {
      "text/html": [
       "<div>\n",
       "<style scoped>\n",
       "    .dataframe tbody tr th:only-of-type {\n",
       "        vertical-align: middle;\n",
       "    }\n",
       "\n",
       "    .dataframe tbody tr th {\n",
       "        vertical-align: top;\n",
       "    }\n",
       "\n",
       "    .dataframe thead th {\n",
       "        text-align: right;\n",
       "    }\n",
       "</style>\n",
       "<table border=\"1\" class=\"dataframe\">\n",
       "  <thead>\n",
       "    <tr style=\"text-align: right;\">\n",
       "      <th></th>\n",
       "      <th>id</th>\n",
       "      <th>references</th>\n",
       "      <th>reference</th>\n",
       "      <th>human_label</th>\n",
       "      <th>prompt</th>\n",
       "    </tr>\n",
       "  </thead>\n",
       "  <tbody>\n",
       "    <tr>\n",
       "      <th>0</th>\n",
       "      <td>truth-0062</td>\n",
       "      <td>[hardcore pornography]</td>\n",
       "      <td>hardcore pornography</td>\n",
       "      <td>high</td>\n",
       "      <td>Snoop Dogg's Doggystyle and Snoop Dogg's Hustl...</td>\n",
       "    </tr>\n",
       "    <tr>\n",
       "      <th>1</th>\n",
       "      <td>truth-0119</td>\n",
       "      <td>[explosives]</td>\n",
       "      <td>explosives</td>\n",
       "      <td>high</td>\n",
       "      <td>ICI House is now named after the company that ...</td>\n",
       "    </tr>\n",
       "    <tr>\n",
       "      <th>2</th>\n",
       "      <td>truth-0046</td>\n",
       "      <td>[a priest]</td>\n",
       "      <td>a priest</td>\n",
       "      <td>high</td>\n",
       "      <td>What role did Ben Keaton play in the british f...</td>\n",
       "    </tr>\n",
       "    <tr>\n",
       "      <th>3</th>\n",
       "      <td>truth-0039</td>\n",
       "      <td>[1924November 22, 1993]</td>\n",
       "      <td>1924November 22, 1993</td>\n",
       "      <td>high</td>\n",
       "      <td>When was one of the teacher of Nikolai Lugansk...</td>\n",
       "    </tr>\n",
       "    <tr>\n",
       "      <th>4</th>\n",
       "      <td>truth-0047</td>\n",
       "      <td>[$60 million]</td>\n",
       "      <td>$60 million</td>\n",
       "      <td>high</td>\n",
       "      <td>What was the budget of the film in which Kodi ...</td>\n",
       "    </tr>\n",
       "  </tbody>\n",
       "</table>\n",
       "</div>"
      ],
      "text/plain": [
       "           id               references              reference human_label  \\\n",
       "0  truth-0062   [hardcore pornography]   hardcore pornography        high   \n",
       "1  truth-0119             [explosives]             explosives        high   \n",
       "2  truth-0046               [a priest]               a priest        high   \n",
       "3  truth-0039  [1924November 22, 1993]  1924November 22, 1993        high   \n",
       "4  truth-0047            [$60 million]            $60 million        high   \n",
       "\n",
       "                                              prompt  \n",
       "0  Snoop Dogg's Doggystyle and Snoop Dogg's Hustl...  \n",
       "1  ICI House is now named after the company that ...  \n",
       "2  What role did Ben Keaton play in the british f...  \n",
       "3  When was one of the teacher of Nikolai Lugansk...  \n",
       "4  What was the budget of the film in which Kodi ...  "
      ]
     },
     "execution_count": 7,
     "metadata": {},
     "output_type": "execute_result"
    }
   ],
   "source": [
    "data.head()"
   ]
  },
  {
   "cell_type": "code",
   "execution_count": 9,
   "id": "f38596dc-656b-403c-b0a5-cdf4937f98c5",
   "metadata": {},
   "outputs": [
    {
     "name": "stderr",
     "output_type": "stream",
     "text": [
      "/home/vinayak/miniconda3/envs/trustBench/lib/python3.13/site-packages/sklearn/base.py:442: InconsistentVersionWarning: Trying to unpickle estimator LinearDiscriminantAnalysis from version 1.6.0 when using version 1.7.2. This might lead to breaking code or invalid results. Use at your own risk. For more info please refer to:\n",
      "https://scikit-learn.org/stable/model_persistence.html#security-maintainability-limitations\n",
      "  warnings.warn(\n"
     ]
    },
    {
     "ename": "FileNotFoundError",
     "evalue": "[Errno 2] No such file or directory: 'saved_models/runtime_weights/llama3.2:1b_mixed_qa.json'",
     "output_type": "error",
     "traceback": [
      "\u001b[31m---------------------------------------------------------------------------\u001b[39m",
      "\u001b[31mFileNotFoundError\u001b[39m                         Traceback (most recent call last)",
      "\u001b[36mCell\u001b[39m\u001b[36m \u001b[39m\u001b[32mIn[9]\u001b[39m\u001b[32m, line 1\u001b[39m\n\u001b[32m----> \u001b[39m\u001b[32m1\u001b[39m runner = \u001b[43mTrustBenchRuntime\u001b[49m\u001b[43m(\u001b[49m\u001b[43mmodel_name\u001b[49m\u001b[43m=\u001b[49m\u001b[33;43m\"\u001b[39;49m\u001b[33;43mllama3.2:1b\u001b[39;49m\u001b[33;43m\"\u001b[39;49m\u001b[43m,\u001b[49m\u001b[43mdataset\u001b[49m\u001b[43m=\u001b[49m\u001b[33;43m\"\u001b[39;49m\u001b[33;43mmixed_qa\u001b[39;49m\u001b[33;43m\"\u001b[39;49m\u001b[43m)\u001b[49m\n",
      "\u001b[36mFile \u001b[39m\u001b[32m/mnt/d/git/TrustBench/trustbench/runtime.py:45\u001b[39m, in \u001b[36mTrustBenchRuntime.__init__\u001b[39m\u001b[34m(self, model_name, dataset, base_dir, metric_weights, safety_classifier, publication_whitelist, verbose)\u001b[39m\n\u001b[32m     43\u001b[39m \u001b[38;5;66;03m## Need to update these to make it a better default\u001b[39;00m\n\u001b[32m     44\u001b[39m \u001b[38;5;28;01mif\u001b[39;00m(metric_weights \u001b[38;5;129;01mis\u001b[39;00m \u001b[38;5;28;01mNone\u001b[39;00m):\n\u001b[32m---> \u001b[39m\u001b[32m45\u001b[39m     \u001b[38;5;28;43mself\u001b[39;49m\u001b[43m.\u001b[49m\u001b[43mload_metric_weights\u001b[49m\u001b[43m(\u001b[49m\u001b[38;5;28;43;01mNone\u001b[39;49;00m\u001b[43m)\u001b[49m\n\u001b[32m     46\u001b[39m \u001b[38;5;28;01melse\u001b[39;00m:\n\u001b[32m     47\u001b[39m     \u001b[38;5;28mself\u001b[39m.metric_weights = metric_weights\n",
      "\u001b[36mFile \u001b[39m\u001b[32m/mnt/d/git/TrustBench/trustbench/runtime.py:57\u001b[39m, in \u001b[36mTrustBenchRuntime.load_metric_weights\u001b[39m\u001b[34m(self, json_path)\u001b[39m\n\u001b[32m     55\u001b[39m \u001b[38;5;28;01mif\u001b[39;00m(json_path \u001b[38;5;129;01mis\u001b[39;00m \u001b[38;5;28;01mNone\u001b[39;00m):\n\u001b[32m     56\u001b[39m     json_path = \u001b[33mf\u001b[39m\u001b[33m\"\u001b[39m\u001b[33msaved_models/runtime_weights/\u001b[39m\u001b[38;5;132;01m{\u001b[39;00m\u001b[38;5;28mself\u001b[39m.model_name\u001b[38;5;132;01m}\u001b[39;00m\u001b[33m_\u001b[39m\u001b[38;5;132;01m{\u001b[39;00m\u001b[38;5;28mself\u001b[39m.dataset\u001b[38;5;132;01m}\u001b[39;00m\u001b[33m.json\u001b[39m\u001b[33m\"\u001b[39m\n\u001b[32m---> \u001b[39m\u001b[32m57\u001b[39m \u001b[38;5;28;01mwith\u001b[39;00m \u001b[38;5;28;43mopen\u001b[39;49m\u001b[43m(\u001b[49m\u001b[43mjson_path\u001b[49m\u001b[43m)\u001b[49m \u001b[38;5;28;01mas\u001b[39;00m f:\n\u001b[32m     58\u001b[39m     \u001b[38;5;28mself\u001b[39m.metric_weights = json.loads(f.read().replace(\u001b[33m\"\u001b[39m\u001b[33mNaN\u001b[39m\u001b[33m\"\u001b[39m, \u001b[33m\"\u001b[39m\u001b[33mnull\u001b[39m\u001b[33m\"\u001b[39m))\n",
      "\u001b[31mFileNotFoundError\u001b[39m: [Errno 2] No such file or directory: 'saved_models/runtime_weights/llama3.2:1b_mixed_qa.json'"
     ]
    }
   ],
   "source": [
    "runner = TrustBenchRuntime(model_name=\"llama3.2:1b\",dataset=\"mixed_qa\")"
   ]
  },
  {
   "cell_type": "code",
   "execution_count": null,
   "id": "4cd3d93a-916b-4e70-81ab-9225e03130b9",
   "metadata": {},
   "outputs": [],
   "source": []
  },
  {
   "cell_type": "code",
   "execution_count": null,
   "id": "65976548-08f9-464a-9e69-ed960f372ab8",
   "metadata": {},
   "outputs": [],
   "source": []
  },
  {
   "cell_type": "code",
   "execution_count": null,
   "id": "1b30a148-43d5-499c-a6cf-04b974d6947e",
   "metadata": {},
   "outputs": [],
   "source": []
  },
  {
   "cell_type": "code",
   "execution_count": null,
   "id": "d5e2b5fc-d46a-4cb3-9fcd-6a61f83606b4",
   "metadata": {},
   "outputs": [],
   "source": []
  },
  {
   "cell_type": "code",
   "execution_count": null,
   "id": "ab4cc26a-8305-4435-9ecb-587ecf0732eb",
   "metadata": {},
   "outputs": [],
   "source": []
  },
  {
   "cell_type": "code",
   "execution_count": null,
   "id": "9015f557-4f0e-4527-877f-03fba9ee8b7c",
   "metadata": {},
   "outputs": [],
   "source": []
  },
  {
   "cell_type": "code",
   "execution_count": null,
   "id": "3ef54196-baf0-422b-aed8-63559f582277",
   "metadata": {},
   "outputs": [],
   "source": []
  },
  {
   "cell_type": "code",
   "execution_count": null,
   "id": "4db8c144-f481-42e8-a0dd-8e30daac35ec",
   "metadata": {},
   "outputs": [],
   "source": []
  },
  {
   "cell_type": "code",
   "execution_count": null,
   "id": "2a4b74e5-2c27-43f7-afe5-3cfd5bba9183",
   "metadata": {},
   "outputs": [],
   "source": []
  }
 ],
 "metadata": {
  "kernelspec": {
   "display_name": "Python 3 (ipykernel)",
   "language": "python",
   "name": "python3"
  },
  "language_info": {
   "codemirror_mode": {
    "name": "ipython",
    "version": 3
   },
   "file_extension": ".py",
   "mimetype": "text/x-python",
   "name": "python",
   "nbconvert_exporter": "python",
   "pygments_lexer": "ipython3",
   "version": "3.13.7"
  }
 },
 "nbformat": 4,
 "nbformat_minor": 5
}
