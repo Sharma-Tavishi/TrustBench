{
 "cells": [
  {
   "cell_type": "code",
   "execution_count": 3,
   "id": "ce387ae1-0bf5-4ca3-943a-b9d98d1df63e",
   "metadata": {},
   "outputs": [],
   "source": [
    "import matplotlib.pyplot as plt\n",
    "import numpy as np\n",
    "\n",
    "import pandas as pd"
   ]
  },
  {
   "cell_type": "markdown",
   "id": "b32dbc1d-427c-4be2-9262-773bfbea2ca9",
   "metadata": {},
   "source": [
    "## Load dataset"
   ]
  },
  {
   "cell_type": "code",
   "execution_count": 8,
   "id": "f862643c-e2bf-4512-bd1d-9cace692da49",
   "metadata": {},
   "outputs": [
    {
     "ename": "SyntaxError",
     "evalue": "unterminated string literal (detected at line 2) (2311589879.py, line 2)",
     "output_type": "error",
     "traceback": [
      "  \u001b[36mCell\u001b[39m\u001b[36m \u001b[39m\u001b[32mIn[8]\u001b[39m\u001b[32m, line 2\u001b[39m\n\u001b[31m    \u001b[39m\u001b[31meval_dataset = \"fin_qa\u001b[39m\n                   ^\n\u001b[31mSyntaxError\u001b[39m\u001b[31m:\u001b[39m unterminated string literal (detected at line 2)\n"
     ]
    }
   ],
   "source": [
    "model = \"llama3:8b\"\n",
    "eval_dataset = \"fin_qa\"\n",
    "work_dataset = \"fin_qa\""
   ]
  },
  {
   "cell_type": "code",
   "execution_count": 5,
   "id": "fc511926-ec77-42d8-bd1a-52d2b753f066",
   "metadata": {},
   "outputs": [],
   "source": [
    "ds = pd.read_json(\"./eval/llama3:8b+fin_qa-fin_qa.json\",lines=True)"
   ]
  },
  {
   "cell_type": "code",
   "execution_count": 13,
   "id": "36683b9a-5205-4358-bc57-e5cc846c8cf3",
   "metadata": {},
   "outputs": [
    {
     "data": {
      "text/plain": [
       "<NumpyExtensionArray>\n",
       "[1, 1, 1, 1, 1, 1, 1, 1, 1, 1, 1, 1, 1, 1, 1, 1, 1, 1, 1, 1, 1, 1, 1, 1, 1, 1,\n",
       " 1, 1, 1, 1, 1, 1, 1]\n",
       "Length: 33, dtype: int64"
      ]
     },
     "execution_count": 13,
     "metadata": {},
     "output_type": "execute_result"
    }
   ],
   "source": [
    "ds['llm_score'].array"
   ]
  },
  {
   "cell_type": "code",
   "execution_count": 7,
   "id": "f6b45ac6-5305-4413-8360-46850c701a87",
   "metadata": {},
   "outputs": [
    {
     "data": {
      "text/plain": [
       "0     2.377556\n",
       "1     2.241822\n",
       "2     2.159815\n",
       "3     2.370375\n",
       "4     2.250057\n",
       "5     2.327925\n",
       "6     2.359703\n",
       "7     2.374636\n",
       "8     2.370737\n",
       "9     2.249943\n",
       "10    2.360635\n",
       "11    2.351085\n",
       "12    2.353615\n",
       "13    2.376388\n",
       "14    2.367163\n",
       "15    2.377308\n",
       "16    2.279287\n",
       "17    2.373734\n",
       "18    2.349972\n",
       "19    2.199954\n",
       "20    2.377599\n",
       "21    2.250129\n",
       "22    2.332884\n",
       "23    2.348185\n",
       "24    2.374532\n",
       "25    2.326561\n",
       "26    2.365476\n",
       "27    2.244712\n",
       "28    2.357760\n",
       "29    2.239206\n",
       "30    2.353689\n",
       "31    2.305685\n",
       "32    2.374298\n",
       "Name: trustscore, dtype: float64"
      ]
     },
     "execution_count": 7,
     "metadata": {},
     "output_type": "execute_result"
    }
   ],
   "source": [
    "ds['trustscore']"
   ]
  },
  {
   "cell_type": "code",
   "execution_count": null,
   "id": "c2bd9e6c-bdfd-41a3-ba9f-09282abc61f0",
   "metadata": {},
   "outputs": [],
   "source": []
  }
 ],
 "metadata": {
  "kernelspec": {
   "display_name": "Python 3 (ipykernel)",
   "language": "python",
   "name": "python3"
  },
  "language_info": {
   "codemirror_mode": {
    "name": "ipython",
    "version": 3
   },
   "file_extension": ".py",
   "mimetype": "text/x-python",
   "name": "python",
   "nbconvert_exporter": "python",
   "pygments_lexer": "ipython3",
   "version": "3.13.7"
  }
 },
 "nbformat": 4,
 "nbformat_minor": 5
}
