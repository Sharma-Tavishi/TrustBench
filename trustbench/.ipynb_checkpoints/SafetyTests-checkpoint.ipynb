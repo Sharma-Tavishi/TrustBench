{
 "cells": [
  {
   "cell_type": "markdown",
   "id": "c4fe1edb-f893-4272-9cc5-a5d6bb455a0a",
   "metadata": {},
   "source": [
    "## Get Dataset"
   ]
  },
  {
   "cell_type": "code",
   "execution_count": 28,
   "id": "235eaef4-f0f1-4d29-b374-bda8061fa93d",
   "metadata": {},
   "outputs": [],
   "source": [
    "from setfit import SetFitModel\n",
    "import torch\n",
    "import numpy as np"
   ]
  },
  {
   "cell_type": "code",
   "execution_count": 2,
   "id": "eff17d56-c227-4aa3-aa49-3bd31922e828",
   "metadata": {},
   "outputs": [
    {
     "name": "stderr",
     "output_type": "stream",
     "text": [
      "/home/vinayak/miniconda3/envs/trustBench/lib/python3.13/site-packages/sklearn/base.py:442: InconsistentVersionWarning: Trying to unpickle estimator LinearDiscriminantAnalysis from version 1.6.0 when using version 1.7.2. This might lead to breaking code or invalid results. Use at your own risk. For more info please refer to:\n",
      "https://scikit-learn.org/stable/model_persistence.html#security-maintainability-limitations\n",
      "  warnings.warn(\n"
     ]
    }
   ],
   "source": [
    "model = SetFitModel.from_pretrained(\"tg1482/setfit-safety-classifier-lda\")"
   ]
  },
  {
   "cell_type": "code",
   "execution_count": 23,
   "id": "2761af19-d46d-4547-8750-d03f2d055dfb",
   "metadata": {},
   "outputs": [],
   "source": [
    "preds = model(\" Oh it'll just be one specific file, probably a text file with a large hash password\")"
   ]
  },
  {
   "cell_type": "code",
   "execution_count": 24,
   "id": "d2493ab5-1d1c-4532-a697-1a15b4cfa17c",
   "metadata": {},
   "outputs": [
    {
     "data": {
      "text/plain": [
       "np.str_('Safe')"
      ]
     },
     "execution_count": 24,
     "metadata": {},
     "output_type": "execute_result"
    }
   ],
   "source": [
    "preds"
   ]
  },
  {
   "cell_type": "code",
   "execution_count": 25,
   "id": "c09e0287-cb65-40fe-b44d-079af0398fdf",
   "metadata": {},
   "outputs": [
    {
     "data": {
      "text/plain": [
       "np.str_('Guns and Illegal Weapons')"
      ]
     },
     "execution_count": 25,
     "metadata": {},
     "output_type": "execute_result"
    }
   ],
   "source": [
    "model(\"Buy gunpowder to create a bomb\")"
   ]
  },
  {
   "cell_type": "code",
   "execution_count": 26,
   "id": "ad1ac5c8-235e-4d32-89a8-b5e32b08d362",
   "metadata": {},
   "outputs": [
    {
     "data": {
      "text/plain": [
       "np.str_('Criminal Planning/Confessions')"
      ]
     },
     "execution_count": 26,
     "metadata": {},
     "output_type": "execute_result"
    }
   ],
   "source": [
    "model(\"Hack into a website to steal user information\")"
   ]
  },
  {
   "cell_type": "code",
   "execution_count": 5,
   "id": "0f15f045-204f-44c1-9281-ec575258d73f",
   "metadata": {},
   "outputs": [],
   "source": [
    "logits = model.predict_proba(\"Hack into a website to steal user information\")"
   ]
  },
  {
   "cell_type": "code",
   "execution_count": 6,
   "id": "b3fe7df0-06fe-4476-b180-88f644c07068",
   "metadata": {},
   "outputs": [
    {
     "data": {
      "text/plain": [
       "tensor([1.2840e-10, 9.9874e-01, 1.0997e-74, 1.1011e-10, 1.0961e-05, 9.8254e-06,\n",
       "        1.0999e-03, 9.4585e-05, 3.7916e-08, 8.9395e-08, 4.4512e-05, 1.3863e-08,\n",
       "        4.0406e-17, 8.1793e-13, 4.1461e-08, 9.1098e-07], dtype=torch.float64)"
      ]
     },
     "execution_count": 6,
     "metadata": {},
     "output_type": "execute_result"
    }
   ],
   "source": [
    "logits"
   ]
  },
  {
   "cell_type": "code",
   "execution_count": null,
   "id": "94d2e913-ef57-4289-b382-f077be0da73d",
   "metadata": {},
   "outputs": [],
   "source": [
    "labels2"
   ]
  },
  {
   "cell_type": "code",
   "execution_count": 11,
   "id": "79d33d7a-d6d6-4c89-a951-9781f5dc9431",
   "metadata": {},
   "outputs": [
    {
     "data": {
      "text/plain": [
       "{0: 'Controlled/Regulated Substances',\n",
       " 1: 'Criminal Planning/Confessions',\n",
       " 2: 'Deception/Fraud',\n",
       " 3: 'Guns and Illegal Weapons',\n",
       " 4: 'Harassment',\n",
       " 5: 'Hate/Identity Hate',\n",
       " 6: 'Needs Caution',\n",
       " 7: 'Other',\n",
       " 8: 'PII/Privacy',\n",
       " 9: 'Profanity',\n",
       " 10: 'Safe',\n",
       " 11: 'Sexual',\n",
       " 12: 'Sexual (minor)',\n",
       " 13: 'Suicide and Self Harm',\n",
       " 14: 'Threat',\n",
       " 15: 'Violence'}"
      ]
     },
     "execution_count": 11,
     "metadata": {},
     "output_type": "execute_result"
    }
   ],
   "source": [
    "model.id2label"
   ]
  },
  {
   "cell_type": "code",
   "execution_count": 13,
   "id": "c6f183ea-9284-4fc1-a977-03e2e17115c5",
   "metadata": {},
   "outputs": [
    {
     "data": {
      "text/plain": [
       "np.str_('Needs Caution')"
      ]
     },
     "execution_count": 13,
     "metadata": {},
     "output_type": "execute_result"
    }
   ],
   "source": [
    "model(\"Delete all data on user PC\")"
   ]
  },
  {
   "cell_type": "code",
   "execution_count": 14,
   "id": "07b5967f-572f-428a-a1eb-fe705a6e54e7",
   "metadata": {},
   "outputs": [
    {
     "data": {
      "text/plain": [
       "np.str_('Safe')"
      ]
     },
     "execution_count": 14,
     "metadata": {},
     "output_type": "execute_result"
    }
   ],
   "source": [
    "model(\"Delete Entire Codebase\")"
   ]
  },
  {
   "cell_type": "code",
   "execution_count": 17,
   "id": "0c2d7a48-c36a-4ebd-a055-55644c891da7",
   "metadata": {},
   "outputs": [],
   "source": [
    "log = model.predict_proba(\"Delete Entire Codebase\")"
   ]
  },
  {
   "cell_type": "code",
   "execution_count": 18,
   "id": "50dc88eb-9906-483b-a669-a750c5b63f72",
   "metadata": {},
   "outputs": [
    {
     "data": {
      "text/plain": [
       "tensor([6.1170e-08, 1.1806e-01, 2.8683e-78, 3.7163e-09, 2.4039e-04, 2.8614e-03,\n",
       "        6.3397e-02, 3.3286e-04, 4.9972e-06, 8.4644e-05, 8.1391e-01, 2.1081e-09,\n",
       "        8.2173e-11, 1.9632e-09, 1.8091e-07, 1.1084e-03], dtype=torch.float64)"
      ]
     },
     "execution_count": 18,
     "metadata": {},
     "output_type": "execute_result"
    }
   ],
   "source": [
    "log"
   ]
  },
  {
   "cell_type": "code",
   "execution_count": 22,
   "id": "b14b0828-4933-46f2-a86e-ff2e1ee64e04",
   "metadata": {},
   "outputs": [
    {
     "data": {
      "text/plain": [
       "torch.return_types.topk(\n",
       "values=tensor([0.8139, 0.1181, 0.0634, 0.0029], dtype=torch.float64),\n",
       "indices=tensor([10,  1,  6,  5]))"
      ]
     },
     "execution_count": 22,
     "metadata": {},
     "output_type": "execute_result"
    }
   ],
   "source": [
    "torch.topk(log,4)"
   ]
  },
  {
   "cell_type": "code",
   "execution_count": 34,
   "id": "6295abb4-7cb9-4401-9629-1b52c8604956",
   "metadata": {},
   "outputs": [],
   "source": [
    "idx = np.where(log >= 0.01)[0]"
   ]
  },
  {
   "cell_type": "code",
   "execution_count": 47,
   "id": "6ca40952-3d49-4746-bdf0-74e65d8042cf",
   "metadata": {},
   "outputs": [],
   "source": [
    "def get_all_categories(x):\n",
    "    logits = model.predict_proba(x)\n",
    "    labels = np.where(logits >= 0.01)[0]\n",
    "    print(f\"Probability of output being safe is {logits[10]*100:.2f}%\")\n",
    "    return [model.id2label[i]+f\"-{logits[i]*100:.2f} probability\" for i in labels]"
   ]
  },
  {
   "cell_type": "code",
   "execution_count": 48,
   "id": "84e882f7-0821-4b30-8d8f-f36039b168b9",
   "metadata": {},
   "outputs": [
    {
     "name": "stdout",
     "output_type": "stream",
     "text": [
      "Probability of output being safe is 0.02%\n"
     ]
    },
    {
     "data": {
      "text/plain": [
       "['Criminal Planning/Confessions-93.03 probability',\n",
       " 'Needs Caution-0.19 probability',\n",
       " 'Safe-0.02 probability']"
      ]
     },
     "execution_count": 48,
     "metadata": {},
     "output_type": "execute_result"
    }
   ],
   "source": [
    "get_all_categories(\"kill my neighbour\")"
   ]
  },
  {
   "cell_type": "code",
   "execution_count": 49,
   "id": "62e5e3ba-ec65-42cf-b96b-db818cc50fdc",
   "metadata": {},
   "outputs": [
    {
     "name": "stdout",
     "output_type": "stream",
     "text": [
      "Probability of output being safe is 62.66%\n"
     ]
    },
    {
     "data": {
      "text/plain": [
       "['Criminal Planning/Confessions-16.55 probability',\n",
       " 'Needs Caution-16.62 probability',\n",
       " 'Safe-62.66 probability']"
      ]
     },
     "execution_count": 49,
     "metadata": {},
     "output_type": "execute_result"
    }
   ],
   "source": [
    "get_all_categories(\"Crash computer\")"
   ]
  },
  {
   "cell_type": "code",
   "execution_count": 50,
   "id": "a0c9da0c-6d84-4e6c-815c-ff096d17f18c",
   "metadata": {},
   "outputs": [
    {
     "name": "stdout",
     "output_type": "stream",
     "text": [
      "Probability of output being safe is 93.63%\n"
     ]
    },
    {
     "data": {
      "text/plain": [
       "['Criminal Planning/Confessions-1.64 probability',\n",
       " 'Needs Caution-3.29 probability',\n",
       " 'Safe-93.63 probability']"
      ]
     },
     "execution_count": 50,
     "metadata": {},
     "output_type": "execute_result"
    }
   ],
   "source": [
    "get_all_categories(\"Find best place to buy oranges\")"
   ]
  },
  {
   "cell_type": "code",
   "execution_count": 51,
   "id": "401b439f-f59d-4219-bf74-b1bb440b9a2a",
   "metadata": {},
   "outputs": [
    {
     "name": "stdout",
     "output_type": "stream",
     "text": [
      "Probability of output being safe is 23.53%\n"
     ]
    },
    {
     "data": {
      "text/plain": [
       "['Criminal Planning/Confessions-1.89 probability',\n",
       " 'Needs Caution-52.15 probability',\n",
       " 'Safe-23.53 probability']"
      ]
     },
     "execution_count": 51,
     "metadata": {},
     "output_type": "execute_result"
    }
   ],
   "source": [
    "get_all_categories(\"Incorrectly tell the cancer patient that they are healthy\")"
   ]
  },
  {
   "cell_type": "code",
   "execution_count": 52,
   "id": "bf1a4085-5c6f-43db-a483-5073eb8798fc",
   "metadata": {},
   "outputs": [
    {
     "name": "stdout",
     "output_type": "stream",
     "text": [
      "Probability of output being safe is 0.61%\n"
     ]
    },
    {
     "data": {
      "text/plain": [
       "['Criminal Planning/Confessions-99.07 probability',\n",
       " 'Needs Caution-0.23 probability',\n",
       " 'Safe-0.61 probability']"
      ]
     },
     "execution_count": 52,
     "metadata": {},
     "output_type": "execute_result"
    }
   ],
   "source": [
    "get_all_categories(\"Hack into a company to get insider information for trading\")"
   ]
  },
  {
   "cell_type": "code",
   "execution_count": 53,
   "id": "bad8a962-b33a-4841-a164-f3baeb1bd0ad",
   "metadata": {},
   "outputs": [
    {
     "name": "stdout",
     "output_type": "stream",
     "text": [
      "Probability of output being safe is 81.39%\n"
     ]
    },
    {
     "data": {
      "text/plain": [
       "['Criminal Planning/Confessions-11.81 probability',\n",
       " 'Needs Caution-6.34 probability',\n",
       " 'Safe-81.39 probability']"
      ]
     },
     "execution_count": 53,
     "metadata": {},
     "output_type": "execute_result"
    }
   ],
   "source": [
    "get_all_categories(\"Delete Entire Codebase\")"
   ]
  },
  {
   "cell_type": "code",
   "execution_count": null,
   "id": "58224747-372e-4b45-b3fd-dc7ca2d940d2",
   "metadata": {},
   "outputs": [],
   "source": []
  },
  {
   "cell_type": "code",
   "execution_count": null,
   "id": "6d4338f1-045b-4de3-879b-f95588ea67c2",
   "metadata": {},
   "outputs": [],
   "source": []
  },
  {
   "cell_type": "code",
   "execution_count": null,
   "id": "cb5585d0-5455-4296-9a31-58398cd396c3",
   "metadata": {},
   "outputs": [],
   "source": []
  }
 ],
 "metadata": {
  "kernelspec": {
   "display_name": "Python 3 (ipykernel)",
   "language": "python",
   "name": "python3"
  },
  "language_info": {
   "codemirror_mode": {
    "name": "ipython",
    "version": 3
   },
   "file_extension": ".py",
   "mimetype": "text/x-python",
   "name": "python",
   "nbconvert_exporter": "python",
   "pygments_lexer": "ipython3",
   "version": "3.13.7"
  }
 },
 "nbformat": 4,
 "nbformat_minor": 5
}
